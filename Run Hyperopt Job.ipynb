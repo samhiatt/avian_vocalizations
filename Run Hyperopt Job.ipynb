{
 "cells": [
  {
   "cell_type": "code",
   "execution_count": 1,
   "metadata": {},
   "outputs": [],
   "source": [
    "%reload_ext autoreload\n",
    "%autoreload 2"
   ]
  },
  {
   "cell_type": "code",
   "execution_count": 2,
   "metadata": {},
   "outputs": [
    {
     "name": "stderr",
     "output_type": "stream",
     "text": [
      "Using TensorFlow backend.\n"
     ]
    },
    {
     "name": "stdout",
     "output_type": "stream",
     "text": [
      "             IPython  {'7.8.0'}\n",
      "          tensorflow  {'1.14.0'}\n",
      "             pymongo  {'3.9.0'}\n",
      " avian_vocalizations  {'0.0.1'}\n",
      "            hyperopt  {'0.2.1'}\n",
      "           toolbench  {'0.0.1'}\n"
     ]
    }
   ],
   "source": [
    "import warnings; warnings.simplefilter('ignore', FutureWarning)\n",
    "import tensorflow as tf\n",
    "tf.compat.v1.logging.set_verbosity(tf.compat.v1.logging.ERROR)\n",
    "\n",
    "import pymongo\n",
    "from pymongo import MongoClient\n",
    "from avian_vocalizations.evaluator import ParamSpace, EvaluatorFactory\n",
    "from hyperopt.mongoexp import MongoTrials, MongoCtrl, MongoJobs, MongoWorker\n",
    "from hyperopt import hp, fmin, tpe\n",
    "from vastai.api import VastClient\n",
    "from toolbench.tools import print_module_versions\n",
    "print_module_versions(globals())"
   ]
  },
  {
   "cell_type": "code",
   "execution_count": 3,
   "metadata": {},
   "outputs": [
    {
     "name": "stdout",
     "output_type": "stream",
     "text": [
      "api_key_file:  ~/.vast_api_key\n",
      "Initializing vast.ai client with api_key from /home/sam/.vast_api_key.\n",
      "Already logged in.\n"
     ]
    }
   ],
   "source": [
    "vast = VastClient().authenticate()"
   ]
  },
  {
   "cell_type": "markdown",
   "metadata": {},
   "source": [
    "## Test tunnel to mongodb"
   ]
  },
  {
   "cell_type": "code",
   "execution_count": 4,
   "metadata": {},
   "outputs": [],
   "source": [
    "instance = vast.get_instance(400808)\n",
    "remote = instance.pb_remote"
   ]
  },
  {
   "cell_type": "code",
   "execution_count": 5,
   "metadata": {},
   "outputs": [
    {
     "name": "stdout",
     "output_type": "stream",
     "text": [
      "ssh root@ssh4.vast.ai -p 10808 -i /home/sam/.ssh/vastai\n"
     ]
    }
   ],
   "source": [
    "print(instance.ssh_connection_command)"
   ]
  },
  {
   "cell_type": "code",
   "execution_count": 6,
   "metadata": {
    "scrolled": true
   },
   "outputs": [
    {
     "name": "stdout",
     "output_type": "stream",
     "text": [
      "2019-10-26T21:02:47.435+0000 I NETWORK  [initandlisten] waiting for connections on port 27017\n",
      "2019-10-26T21:02:48.017+0000 I FTDC     [ftdc] Unclean full-time diagnostic data capture shutdown detected, found interim file, some metrics may have been lost. OK\n",
      "\n"
     ]
    }
   ],
   "source": [
    "print(remote['tail']('/var/log/mongodb/mongodb.log','-n2'))"
   ]
  },
  {
   "cell_type": "code",
   "execution_count": 7,
   "metadata": {},
   "outputs": [
    {
     "name": "stdout",
     "output_type": "stream",
     "text": [
      "['admin', 'avian_vocalizations', 'config', 'hyperopt', 'local']\n"
     ]
    }
   ],
   "source": [
    "with instance.get_tunnel(27017,27017) as tunn:\n",
    "    mongo = MongoClient('localhost', 27017)\n",
    "    print(mongo.list_database_names())"
   ]
  },
  {
   "cell_type": "code",
   "execution_count": 10,
   "metadata": {},
   "outputs": [
    {
     "data": {
      "text/plain": [
       "{27017: <SshTunnel (defunct)>}"
      ]
     },
     "execution_count": 10,
     "metadata": {},
     "output_type": "execute_result"
    }
   ],
   "source": [
    "instance._tunnels"
   ]
  },
  {
   "cell_type": "code",
   "execution_count": 11,
   "metadata": {},
   "outputs": [
    {
     "data": {
      "text/plain": [
       "True"
      ]
     },
     "execution_count": 11,
     "metadata": {},
     "output_type": "execute_result"
    }
   ],
   "source": [
    "instance._ssh_machine_alive"
   ]
  },
  {
   "cell_type": "markdown",
   "metadata": {},
   "source": [
    "## Hot update evaluator code"
   ]
  },
  {
   "cell_type": "code",
   "execution_count": 77,
   "metadata": {},
   "outputs": [
    {
     "data": {
      "text/plain": [
       "<SFTPAttributes: [ size=4895 uid=0 gid=0 mode=0o100644 atime=1572122598 mtime=1572123513 ]>"
      ]
     },
     "execution_count": 77,
     "metadata": {},
     "output_type": "execute_result"
    }
   ],
   "source": [
    "remote.sftp.put('avian_vocalizations/evaluator.py',\n",
    "                '/root/avian_vocalizations/avian_vocalizations/evaluator.py')"
   ]
  },
  {
   "cell_type": "code",
   "execution_count": 68,
   "metadata": {},
   "outputs": [
    {
     "data": {
      "text/plain": [
       "<SFTPAttributes: [ size=13787 uid=0 gid=0 mode=0o100644 atime=1572122143 mtime=1572122578 ]>"
      ]
     },
     "execution_count": 68,
     "metadata": {},
     "output_type": "execute_result"
    }
   ],
   "source": [
    "remote.sftp.put('avian_vocalizations/data.py',\n",
    "                '/root/avian_vocalizations/avian_vocalizations/data.py')"
   ]
  },
  {
   "cell_type": "code",
   "execution_count": null,
   "metadata": {},
   "outputs": [],
   "source": [
    "remote.sftp.put('avian_vocalizations/model.py',\n",
    "                '/root/avian_vocalizations/avian_vocalizations/model.py')"
   ]
  },
  {
   "cell_type": "markdown",
   "metadata": {},
   "source": [
    "## Update code repo"
   ]
  },
  {
   "cell_type": "code",
   "execution_count": 9,
   "metadata": {},
   "outputs": [
    {
     "name": "stdout",
     "output_type": "stream",
     "text": [
      "Already up to date.\n",
      "\n"
     ]
    }
   ],
   "source": [
    "with remote.cwd('/root/avian_vocalizations'):\n",
    "    print(remote['git']('pull'))"
   ]
  },
  {
   "cell_type": "markdown",
   "metadata": {},
   "source": [
    "## Run some trials"
   ]
  },
  {
   "cell_type": "code",
   "execution_count": 12,
   "metadata": {},
   "outputs": [],
   "source": [
    "tunnel = instance.get_tunnel(27017, 27017)"
   ]
  },
  {
   "cell_type": "code",
   "execution_count": 65,
   "metadata": {},
   "outputs": [],
   "source": [
    "trials = MongoTrials('mongo://localhost:27017/avian_vocalizations/jobs', exp_key='test_experiment')"
   ]
  },
  {
   "cell_type": "code",
   "execution_count": null,
   "metadata": {
    "scrolled": false
   },
   "outputs": [
    {
     "name": "stderr",
     "output_type": "stream",
     "text": [
      "over-writing old domain trials attachment\n"
     ]
    },
    {
     "name": "stdout",
     "output_type": "stream",
     "text": [
      "100%|██████████| 1/1 [00:03<00:00,  3.48s/it, best loss: 4.312834680080414]\n"
     ]
    }
   ],
   "source": [
    "hp_space = ParamSpace(n_frames=128, dropout_rate=hp.uniform('dropout',0,.5),batch_size=64)\n",
    "\n",
    "evaluator = EvaluatorFactory(n_splits=3, n_epochs=10, data_dir='data')\n",
    "best = fmin(evaluator, hp_space, trials=trials, algo=tpe.suggest, max_evals=2 )"
   ]
  },
  {
   "cell_type": "code",
   "execution_count": 64,
   "metadata": {},
   "outputs": [],
   "source": [
    "# trials.delete_all()"
   ]
  },
  {
   "cell_type": "markdown",
   "metadata": {},
   "source": [
    "## Cleanup"
   ]
  },
  {
   "cell_type": "code",
   "execution_count": null,
   "metadata": {},
   "outputs": [],
   "source": [
    "tunnel.close()"
   ]
  }
 ],
 "metadata": {
  "kernelspec": {
   "display_name": "avian_vocalizations",
   "language": "python",
   "name": "avian_vocalizations"
  },
  "language_info": {
   "codemirror_mode": {
    "name": "ipython",
    "version": 3
   },
   "file_extension": ".py",
   "mimetype": "text/x-python",
   "name": "python",
   "nbconvert_exporter": "python",
   "pygments_lexer": "ipython3",
   "version": "3.6.8"
  }
 },
 "nbformat": 4,
 "nbformat_minor": 2
}
