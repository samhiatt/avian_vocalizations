{
 "cells": [
  {
   "cell_type": "code",
   "execution_count": 132,
   "metadata": {},
   "outputs": [],
   "source": [
    "%reload_ext autoreload\n",
    "%autoreload 2"
   ]
  },
  {
   "cell_type": "code",
   "execution_count": 133,
   "metadata": {},
   "outputs": [
    {
     "name": "stdout",
     "output_type": "stream",
     "text": [
      "             IPython  {'7.8.0'}\n",
      "            paramiko  {'2.6.0'}\n",
      "             pymongo  {'3.9.0'}\n",
      "           toolbench  {'0.0.1'}\n",
      "             plumbum  {(1, 6, 7)}\n",
      "            hyperopt  {'0.2.1'}\n",
      " avian_vocalizations  {'0.0.1'}\n"
     ]
    }
   ],
   "source": [
    "import pymongo\n",
    "from pymongo import MongoClient\n",
    "from vastai.api import VastClient\n",
    "from toolbench.tools import print_module_versions\n",
    "print_module_versions(globals())"
   ]
  },
  {
   "cell_type": "code",
   "execution_count": 134,
   "metadata": {},
   "outputs": [
    {
     "name": "stdout",
     "output_type": "stream",
     "text": [
      "api_key_file:  ~/.vast_api_key\n",
      "Initializing vast.ai client with api_key from /home/sam/.vast_api_key.\n",
      "Already logged in.\n"
     ]
    }
   ],
   "source": [
    "vast = VastClient().authenticate()"
   ]
  },
  {
   "cell_type": "markdown",
   "metadata": {},
   "source": [
    "## Startup and check ssh connection"
   ]
  },
  {
   "cell_type": "code",
   "execution_count": 141,
   "metadata": {
    "scrolled": true
   },
   "outputs": [
    {
     "name": "stdout",
     "output_type": "stream",
     "text": [
      "Starting instance 400808.\n"
     ]
    },
    {
     "data": {
      "text/plain": [
       "<ParamikoMachine paramiko://root@ssh4.vast.ai>"
      ]
     },
     "execution_count": 141,
     "metadata": {},
     "output_type": "execute_result"
    }
   ],
   "source": [
    "mongo_instance = vast.get_instance(400808)\n",
    "mongo_instance.start().wait_until_running(check_every_s=15)\n",
    "mongo_machine = mongo_instance.pb_remote\n",
    "mongo_machine"
   ]
  },
  {
   "cell_type": "code",
   "execution_count": 140,
   "metadata": {},
   "outputs": [
    {
     "data": {
      "text/plain": [
       "'ssh root@ssh5.vast.ai -p 10787 -i /home/sam/.ssh/vastai'"
      ]
     },
     "execution_count": 140,
     "metadata": {},
     "output_type": "execute_result"
    }
   ],
   "source": [
    "mongo_instance.ssh_connection_command"
   ]
  },
  {
   "cell_type": "code",
   "execution_count": 6,
   "metadata": {},
   "outputs": [
    {
     "name": "stdout",
     "output_type": "stream",
     "text": [
      "Session is alive? True\n"
     ]
    },
    {
     "data": {
      "text/plain": [
       "'/root\\n'"
      ]
     },
     "execution_count": 6,
     "metadata": {},
     "output_type": "execute_result"
    }
   ],
   "source": [
    "mongo_instance.pb_remote['pwd']()"
   ]
  },
  {
   "cell_type": "code",
   "execution_count": 5,
   "metadata": {},
   "outputs": [
    {
     "name": "stdout",
     "output_type": "stream",
     "text": [
      "/root\n",
      "\n"
     ]
    }
   ],
   "source": [
    "print(mongo_machine['pwd']())"
   ]
  },
  {
   "cell_type": "code",
   "execution_count": 6,
   "metadata": {},
   "outputs": [
    {
     "data": {
      "text/plain": [
       "'/root\\n'"
      ]
     },
     "execution_count": 6,
     "metadata": {},
     "output_type": "execute_result"
    }
   ],
   "source": [
    "mongo_instance.pb_remote['pwd']()"
   ]
  },
  {
   "cell_type": "code",
   "execution_count": 11,
   "metadata": {},
   "outputs": [
    {
     "name": "stdout",
     "output_type": "stream",
     "text": [
      "2019-10-24T13:15:48.810+0000 I NETWORK  [conn4] end connection 127.0.0.1:49614 (2 connections now open)\n",
      "2019-10-24T13:16:30.326+0000 I NETWORK  [listener] connection accepted from 127.0.0.1:49624 #7 (1 connection now open)\n",
      "2019-10-24T13:16:30.493+0000 I NETWORK  [listener] connection accepted from 127.0.0.1:49626 #8 (2 connections now open)\n",
      "2019-10-24T13:16:30.728+0000 I NETWORK  [conn7] received client metadata from 127.0.0.1:49624 conn: { driver: { name: \"PyMongo\", version: \"3.9.0\" }, os: { type: \"Linux\", name: \"Linux\", architecture: \"x86_64\", version: \"3.8.11\" }, platform: \"CPython 3.6.8.final.0\" }\n",
      "2019-10-24T13:16:31.096+0000 I NETWORK  [conn8] received client metadata from 127.0.0.1:49626 conn: { driver: { name: \"PyMongo\", version: \"3.9.0\" }, os: { type: \"Linux\", name: \"Linux\", architecture: \"x86_64\", version: \"3.8.11\" }, platform: \"CPython 3.6.8.final.0\" }\n",
      "2019-10-24T13:16:32.885+0000 I NETWORK  [listener] connection accepted from 127.0.0.1:49628 #9 (3 connections now open)\n",
      "2019-10-24T13:16:33.183+0000 I NETWORK  [conn9] received client metadata from 127.0.0.1:49628 conn: { driver: { name: \"PyMongo\", version: \"3.9.0\" }, os: { type: \"Linux\", name: \"Linux\", architecture: \"x86_64\", version: \"3.8.11\" }, platform: \"CPython 3.6.8.final.0\" }\n",
      "2019-10-24T13:16:35.408+0000 I NETWORK  [conn7] end connection 127.0.0.1:49624 (2 connections now open)\n",
      "2019-10-24T13:16:35.408+0000 I NETWORK  [conn8] end connection 127.0.0.1:49626 (1 connection now open)\n",
      "2019-10-24T13:16:35.408+0000 I NETWORK  [conn9] end connection 127.0.0.1:49628 (0 connections now open)\n",
      "\n"
     ]
    }
   ],
   "source": [
    "print(mongo_machine['tail']('/var/log/mongodb/mongodb.log'))"
   ]
  },
  {
   "cell_type": "markdown",
   "metadata": {},
   "source": [
    "## Time SshMachine vs ParamikoMachine"
   ]
  },
  {
   "cell_type": "code",
   "execution_count": 15,
   "metadata": {},
   "outputs": [
    {
     "name": "stdout",
     "output_type": "stream",
     "text": [
      "6.57 s ± 308 ms per loop (mean ± std. dev. of 7 runs, 1 loop each)\n"
     ]
    }
   ],
   "source": [
    "%timeit ssh['ls']()"
   ]
  },
  {
   "cell_type": "code",
   "execution_count": 16,
   "metadata": {},
   "outputs": [
    {
     "name": "stdout",
     "output_type": "stream",
     "text": [
      "3.85 s ± 174 ms per loop (mean ± std. dev. of 7 runs, 1 loop each)\n"
     ]
    }
   ],
   "source": [
    "%timeit mongo_machine['ls']()"
   ]
  },
  {
   "cell_type": "markdown",
   "metadata": {},
   "source": [
    "## Test tunnel to mongodb"
   ]
  },
  {
   "cell_type": "code",
   "execution_count": 142,
   "metadata": {},
   "outputs": [],
   "source": [
    "mongo_instance = vast.get_instance(400808)"
   ]
  },
  {
   "cell_type": "code",
   "execution_count": 143,
   "metadata": {},
   "outputs": [
    {
     "data": {
      "text/plain": [
       "'ssh root@ssh4.vast.ai -p 10808 -i /home/sam/.ssh/vastai'"
      ]
     },
     "execution_count": 143,
     "metadata": {},
     "output_type": "execute_result"
    }
   ],
   "source": [
    "mongo_instance.ssh_connection_command"
   ]
  },
  {
   "cell_type": "code",
   "execution_count": 37,
   "metadata": {},
   "outputs": [
    {
     "name": "stdout",
     "output_type": "stream",
     "text": [
      "['admin', 'local']\n"
     ]
    }
   ],
   "source": [
    "with mongo_instance.get_tunnel(27017,27017) as tunn:\n",
    "    mongo = MongoClient('localhost', 27017)\n",
    "    print(mongo.list_database_names())"
   ]
  },
  {
   "cell_type": "code",
   "execution_count": 18,
   "metadata": {},
   "outputs": [
    {
     "data": {
      "text/plain": [
       "{27017: <SshTunnel (defunct)>}"
      ]
     },
     "execution_count": 18,
     "metadata": {},
     "output_type": "execute_result"
    }
   ],
   "source": [
    "mongo_instance._tunnels"
   ]
  },
  {
   "cell_type": "code",
   "execution_count": 22,
   "metadata": {},
   "outputs": [
    {
     "data": {
      "text/plain": [
       "True"
      ]
     },
     "execution_count": 22,
     "metadata": {},
     "output_type": "execute_result"
    }
   ],
   "source": [
    "mongo_instance._ssh_machine_alive"
   ]
  },
  {
   "cell_type": "markdown",
   "metadata": {},
   "source": [
    "## Hot update evaluator code"
   ]
  },
  {
   "cell_type": "code",
   "execution_count": 178,
   "metadata": {},
   "outputs": [
    {
     "data": {
      "text/plain": [
       "<SFTPAttributes: [ size=4563 uid=0 gid=0 mode=0o100644 atime=1572063359 mtime=1572064088 ]>"
      ]
     },
     "execution_count": 178,
     "metadata": {},
     "output_type": "execute_result"
    }
   ],
   "source": [
    "mongo_instance.pb_remote.sftp.put('avian_vocalizations/evaluator.py',\n",
    "                                  '/root/avian_vocalizations/avian_vocalizations/evaluator.py')"
   ]
  },
  {
   "cell_type": "code",
   "execution_count": 65,
   "metadata": {},
   "outputs": [
    {
     "data": {
      "text/plain": [
       "<SFTPAttributes: [ size=1821 uid=0 gid=0 mode=0o100644 atime=1571971573 mtime=1571976662 ]>"
      ]
     },
     "execution_count": 65,
     "metadata": {},
     "output_type": "execute_result"
    }
   ],
   "source": [
    "mongo_instance.pb_remote.sftp.put('setup.py','/root/avian_vocalizations/setup.py')"
   ]
  },
  {
   "cell_type": "code",
   "execution_count": 154,
   "metadata": {},
   "outputs": [
    {
     "data": {
      "text/plain": [
       "<SFTPAttributes: [ size=13818 uid=0 gid=0 mode=0o100644 atime=1572062804 mtime=1572063000 ]>"
      ]
     },
     "execution_count": 154,
     "metadata": {},
     "output_type": "execute_result"
    }
   ],
   "source": [
    "mongo_instance.pb_remote.sftp.put('avian_vocalizations/data.py','/root/avian_vocalizations/avian_vocalizations/data.py')"
   ]
  },
  {
   "cell_type": "code",
   "execution_count": 72,
   "metadata": {},
   "outputs": [
    {
     "data": {
      "text/plain": [
       "<SFTPAttributes: [ size=3165 uid=0 gid=0 mode=0o100644 atime=1571985722 mtime=1571985722 ]>"
      ]
     },
     "execution_count": 72,
     "metadata": {},
     "output_type": "execute_result"
    }
   ],
   "source": [
    "mongo_instance.pb_remote.sftp.put('avian_vocalizations/model.py','/root/avian_vocalizations/avian_vocalizations/model.py')"
   ]
  },
  {
   "cell_type": "markdown",
   "metadata": {},
   "source": [
    "## Run some trials"
   ]
  },
  {
   "cell_type": "code",
   "execution_count": 144,
   "metadata": {},
   "outputs": [],
   "source": [
    "tunnel = mongo_instance.get_tunnel(27017, 27017)"
   ]
  },
  {
   "cell_type": "code",
   "execution_count": 145,
   "metadata": {},
   "outputs": [],
   "source": [
    "trials = MongoTrials('mongo://localhost:27017/hyperopt/jobs', exp_key='exp%03i'%EXP_NUM)"
   ]
  },
  {
   "cell_type": "code",
   "execution_count": null,
   "metadata": {},
   "outputs": [],
   "source": [
    "# with mongo_instance.pb_remote.popen(\"pipenv run hyperopt-mongo-worker \"\n",
    "#                                     \"--mongo=localhost:27017/hyperopt \"\n",
    "#                                     \"--max-consecutive-failures=1 \"\n",
    "#                                     \"--reserve-timeout=36600\"\n",
    "#                                    ) as :"
   ]
  },
  {
   "cell_type": "code",
   "execution_count": null,
   "metadata": {
    "scrolled": false
   },
   "outputs": [
    {
     "name": "stdout",
     "output_type": "stream",
     "text": [
      "85it [01:38,  1.13s/it, best loss: ?]                      "
     ]
    }
   ],
   "source": [
    "hp_space = ParamSpace(n_frames=128, dropout_rate=hp.uniform('dropout',0,.5),batch_size=64)\n",
    "\n",
    "evaluator = EvaluatorFactory(n_splits=3, n_epochs=10, data_dir='data')\n",
    "best = fmin(evaluator, hp_space, trials=trials, algo=tpe.suggest, max_evals=5 )\n"
   ]
  },
  {
   "cell_type": "code",
   "execution_count": 153,
   "metadata": {},
   "outputs": [
    {
     "data": {
      "text/plain": [
       "'~/.ssh'"
      ]
     },
     "execution_count": 153,
     "metadata": {},
     "output_type": "execute_result"
    }
   ],
   "source": [
    "os.path.join('~','','.ssh')"
   ]
  },
  {
   "cell_type": "code",
   "execution_count": 181,
   "metadata": {},
   "outputs": [],
   "source": [
    "trials.delete_all()"
   ]
  },
  {
   "cell_type": "markdown",
   "metadata": {},
   "source": [
    "## Cleanup"
   ]
  },
  {
   "cell_type": "code",
   "execution_count": null,
   "metadata": {},
   "outputs": [],
   "source": [
    "tunnel.close()"
   ]
  }
 ],
 "metadata": {
  "kernelspec": {
   "display_name": "avian_vocalizations",
   "language": "python",
   "name": "avian_vocalizations"
  },
  "language_info": {
   "codemirror_mode": {
    "name": "ipython",
    "version": 3
   },
   "file_extension": ".py",
   "mimetype": "text/x-python",
   "name": "python",
   "nbconvert_exporter": "python",
   "pygments_lexer": "ipython3",
   "version": "3.6.8"
  }
 },
 "nbformat": 4,
 "nbformat_minor": 2
}
