{
 "cells": [
  {
   "cell_type": "code",
   "execution_count": 1,
   "metadata": {},
   "outputs": [],
   "source": [
    "%reload_ext autoreload\n",
    "%autoreload 2"
   ]
  },
  {
   "cell_type": "code",
   "execution_count": 2,
   "metadata": {},
   "outputs": [],
   "source": [
    "from vastai.api import VastClient\n",
    "from io import StringIO\n",
    "import time\n",
    "from IPython.display import clear_output"
   ]
  },
  {
   "cell_type": "code",
   "execution_count": 3,
   "metadata": {
    "scrolled": true
   },
   "outputs": [
    {
     "name": "stdout",
     "output_type": "stream",
     "text": [
      "api_key_file:  ~/.vast_api_key\n",
      "Initializing vast.ai client with api_key from /home/sam/.vast_api_key.\n",
      "Already logged in.\n"
     ]
    }
   ],
   "source": [
    "vast = VastClient().authenticate()"
   ]
  },
  {
   "cell_type": "markdown",
   "metadata": {},
   "source": [
    "## Search for Available Machines"
   ]
  },
  {
   "cell_type": "code",
   "execution_count": 15,
   "metadata": {},
   "outputs": [],
   "source": [
    "def filter_offers():\n",
    "    return [offer for offer in vast.search_offers('dph', 'dph<.12 inet_down>200', instance_type='on-demand') \n",
    "        if offer['gpu_name'] and offer['id'] not in []]"
   ]
  },
  {
   "cell_type": "code",
   "execution_count": null,
   "metadata": {
    "scrolled": true
   },
   "outputs": [],
   "source": [
    "for offer in filter_offers():\n",
    "    print(offer['id'], offer['dph_total'], offer['gpu_name'], offer['inet_down'], offer['inet_down'])"
   ]
  },
  {
   "cell_type": "markdown",
   "metadata": {},
   "source": [
    "## Start new Instance with Mongodb"
   ]
  },
  {
   "cell_type": "code",
   "execution_count": 4,
   "metadata": {},
   "outputs": [
    {
     "name": "stdout",
     "output_type": "stream",
     "text": [
      "https://vast.ai/api/v0/asks/384633/?api_key=e794a3273e5a3e74d545bbc368849ff263f726042cf92587df9519a6cda62e74 \n",
      " {\"client_id\": \"me\", \"image\": \"tensorflow/tensorflow:1.14.0-gpu-py3-jupyter\", \"price\": null, \"disk\": 20, \"label\": null, \"onstart\": \"#!/bin/sh\\ntouch ~/.no_auto_tmux\\necho onstart.sh Starting `date` >> /root/startup.log 2>&1\\napt-get install -y mongodb-server git vim >> /root/startup.log 2>&1\\nservice mongodb start >> /root/startup.log 2>&1\\npip install --upgrade pip pipenv >> /root/startup.log 2>&1\\necho onstart.sh Completed at `date` >> /root/startup.log\\n\", \"runtype\": \"ssh\", \"python_utf8\": true, \"lang_utf8\": true, \"use_jupyter_lab\": false, \"jupyter_dir\": null, \"create_from\": null, \"force\": false}\n",
      "{\"success\": true, \"new_contract\": 401104}\n",
      "Waiting 60s...\n",
      "Waiting 60s...\n",
      "2019-10-26T18:58:09.735+0000 I FTDC     [initandlisten] Initializing full-time diagnostic data capture with directory '/var/lib/mongodb/diagnostic.data'\n",
      "2019-10-26T18:58:09.736+0000 I NETWORK  [initandlisten] waiting for connections on port 27017\n",
      "\n"
     ]
    }
   ],
   "source": [
    "offer = 384633\n",
    "# offer = filter_offers()[0]['id']\n",
    "onstart = \"\"\"#!/bin/sh\n",
    "touch ~/.no_auto_tmux\n",
    "echo onstart.sh Starting `date` >> /root/startup.log 2>&1\n",
    "apt-get install -y mongodb-server git vim >> /root/startup.log 2>&1\n",
    "service mongodb start >> /root/startup.log 2>&1\n",
    "pip install --upgrade pip pipenv >> /root/startup.log 2>&1\n",
    "echo onstart.sh Completed at `date` >> /root/startup.log\n",
    "\"\"\"\n",
    "resp=vast.create_instance(offer, disk=20, onstart_cmd=onstart, python_utf8=True, lang_utf8=True,\n",
    "                          image=\"tensorflow/tensorflow:1.14.0-gpu-py3-jupyter\")\n",
    "mongo_instance_id = resp['new_contract']\n",
    "\n",
    "mongo_instance = vast.get_instance(mongo_instance_id, retries=4).wait_until_running()\n",
    "\n",
    "print(mongo_instance.pb_remote['tail']('/var/log/mongodb/mongodb.log','-n2'))"
   ]
  },
  {
   "cell_type": "code",
   "execution_count": 8,
   "metadata": {},
   "outputs": [
    {
     "name": "stdout",
     "output_type": "stream",
     "text": [
      "2019-10-26T16:52:45.730+0000 I INDEX    [thread1] build index done.  scanned 0 total records. 0 secs\n",
      "2019-10-26T16:52:45.730+0000 I COMMAND  [thread1] command config.$cmd command: createIndexes { createIndexes: \"system.sessions\", indexes: [ { key: { lastUse: 1 }, name: \"lsidTTLIndex\", expireAfterSeconds: 1800 } ], $db: \"config\" } numYields:0 reslen:98 locks:{ Global: { acquireCount: { r: 1, w: 1 } }, Database: { acquireCount: { W: 1 } }, Collection: { acquireCount: { w: 1 } } } protocol:op_msg 136ms\n",
      "\n"
     ]
    }
   ],
   "source": [
    "print(mongo_instance.pb_remote['tail']('/var/log/mongodb/mongodb.log','-n2'))"
   ]
  },
  {
   "cell_type": "code",
   "execution_count": 5,
   "metadata": {},
   "outputs": [
    {
     "name": "stdout",
     "output_type": "stream",
     "text": [
      "ssh root@ssh5.vast.ai -p 11104 -i /home/sam/.ssh/vastai\n"
     ]
    }
   ],
   "source": [
    "print(mongo_instance.ssh_connection_command)"
   ]
  },
  {
   "cell_type": "code",
   "execution_count": null,
   "metadata": {
    "code_folding": [
     0
    ]
   },
   "outputs": [],
   "source": [
    "# onstart = \"#!/bin/sh\\n\"\\\n",
    "#           \"touch ~/.no_auto_tmux\\n\"\\\n",
    "#           \"apt-get install -y mongodb-server\\n\"\\\n",
    "#           \"mkdir -p ~/.ssh\\n\"\\\n",
    "#           \"ssh-keygen  -P '' -f ~/.ssh/mongo\\n\"\n",
    "# resp=vast.create_instance(filter_offers()[0]['id'], disk=1, onstart_cmd=onstart,\n",
    "#                           image=\"tensorflow/tensorflow:1.14.0-gpu-py3-jupyter\")\n",
    "# worker_instance_id = resp['new_contract']\n",
    "\n",
    "# time.sleep(30)\n",
    "# worker_instance = vast.get_instance(worker_instance_id)"
   ]
  },
  {
   "cell_type": "markdown",
   "metadata": {},
   "source": [
    "## Install model and download data"
   ]
  },
  {
   "cell_type": "code",
   "execution_count": 5,
   "metadata": {},
   "outputs": [],
   "source": [
    "# mongo_instance=vast.get_instance(400808)"
   ]
  },
  {
   "cell_type": "code",
   "execution_count": 8,
   "metadata": {
    "scrolled": true
   },
   "outputs": [
    {
     "data": {
      "text/plain": [
       "<plumbum.machines.session.SessionPopen at 0x7f3176eab748>"
      ]
     },
     "execution_count": 8,
     "metadata": {},
     "output_type": "execute_result"
    }
   ],
   "source": [
    "install_script_target='/root/install_script.sh'\n",
    "install_script = StringIO(\"\"\"#!/bin/sh\n",
    "INSTALL_LOG=/root/install.log\n",
    "echo avian_vocalizations INSTALL BEGIN `date` >> $INSTALL_LOG 2>&1\n",
    "cd ~\n",
    "[ ! -d avian_vocalizations ] && git clone https://github.com/samhiatt/avian_vocalizations.git  >> $INSTALL_LOG 2>&1\n",
    "cd avian_vocalizations\n",
    "export LC_ALL=C.UTF-8\n",
    "export LANG=C.UTF-8\n",
    "pipenv install >> $INSTALL_LOG 2>&1\n",
    "pipenv run python setup.py develop >> $INSTALL_LOG 2>&1\n",
    "pipenv run download_data >> $INSTALL_LOG 2>&1\n",
    "echo avian_vocalizations INSTALL COMPLETE `date` >> INSTALL_LOG 2>&1\n",
    "\"\"\")\n",
    "# monitor_output(mongo_instance, install_script)\n",
    "remote=mongo_instance.pb_remote\n",
    "remote.sftp.putfo(install_script,install_script_target)\n",
    "remote['chmod']('+x',install_script_target)\n",
    "p=remote.session().popen(install_script_target)\n",
    "p"
   ]
  },
  {
   "cell_type": "code",
   "execution_count": 9,
   "metadata": {},
   "outputs": [
    {
     "name": "stdout",
     "output_type": "stream",
     "text": [
      "Extracted /root/avian_vocalizations/data/melspectrograms.zip.\n",
      "Extracted /root/avian_vocalizations/data/feature_shapes.csv.\n",
      "Extracted contents of xeno-canto-ca-nv.zip to data/audio.\n",
      "Extracted contents of melspectrograms.zip to data/.\n",
      "Extracted contents of mfccs.zip to data/.\n",
      "\n",
      "Install process has exited with code: 0\n"
     ]
    }
   ],
   "source": [
    "while True:\n",
    "    clear_output(wait=True)\n",
    "    print(remote['tail']('/root/install.log','-n5'))\n",
    "    ret = p.proc.poll()\n",
    "    if ret is not None:\n",
    "        break\n",
    "    time.sleep(1)\n",
    "print(\"Install process has exited with code:\",p.proc.poll())"
   ]
  },
  {
   "cell_type": "code",
   "execution_count": 24,
   "metadata": {},
   "outputs": [
    {
     "name": "stdout",
     "output_type": "stream",
     "text": [
      "#!/bin/sh\n",
      "cd /root/avian_vocalizations\n",
      "export LC_ALL=C.UTF-8\n",
      "export LANG=C.UTF-8\n",
      "nohup pipenv run hyperopt-mongo-worker --mongo=localhost:27017/avian_vocalizations  --max-consecutive-failures=1 --reserve-timeout=999999 --workdir=. >> /root/hyperopt_worker.log 2>&1\n",
      "\n"
     ]
    }
   ],
   "source": [
    "hyperopt_worker_log=\"/root/hyperopt_worker.log\"\n",
    "start_hyperopt_worker_target='/root/avian_vocalizations/start_hyperopt_worker.sh'\n",
    "start_hyperopt_worker=\"#!/bin/sh\\ncd /root/avian_vocalizations\\n\"\\\n",
    "    \"export LC_ALL=C.UTF-8\\n\"\\\n",
    "    \"export LANG=C.UTF-8\\n\"\\\n",
    "    \"nohup pipenv run hyperopt-mongo-worker --mongo=localhost:27017/avian_vocalizations \"\\\n",
    "    \" --max-consecutive-failures=1 --reserve-timeout=999999 --workdir=.\"\\\n",
    "    \" >> %s 2>&1\\n\"%hyperopt_worker_log\n",
    "\n",
    "print(start_hyperopt_worker)\n",
    "remote.sftp.putfo(StringIO(start_hyperopt_worker),start_hyperopt_worker_target)\n",
    "remote['chmod']('+x',start_hyperopt_worker_target)\n",
    "pworker=remote.session().popen(start_hyperopt_worker_target)"
   ]
  },
  {
   "cell_type": "code",
   "execution_count": null,
   "metadata": {},
   "outputs": [
    {
     "name": "stdout",
     "output_type": "stream",
     "text": [
      "INFO:hyperopt.mongoexp:no job found, sleeping for 2.3s\n",
      "INFO:hyperopt.mongoexp:no job found, sleeping for 2.2s\n",
      "INFO:hyperopt.mongoexp:no job found, sleeping for 1.1s\n",
      "INFO:hyperopt.mongoexp:no job found, sleeping for 3.1s\n",
      "INFO:hyperopt.mongoexp:no job found, sleeping for 3.9s\n",
      "\n"
     ]
    }
   ],
   "source": [
    "while True:\n",
    "    clear_output(wait=True)\n",
    "    print(remote['tail'](hyperopt_worker_log,'-n5'))\n",
    "    ret = pworker.proc.poll()\n",
    "    if ret is not None:\n",
    "        break\n",
    "    time.sleep(1)\n",
    "print(\"Hyperopt worker process ended with code\",ret)"
   ]
  },
  {
   "cell_type": "code",
   "execution_count": null,
   "metadata": {},
   "outputs": [],
   "source": [
    "# vast.stop_all_instances()"
   ]
  },
  {
   "cell_type": "code",
   "execution_count": null,
   "metadata": {},
   "outputs": [],
   "source": []
  }
 ],
 "metadata": {
  "kernelspec": {
   "display_name": "avian_vocalizations",
   "language": "python",
   "name": "avian_vocalizations"
  },
  "language_info": {
   "codemirror_mode": {
    "name": "ipython",
    "version": 3
   },
   "file_extension": ".py",
   "mimetype": "text/x-python",
   "name": "python",
   "nbconvert_exporter": "python",
   "pygments_lexer": "ipython3",
   "version": "3.6.8"
  }
 },
 "nbformat": 4,
 "nbformat_minor": 2
}
