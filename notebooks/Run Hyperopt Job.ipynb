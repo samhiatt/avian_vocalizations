{
 "cells": [
  {
   "cell_type": "code",
   "execution_count": 1,
   "metadata": {},
   "outputs": [],
   "source": [
    "%reload_ext autoreload\n",
    "%autoreload 2"
   ]
  },
  {
   "cell_type": "code",
   "execution_count": 2,
   "metadata": {},
   "outputs": [
    {
     "name": "stderr",
     "output_type": "stream",
     "text": [
      "Using TensorFlow backend.\n"
     ]
    },
    {
     "name": "stdout",
     "output_type": "stream",
     "text": [
      "             IPython  {'7.9.0'}\n",
      "          tensorflow  {'1.15.0'}\n",
      "             pymongo  {'3.9.0'}\n",
      " avian_vocalizations  {'0.0.1'}\n",
      "            hyperopt  {'0.2.2'}\n",
      "           toolbench  {'0.0.1'}\n"
     ]
    }
   ],
   "source": [
    "import warnings; warnings.simplefilter('ignore', FutureWarning)\n",
    "import tensorflow as tf\n",
    "tf.compat.v1.logging.set_verbosity(tf.compat.v1.logging.ERROR)\n",
    "\n",
    "import pymongo\n",
    "from pymongo import MongoClient\n",
    "from avian_vocalizations.evaluator import ParamSpace, EvaluatorFactory\n",
    "from hyperopt.mongoexp import MongoTrials, MongoCtrl, MongoJobs, MongoWorker\n",
    "from hyperopt import hp, fmin, tpe\n",
    "from vastai.api import VastClient\n",
    "from toolbench.tools import print_module_versions\n",
    "print_module_versions(globals())"
   ]
  },
  {
   "cell_type": "code",
   "execution_count": 3,
   "metadata": {},
   "outputs": [
    {
     "name": "stdout",
     "output_type": "stream",
     "text": [
      "Initializing vast.ai client with api_key from /home/sam/.vast_api_key.\n"
     ]
    }
   ],
   "source": [
    "vast = VastClient().authenticate()"
   ]
  },
  {
   "cell_type": "code",
   "execution_count": 4,
   "metadata": {},
   "outputs": [
    {
     "data": {
      "text/plain": [
       "[405882: running   running              $0.1031/hr ssh5.vast.ai:15882  259.7↑ 345.0↓  flops:14.056448T\n",
       " \t1X 10.9GB GTX 1080 Ti, 5.0/40X 63.7GB Xeon® E5-2680 v2 \n",
       " \tSuccessfully loaded tensorflow/tensorflow:1.15.0-gpu-py3-jupyter]"
      ]
     },
     "execution_count": 4,
     "metadata": {},
     "output_type": "execute_result"
    }
   ],
   "source": [
    "vast.get_running_instances()"
   ]
  },
  {
   "cell_type": "code",
   "execution_count": 5,
   "metadata": {},
   "outputs": [],
   "source": [
    "instance = vast.get_running_instances()[0]\n",
    "# instance.start()\n",
    "remote = instance.pb_remote\n",
    "instance.ssh_connection_command"
   ]
  },
  {
   "cell_type": "markdown",
   "metadata": {
    "heading_collapsed": true
   },
   "source": [
    "## Update code repo"
   ]
  },
  {
   "cell_type": "code",
   "execution_count": 8,
   "metadata": {
    "hidden": true,
    "scrolled": true
   },
   "outputs": [
    {
     "name": "stdout",
     "output_type": "stream",
     "text": [
      "HEAD is now at 9cbb633 tensorflow 1.15.0. Added hyperopt trial reporting.\n",
      "\n",
      "Updating 9cbb633..7adcfe0\n",
      "Fast-forward\n",
      " HyperoptTrials.ipynb             |  32 -----\n",
      " Run Hyperopt Job.ipynb           | 271 ++++++++-------------------------------\n",
      " avian_vocalizations/evaluator.py |   5 +-\n",
      " 3 files changed, 58 insertions(+), 250 deletions(-)\n",
      "\n",
      "On branch master\n",
      "Your branch is up to date with 'origin/master'.\n",
      "\n",
      "Untracked files:\n",
      "  (use \"git add <file>...\" to include in what will be committed)\n",
      "\n",
      "\tINSTALL_LOG\n",
      "\tlogfile.txt\n",
      "\tstart_hyperopt_worker.sh\n",
      "\n",
      "nothing added to commit but untracked files present (use \"git add\" to track)\n",
      "\n"
     ]
    }
   ],
   "source": [
    "with remote.cwd('/root/avian_vocalizations'):\n",
    "    print(remote['git']('reset','--hard','HEAD^'))\n",
    "    print(remote['git']('pull'))\n",
    "    print(remote['git']('status'))"
   ]
  },
  {
   "cell_type": "markdown",
   "metadata": {},
   "source": [
    "## Run some trials"
   ]
  },
  {
   "cell_type": "code",
   "execution_count": 9,
   "metadata": {},
   "outputs": [],
   "source": [
    "tunnel = instance.get_tunnel(27018, 27017)"
   ]
  },
  {
   "cell_type": "code",
   "execution_count": 10,
   "metadata": {},
   "outputs": [],
   "source": [
    "# trials.delete_all()"
   ]
  },
  {
   "cell_type": "code",
   "execution_count": 12,
   "metadata": {
    "scrolled": false
   },
   "outputs": [
    {
     "name": "stderr",
     "output_type": "stream",
     "text": [
      "over-writing old domain trials attachment\n"
     ]
    },
    {
     "name": "stdout",
     "output_type": "stream",
     "text": [
      "100%|██████████| 10/10 [3:40:44<00:00, 1324.41s/trial, best loss: 3.326384663581848] \n"
     ]
    },
    {
     "data": {
      "text/plain": [
       "{'batch_size': 0, 'dropout': 0.03610653836571337}"
      ]
     },
     "execution_count": 12,
     "metadata": {},
     "output_type": "execute_result"
    }
   ],
   "source": [
    "trials = MongoTrials('mongo://localhost:27018/avian_vocalizations/jobs', \n",
    "                     exp_key='alpha0')\n",
    "hp_space = ParamSpace(n_frames=128, \n",
    "                      dropout_rate=hp.uniform('dropout',0,.5),\n",
    "                      batch_size=hp.choice('batch_size',[64]),\n",
    "                     )\n",
    "\n",
    "evaluator = EvaluatorFactory(n_splits=2, n_epochs=100, data_dir='data')\n",
    "\n",
    "best = fmin(evaluator, hp_space, trials=trials, algo=tpe.suggest, max_evals=10)\n",
    "best"
   ]
  },
  {
   "cell_type": "code",
   "execution_count": null,
   "metadata": {},
   "outputs": [],
   "source": [
    "trials.trial_attachments(trials.best_trial).items()"
   ]
  },
  {
   "cell_type": "code",
   "execution_count": null,
   "metadata": {},
   "outputs": [],
   "source": [
    "# trials.delete_all()"
   ]
  },
  {
   "cell_type": "markdown",
   "metadata": {},
   "source": [
    "## Cleanup"
   ]
  },
  {
   "cell_type": "code",
   "execution_count": null,
   "metadata": {},
   "outputs": [],
   "source": [
    "tunnel.close()"
   ]
  },
  {
   "cell_type": "code",
   "execution_count": null,
   "metadata": {},
   "outputs": [],
   "source": [
    "# instance.stop()"
   ]
  }
 ],
 "metadata": {
  "kernelspec": {
   "display_name": "avian_vocalizations_tf1.15",
   "language": "python",
   "name": "avian_vocalizations_tf1.15"
  },
  "language_info": {
   "codemirror_mode": {
    "name": "ipython",
    "version": 3
   },
   "file_extension": ".py",
   "mimetype": "text/x-python",
   "name": "python",
   "nbconvert_exporter": "python",
   "pygments_lexer": "ipython3",
   "version": "3.6.8"
  }
 },
 "nbformat": 4,
 "nbformat_minor": 2
}
