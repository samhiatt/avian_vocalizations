{
 "cells": [
  {
   "cell_type": "code",
   "execution_count": 1,
   "metadata": {},
   "outputs": [],
   "source": [
    "%load_ext autoreload\n",
    "%autoreload 2\n",
    "%matplotlib inline"
   ]
  },
  {
   "cell_type": "code",
   "execution_count": 2,
   "metadata": {},
   "outputs": [
    {
     "name": "stderr",
     "output_type": "stream",
     "text": [
      "Using TensorFlow backend.\n"
     ]
    },
    {
     "data": {
      "text/html": [
       "<div>\n",
       "<style scoped>\n",
       "    .dataframe tbody tr th:only-of-type {\n",
       "        vertical-align: middle;\n",
       "    }\n",
       "\n",
       "    .dataframe tbody tr th {\n",
       "        vertical-align: top;\n",
       "    }\n",
       "\n",
       "    .dataframe thead th {\n",
       "        text-align: right;\n",
       "    }\n",
       "</style>\n",
       "<table border=\"1\" class=\"dataframe\">\n",
       "  <thead>\n",
       "    <tr style=\"text-align: right;\">\n",
       "      <th></th>\n",
       "      <th>index</th>\n",
       "      <th>country</th>\n",
       "      <th>duration_seconds</th>\n",
       "      <th>english_cname</th>\n",
       "      <th>file_name</th>\n",
       "      <th>file_url</th>\n",
       "      <th>genus</th>\n",
       "      <th>latitude</th>\n",
       "      <th>license</th>\n",
       "      <th>location</th>\n",
       "      <th>...</th>\n",
       "      <th>meldb_std124</th>\n",
       "      <th>meldb_mean125</th>\n",
       "      <th>meldb_std125</th>\n",
       "      <th>meldb_mean126</th>\n",
       "      <th>meldb_std126</th>\n",
       "      <th>meldb_mean127</th>\n",
       "      <th>meldb_std127</th>\n",
       "      <th>mfcc_path</th>\n",
       "      <th>melsg_path</th>\n",
       "      <th>feature_length</th>\n",
       "    </tr>\n",
       "    <tr>\n",
       "      <th>file_id</th>\n",
       "      <th></th>\n",
       "      <th></th>\n",
       "      <th></th>\n",
       "      <th></th>\n",
       "      <th></th>\n",
       "      <th></th>\n",
       "      <th></th>\n",
       "      <th></th>\n",
       "      <th></th>\n",
       "      <th></th>\n",
       "      <th></th>\n",
       "      <th></th>\n",
       "      <th></th>\n",
       "      <th></th>\n",
       "      <th></th>\n",
       "      <th></th>\n",
       "      <th></th>\n",
       "      <th></th>\n",
       "      <th></th>\n",
       "      <th></th>\n",
       "      <th></th>\n",
       "    </tr>\n",
       "  </thead>\n",
       "  <tbody>\n",
       "    <tr>\n",
       "      <th>453098</th>\n",
       "      <td>1301</td>\n",
       "      <td>United States</td>\n",
       "      <td>36</td>\n",
       "      <td>Lark Sparrow</td>\n",
       "      <td>XC453098.mp3</td>\n",
       "      <td>https://www.xeno-canto.org/453098/download</td>\n",
       "      <td>Chondestes</td>\n",
       "      <td>33.0333</td>\n",
       "      <td>http://creativecommons.org/licenses/by-nc-sa/4.0/</td>\n",
       "      <td>Ramona Grasslands, Wild Flower Loop, San Diego...</td>\n",
       "      <td>...</td>\n",
       "      <td>4.233037</td>\n",
       "      <td>-49.57938</td>\n",
       "      <td>4.371153</td>\n",
       "      <td>-49.249321</td>\n",
       "      <td>4.3628</td>\n",
       "      <td>-48.892643</td>\n",
       "      <td>4.20914</td>\n",
       "      <td>features/mfcc_XC453098.dat</td>\n",
       "      <td>features/melsg_XC453098.dat</td>\n",
       "      <td>6334.0</td>\n",
       "    </tr>\n",
       "  </tbody>\n",
       "</table>\n",
       "<p>1 rows × 319 columns</p>\n",
       "</div>"
      ],
      "text/plain": [
       "         index        country  duration_seconds english_cname     file_name  \\\n",
       "file_id                                                                       \n",
       "453098    1301  United States                36  Lark Sparrow  XC453098.mp3   \n",
       "\n",
       "                                           file_url       genus  latitude  \\\n",
       "file_id                                                                     \n",
       "453098   https://www.xeno-canto.org/453098/download  Chondestes   33.0333   \n",
       "\n",
       "                                                   license  \\\n",
       "file_id                                                      \n",
       "453098   http://creativecommons.org/licenses/by-nc-sa/4.0/   \n",
       "\n",
       "                                                  location  ...  meldb_std124  \\\n",
       "file_id                                                     ...                 \n",
       "453098   Ramona Grasslands, Wild Flower Loop, San Diego...  ...      4.233037   \n",
       "\n",
       "        meldb_mean125 meldb_std125 meldb_mean126 meldb_std126 meldb_mean127  \\\n",
       "file_id                                                                       \n",
       "453098      -49.57938     4.371153    -49.249321       4.3628    -48.892643   \n",
       "\n",
       "        meldb_std127                   mfcc_path                   melsg_path  \\\n",
       "file_id                                                                         \n",
       "453098       4.20914  features/mfcc_XC453098.dat  features/melsg_XC453098.dat   \n",
       "\n",
       "         feature_length  \n",
       "file_id                  \n",
       "453098           6334.0  \n",
       "\n",
       "[1 rows x 319 columns]"
      ]
     },
     "execution_count": 2,
     "metadata": {},
     "output_type": "execute_result"
    }
   ],
   "source": [
    "from avian_vocalizations.data import get_training_df, get_label_encoder, AudioFeatureGenerator\n",
    "import numpy as np\n",
    "\n",
    "df = get_training_df()\n",
    "df.head(1)"
   ]
  },
  {
   "cell_type": "code",
   "execution_count": 3,
   "metadata": {},
   "outputs": [],
   "source": [
    "label_encoder = get_label_encoder()\n",
    "y_train = label_encoder.fit_transform(df['english_cname'])\n",
    "X_train = df.index.values\n",
    "gen = AudioFeatureGenerator(X_train, y_train, 1, data_dir='../data', include_melsg=False)"
   ]
  },
  {
   "cell_type": "code",
   "execution_count": 4,
   "metadata": {},
   "outputs": [
    {
     "data": {
      "text/plain": [
       "(dict_keys(['mfcc', 'id', 'offset']),\n",
       " array([[0, 0, 0, 0, 0, 0, 0, 0, 0, 0, 0, 0, 0, 0, 0, 0, 0, 0, 0, 0, 0, 0,\n",
       "         0, 0, 0, 0, 0, 0, 0, 0, 0, 0, 0, 0, 0, 0, 0, 0, 0, 0, 0, 0, 0, 1,\n",
       "         0, 0, 0, 0, 0, 0, 0, 0, 0, 0, 0, 0, 0, 0, 0, 0, 0, 0, 0, 0, 0, 0,\n",
       "         0, 0, 0, 0, 0, 0, 0, 0, 0, 0, 0, 0, 0, 0, 0, 0, 0, 0, 0, 0, 0, 0,\n",
       "         0, 0, 0]]))"
      ]
     },
     "execution_count": 4,
     "metadata": {},
     "output_type": "execute_result"
    }
   ],
   "source": [
    "X, y = gen[0]\n",
    "X.keys(), y"
   ]
  },
  {
   "cell_type": "code",
   "execution_count": 5,
   "metadata": {},
   "outputs": [
    {
     "data": {
      "text/plain": [
       "['Lark Sparrow']"
      ]
     },
     "execution_count": 5,
     "metadata": {},
     "output_type": "execute_result"
    }
   ],
   "source": [
    "[label_encoder.classes_[np.argmax(lbl)] for lbl in y]"
   ]
  },
  {
   "cell_type": "code",
   "execution_count": 6,
   "metadata": {},
   "outputs": [
    {
     "data": {
      "text/plain": [
       "((1, 20, 128, 1),\n",
       " -2.6916615962982178,\n",
       " 3.0626161098480225,\n",
       " 0.009557851667011619,\n",
       " 0.7891876672212494)"
      ]
     },
     "execution_count": 6,
     "metadata": {},
     "output_type": "execute_result"
    }
   ],
   "source": [
    "mfcc = X['mfcc']\n",
    "mfcc.shape, mfcc.min(), mfcc.max(), mfcc.mean(), mfcc.std()"
   ]
  },
  {
   "cell_type": "code",
   "execution_count": null,
   "metadata": {},
   "outputs": [],
   "source": []
  }
 ],
 "metadata": {
  "kernelspec": {
   "display_name": "Python 3",
   "language": "python",
   "name": "python3"
  },
  "language_info": {
   "codemirror_mode": {
    "name": "ipython",
    "version": 3
   },
   "file_extension": ".py",
   "mimetype": "text/x-python",
   "name": "python",
   "nbconvert_exporter": "python",
   "pygments_lexer": "ipython3",
   "version": "3.7.5"
  }
 },
 "nbformat": 4,
 "nbformat_minor": 4
}
