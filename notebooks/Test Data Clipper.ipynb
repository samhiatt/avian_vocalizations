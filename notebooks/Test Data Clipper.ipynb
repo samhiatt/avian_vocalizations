{
 "cells": [
  {
   "cell_type": "code",
   "execution_count": 1,
   "metadata": {},
   "outputs": [],
   "source": [
    "import numpy as np\n",
    "\n",
    "\n",
    "def get_clip(data, clip_len=10, seed=37):\n",
    "    res = np.array([])\n",
    "    np.random.seed(seed)\n",
    "    offset = int(np.random.uniform(0, len(data)))\n",
    "    n_loops = int(np.ceil(clip_len/len(data)))\n",
    "    print(\"n_loops:\",n_loops)\n",
    "    res = np.hstack([res, data[offset:offset+clip_len]]).astype(np.int)\n",
    "    for i in range(n_loops):\n",
    "        res = np.hstack([res, data])[:clip_len]\n",
    "    return res"
   ]
  },
  {
   "cell_type": "markdown",
   "metadata": {},
   "source": [
    "## Test easy crop"
   ]
  },
  {
   "cell_type": "code",
   "execution_count": 2,
   "metadata": {},
   "outputs": [
    {
     "name": "stdout",
     "output_type": "stream",
     "text": [
      "n_loops: 1\n",
      "clip: [ 70  80  90 100 110]\n"
     ]
    }
   ],
   "source": [
    "seed = 2\n",
    "clip_len = 5\n",
    "data = [10, 20, 30, 40, 50, 60, 70, 80, 90, 100, 110, 120, 130, 140, 150, 160]\n",
    "np.random.seed(seed)\n",
    "offset = int(np.random.uniform(0, len(data)))\n",
    "assert offset == 6, \"offset should be 6, with seed=2 and data of len 16\"\n",
    "assert len(data)-offset > clip_len, \"Make sure this is an easy crop (offset not too close to the end)\"\n",
    "clip = get_clip(data, clip_len=clip_len, seed=seed)\n",
    "print(\"clip:\", clip)\n",
    "assert np.equal(clip, np.array([70, 80, 90, 100, 110])).all()"
   ]
  },
  {
   "cell_type": "markdown",
   "metadata": {},
   "source": [
    "## Test looper"
   ]
  },
  {
   "cell_type": "code",
   "execution_count": 3,
   "metadata": {},
   "outputs": [
    {
     "name": "stdout",
     "output_type": "stream",
     "text": [
      "n_loops: 1\n",
      "clip: [100  10  20  30  40]\n"
     ]
    }
   ],
   "source": [
    "seed = 4\n",
    "clip_len = 5\n",
    "data = [10, 20, 30, 40, 50, 60, 70, 80, 90, 100]\n",
    "np.random.seed(seed)\n",
    "offset = int(np.random.uniform(0, len(data)))\n",
    "assert offset == 9, \"offset should be 9, with seed=4 and data of len 10\"\n",
    "assert len(data)-offset < clip_len, \"Make sure this crop loops (offset is close to the end)\"\n",
    "clip = get_clip(data, clip_len=clip_len, seed=seed)\n",
    "print(\"clip:\", clip)\n",
    "assert np.equal(clip, np.array([100, 10, 20, 30, 40])).all()"
   ]
  },
  {
   "cell_type": "markdown",
   "metadata": {},
   "source": [
    "## Test multiple loops"
   ]
  },
  {
   "cell_type": "code",
   "execution_count": 4,
   "metadata": {},
   "outputs": [
    {
     "name": "stdout",
     "output_type": "stream",
     "text": [
      "n_loops: 3\n",
      "clip: [30 10 20 30 10 20 30]\n"
     ]
    }
   ],
   "source": [
    "seed = 4\n",
    "clip_len = 7\n",
    "data = [10, 20, 30]\n",
    "np.random.seed(seed)\n",
    "offset = int(np.random.uniform(0, len(data)))\n",
    "assert offset == 2, \"offset should be 2, with seed=4 and data of len 3\"\n",
    "clip = get_clip(data, clip_len=clip_len, seed=seed)\n",
    "print(\"clip:\", clip)\n",
    "assert np.equal(clip, np.array([30, 10, 20, 30, 10, 20, 30])).all()"
   ]
  }
 ],
 "metadata": {
  "kernelspec": {
   "display_name": "Python 3",
   "language": "python",
   "name": "python3"
  },
  "language_info": {
   "codemirror_mode": {
    "name": "ipython",
    "version": 3
   },
   "file_extension": ".py",
   "mimetype": "text/x-python",
   "name": "python",
   "nbconvert_exporter": "python",
   "pygments_lexer": "ipython3",
   "version": "3.7.5"
  }
 },
 "nbformat": 4,
 "nbformat_minor": 4
}
