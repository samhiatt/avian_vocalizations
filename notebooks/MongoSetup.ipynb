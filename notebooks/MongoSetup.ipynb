{
 "cells": [
  {
   "cell_type": "code",
   "execution_count": 1,
   "metadata": {},
   "outputs": [],
   "source": [
    "%reload_ext autoreload\n",
    "%autoreload 2"
   ]
  },
  {
   "cell_type": "code",
   "execution_count": 2,
   "metadata": {},
   "outputs": [],
   "source": [
    "from vastai.api import VastClient\n",
    "import time\n",
    "# from plumbum.machines.paramiko_machine import ParamikoMachine\n",
    "# from paramiko.client import AutoAddPolicy"
   ]
  },
  {
   "cell_type": "code",
   "execution_count": 3,
   "metadata": {},
   "outputs": [
    {
     "name": "stdout",
     "output_type": "stream",
     "text": [
      "api_key_file:  ~/.vast_api_key\n",
      "Initializing vast.ai client with api_key from /home/sam/.vast_api_key.\n",
      "Already logged in.\n"
     ]
    }
   ],
   "source": [
    "vast = VastClient().authenticate()"
   ]
  },
  {
   "cell_type": "code",
   "execution_count": 4,
   "metadata": {},
   "outputs": [],
   "source": [
    "def filter_offers():\n",
    "    return [offer for offer in vast.search_offers('dph', 'dph<.12 inet_down>200', instance_type='on-demand') \n",
    "        if offer['gpu_name'] and offer['id'] not in []]\n",
    "# print(\"%i offers.\"%len(offers))\n",
    "#for offer in offers:\n",
    "    #print(offer['id'],offer['dph_total'])"
   ]
  },
  {
   "cell_type": "code",
   "execution_count": 5,
   "metadata": {},
   "outputs": [
    {
     "name": "stdout",
     "output_type": "stream",
     "text": [
      "395017 0.025 Tesla K80 517.4 517.4\n",
      "398923 0.045 GTX 1070 Ti 434.6 434.6\n",
      "395016 0.05 Tesla K80 517.4 517.4\n",
      "398937 0.07 GTX 1080 463.7 463.7\n",
      "398934 0.075 GTX 1080 430.6 430.6\n",
      "399789 0.08 GTX 1070 Ti 859.2 859.2\n",
      "399943 0.09 GTX 1080 Ti 340.3 340.3\n",
      "399889 0.09 GTX 1070 Ti 434.2 434.2\n",
      "398922 0.09 GTX 1070 Ti 434.6 434.6\n",
      "398423 0.09 GTX 1080 Ti 261.1 261.1\n",
      "395482 0.09 GTX 1080 Ti 260.1 260.1\n",
      "389091 0.09 GTX 1080 Ti 370.6 370.6\n",
      "380556 0.09 GTX 1080 Ti 556.1 556.1\n",
      "400120 0.1 GTX 1070 Ti 304.1 304.1\n",
      "399387 0.1 GTX 1070 Ti 298.6 298.6\n",
      "396977 0.1 GTX 1080 Ti 598.6 598.6\n",
      "384637 0.1 GTX 1080 Ti 538.2 538.2\n",
      "380573 0.1 GTX 1080 Ti 535.1 535.1\n",
      "380566 0.1 GTX 1080 Ti 458.1 458.1\n",
      "380541 0.1 GTX 1080 Ti 596.4 596.4\n",
      "380534 0.1 GTX 1080 Ti 528.2 528.2\n",
      "379152 0.1 GTX 1080 Ti 427.4 427.4\n",
      "373301 0.11 GTX 1080 Ti 537.7 537.7\n",
      "373300 0.11 GTX 1080 Ti 537.7 537.7\n"
     ]
    }
   ],
   "source": [
    "for offer in filter_offers():\n",
    "    print(offer['id'], offer['dph_total'], offer['gpu_name'], offer['inet_down'], offer['inet_down'])"
   ]
  },
  {
   "cell_type": "code",
   "execution_count": 9,
   "metadata": {},
   "outputs": [
    {
     "name": "stdout",
     "output_type": "stream",
     "text": [
      "https://vast.ai/api/v0/asks/399889/?api_key=e794a3273e5a3e74d545bbc368849ff263f726042cf92587df9519a6cda62e74 \n",
      " {\"client_id\": \"me\", \"image\": \"tensorflow/tensorflow:1.14.0-gpu-py3-jupyter\", \"price\": null, \"disk\": 10, \"label\": null, \"onstart\": \"#!/bin/sh\\ntouch ~/.no_auto_tmux\\napt-get install -y mongodb-server git vim\\nservice mongodb start\\npip install --upgrade pip pipenv\\ngit clone https://github.com/samhiatt/avian_vocalizations.git\\ncd avian_vocalizations\\npipenv install\\npipenv run python setup.py develop\\n#pipenv run download_data\\n\", \"runtype\": \"ssh\", \"python_utf8\": false, \"lang_utf8\": false, \"use_jupyter_lab\": false, \"jupyter_dir\": null, \"create_from\": null, \"force\": false}\n",
      "{\"success\": true, \"new_contract\": 400500}\n",
      "Waiting 60s...\n",
      "Waiting 60s...\n"
     ]
    },
    {
     "data": {
      "text/plain": [
       "\"2019-10-25T10:38:36.773+0000 I STORAGE  [initandlisten] wiredtiger_open config: create,cache_size=23606M,session_max=20000,eviction=(threads_min=4,threads_max=4),config_base=false,statistics=(fast),log=(enabled=true,archive=true,path=journal,compressor=snappy),file_manager=(close_idle_time=100000),statistics_log=(wait=0),verbose=(recovery_progress),\\n2019-10-25T10:38:37.492+0000 I CONTROL  [initandlisten] \\n2019-10-25T10:38:37.492+0000 I CONTROL  [initandlisten] ** WARNING: Access control is not enabled for the database.\\n2019-10-25T10:38:37.492+0000 I CONTROL  [initandlisten] **          Read and write access to data and configuration is unrestricted.\\n2019-10-25T10:38:37.492+0000 I CONTROL  [initandlisten] \\n2019-10-25T10:38:37.492+0000 I STORAGE  [initandlisten] createCollection: admin.system.version with provided UUID: f9aa4ea5-ffd7-48ba-bcc1-a3f4da43bcf9\\n2019-10-25T10:38:37.502+0000 I COMMAND  [initandlisten] setting featureCompatibilityVersion to 3.6\\n2019-10-25T10:38:37.508+0000 I STORAGE  [initandlisten] createCollection: local.startup_log with generated UUID: 80003315-fa9b-437e-bdda-f41b96e0ff4c\\n2019-10-25T10:38:37.518+0000 I FTDC     [initandlisten] Initializing full-time diagnostic data capture with directory '/var/lib/mongodb/diagnostic.data'\\n2019-10-25T10:38:37.518+0000 I NETWORK  [initandlisten] waiting for connections on port 27017\\n\""
      ]
     },
     "execution_count": 9,
     "metadata": {},
     "output_type": "execute_result"
    }
   ],
   "source": [
    "offer = 399889\n",
    "# offer = filter_offers()[0]['id']\n",
    "onstart = \"#!/bin/sh\\n\"\\\n",
    "          \"touch ~/.no_auto_tmux\\n\"\\\n",
    "          \"apt-get install -y mongodb-server git vim\\n\"\\\n",
    "          \"#service mongodb start\\n\"\\\n",
    "          \"pip install --upgrade pip pipenv\\n\"\\\n",
    "          \"git clone https://github.com/samhiatt/avian_vocalizations.git\\n\"\\\n",
    "          \"cd avian_vocalizations\\n\"\\\n",
    "          \"pipenv install\\n\"\\\n",
    "          \"pipenv run python setup.py develop\\n\"\\\n",
    "          \"#pipenv run download_data\\n\"\n",
    "resp=vast.create_instance(offer, disk=10, onstart_cmd=onstart,\n",
    "                          image=\"tensorflow/tensorflow:1.14.0-gpu-py3-jupyter\")\n",
    "mongo_instance_id = resp['new_contract']\n",
    "time.sleep(30)\n",
    "mongo_instance = vast.get_instance(mongo_instance_id).wait_until_running()\n",
    "# mongo_instance.pb_remote.sftp.put(\"remote_config/mongodb.conf\",\"/etc/mongodb.conf\")\n",
    "# mongo_instance.pb_remote.session().run(\"mkdir /dev/shm/mongodb;\"\n",
    "#                                        \"chown mongodb.mongodb /dev/shm/mongodb;\"\n",
    "#                                        \"service mongodb restart\")\n",
    "mongo_instance.pb_remote['tail']('/var/log/mongodb/mongodb.log')\n",
    "\n",
    "# onstart = \"#!/bin/sh\\n\"\\\n",
    "#           \"touch ~/.no_auto_tmux\\n\"\\\n",
    "#           \"apt-get install -y mongodb-server\\n\"\\\n",
    "#           \"mkdir -p ~/.ssh\\n\"\\\n",
    "#           \"ssh-keygen  -P '' -f ~/.ssh/mongo\\n\"\n",
    "# resp=vast.create_instance(filter_offers()[0]['id'], disk=1, onstart_cmd=onstart,\n",
    "#                           image=\"tensorflow/tensorflow:1.14.0-gpu-py3-jupyter\")\n",
    "# worker_instance_id = resp['new_contract']\n",
    "\n",
    "# time.sleep(30)\n",
    "# worker_instance = vast.get_instance(worker_instance_id)"
   ]
  },
  {
   "cell_type": "code",
   "execution_count": 19,
   "metadata": {},
   "outputs": [
    {
     "data": {
      "text/plain": [
       "'pipenv run hyperopt-mongo-worker --mongo=localhost:27017/hyperopt --max-consecutive-failures=1 --reserve-timeout=36600;'"
      ]
     },
     "execution_count": 19,
     "metadata": {},
     "output_type": "execute_result"
    }
   ],
   "source": [
    "(\"pipenv run hyperopt-mongo-worker --mongo=localhost:27017/hyperopt --max-consecutive-failures=1 --reserve-timeout=36600;\")"
   ]
  },
  {
   "cell_type": "code",
   "execution_count": 10,
   "metadata": {},
   "outputs": [
    {
     "data": {
      "text/plain": [
       "400500: running   $0.0921/hr ssh5.vast.ai:10500  343.6↑ 434.2↓  flops:9.295104T\n",
       "\t1X 7.9GB GTX 1070 Ti, 10.666656/32X 23.8GB AMD Ryzen Threadripper 1950X 16-Core Processor\n",
       "\tSuccessfully loaded tensorflow/tensorflow:1.14.0-gpu-py3-jupyter"
      ]
     },
     "execution_count": 10,
     "metadata": {},
     "output_type": "execute_result"
    }
   ],
   "source": [
    "mongo_instance.wait_until_running()"
   ]
  },
  {
   "cell_type": "code",
   "execution_count": 11,
   "metadata": {},
   "outputs": [
    {
     "data": {
      "text/plain": [
       "'ssh root@ssh5.vast.ai -p 10500 -i /home/sam/.ssh/vastai'"
      ]
     },
     "execution_count": 11,
     "metadata": {},
     "output_type": "execute_result"
    }
   ],
   "source": [
    "mongo_instance.get_ssh_connection_command()"
   ]
  },
  {
   "cell_type": "code",
   "execution_count": 40,
   "metadata": {},
   "outputs": [
    {
     "name": "stdout",
     "output_type": "stream",
     "text": [
      "status is 'loading', waiting 60s...\n"
     ]
    },
    {
     "data": {
      "text/plain": [
       "       ID Machine   Status  Num        Model Util. % vCPUs   RAM Storage      SSH Addr SSH Port    $/hr                                         Image Net up Net down     R\n",
       "0  398092     940  running  1 x  GTX 1070 Ti     0.0   4.0  32.0       1  ssh5.vast.ai    26322  0.0864  tensorflow/tensorflow:1.14.0-gpu-py3-jupyter  302.2    314.6  97.8"
      ]
     },
     "execution_count": 40,
     "metadata": {},
     "output_type": "execute_result"
    }
   ],
   "source": [
    "# worker_instance.wait_until_running()"
   ]
  },
  {
   "cell_type": "code",
   "execution_count": 26,
   "metadata": {},
   "outputs": [
    {
     "data": {
      "text/plain": [
       "[' * Checking status of database mongodb', '   ...done.', '']"
      ]
     },
     "metadata": {},
     "output_type": "display_data"
    }
   ],
   "source": [
    "\n",
    "print(mongo_instance.pb_remote['service'](['mongodb','status']))"
   ]
  },
  {
   "cell_type": "code",
   "execution_count": 27,
   "metadata": {},
   "outputs": [
    {
     "data": {
      "text/plain": [
       "True"
      ]
     },
     "execution_count": 27,
     "metadata": {},
     "output_type": "execute_result"
    }
   ],
   "source": [
    "worker_machine.path('~/.ssh/mongo.pub').isfile()"
   ]
  },
  {
   "cell_type": "code",
   "execution_count": 28,
   "metadata": {},
   "outputs": [
    {
     "data": {
      "text/plain": [
       "'ssh-rsa AAAAB3NzaC1yc2EAAAADAQABAAABAQCwQNWg4ud+cP01AhsHEPohGD7/XRafkPiR0PpUrxMX6NOZUgOYuQzK9EN/667HhTnYJm6Yhez/gNGM8/GGzvuDoQQZazEwpnDtCQsgzS9wjBqmxT7pb2jeLuzZGGoXGMN2tY2dNw6TOJvc80QJKtU3hj4NEynTPi96uz888iClf6Gc8/H9rZYkZGF8jBgm5i8ONlbMWDHGlFryOtbuW2XZQZ+Li7ZP8Ad3ozk1pcZIW26IFcihqlxo8sEh+nHyY/Xsyt1bfjy6B7V3rDOBradwxnH5JGiSIZjobLRXrVJ4xxEk/GfJrhywdK3g8lTwVBUdasXJpI08m3P27sszlleB root@b9df8fc9c11d\\n'"
      ]
     },
     "execution_count": 28,
     "metadata": {},
     "output_type": "execute_result"
    }
   ],
   "source": [
    "pub_key=worker_machine['cat'](worker_machine.path('~/.ssh/mongo.pub'))\n",
    "pub_key"
   ]
  },
  {
   "cell_type": "code",
   "execution_count": null,
   "metadata": {},
   "outputs": [],
   "source": [
    "mongo_machine.session().run('echo \"\\n%s\" >> %s'%(pub_key, mongo_machine.path('~/.ssh/authorized_keys')))"
   ]
  },
  {
   "cell_type": "code",
   "execution_count": 30,
   "metadata": {
    "scrolled": true
   },
   "outputs": [
    {
     "data": {
      "text/plain": [
       "'ssh-rsa AAAAB3NzaC1yc2EAAAADAQABAAABAQDaKOIegXeknsbwKsyvY+sdgRFn71kg9yr64ktpV17ImXrggQ+LHmhqMhbv/1gNQhNKIRJz7FllaxxQZkeOnqcv/tLpom3NaZG7OMWkfRR7IK1Apv4n9J2sGUIHlBTyjdDmawiXlttzDjphcR0ZSZ58V+8Hr/S7L+pb1nkXmSY109LV6XjYjo1DPmngU+lnAFilErV3fSZFnmKDA95xQH+ZVN91nKO/jsUOLAIeIo4o5aSR/nv8KGB9GpKbVAueXPji/HrWijXuWSepEtbhtBq8cXTFqgoakhD/Cz4kmZIqwVOLRU+OZRq+xFsJK1UQBR34GRcQeda5AKQ7tDypK2Rj sam@localhost\\nssh-rsa AAAAB3NzaC1yc2EAAAADAQABAAABAQCwQNWg4ud+cP01AhsHEPohGD7/XRafkPiR0PpUrxMX6NOZUgOYuQzK9EN/667HhTnYJm6Yhez/gNGM8/GGzvuDoQQZazEwpnDtCQsgzS9wjBqmxT7pb2jeLuzZGGoXGMN2tY2dNw6TOJvc80QJKtU3hj4NEynTPi96uz888iClf6Gc8/H9rZYkZGF8jBgm5i8ONlbMWDHGlFryOtbuW2XZQZ+Li7ZP8Ad3ozk1pcZIW26IFcihqlxo8sEh+nHyY/Xsyt1bfjy6B7V3rDOBradwxnH5JGiSIZjobLRXrVJ4xxEk/GfJrhywdK3g8lTwVBUdasXJpI08m3P27sszlleB root@b9df8fc9c11d\\n\\n'"
      ]
     },
     "execution_count": 30,
     "metadata": {},
     "output_type": "execute_result"
    }
   ],
   "source": [
    "mongo_machine['cat'](mongo_machine.path('~/.ssh/authorized_keys'))"
   ]
  },
  {
   "cell_type": "code",
   "execution_count": 32,
   "metadata": {},
   "outputs": [
    {
     "data": {
      "text/plain": [
       "'ssh root@ssh5.vast.ai -p 38754 -i /home/sam/.ssh/vastai'"
      ]
     },
     "execution_count": 32,
     "metadata": {},
     "output_type": "execute_result"
    }
   ],
   "source": [
    "worker_instance.get_ssh_connection_command()"
   ]
  },
  {
   "cell_type": "code",
   "execution_count": 33,
   "metadata": {},
   "outputs": [
    {
     "data": {
      "text/plain": [
       "'ssh root@ssh4.vast.ai -p 38753 -i /home/sam/.ssh/vastai'"
      ]
     },
     "execution_count": 33,
     "metadata": {},
     "output_type": "execute_result"
    }
   ],
   "source": [
    "mongo_instance.get_ssh_connection_command()"
   ]
  },
  {
   "cell_type": "code",
   "execution_count": 81,
   "metadata": {},
   "outputs": [
    {
     "data": {
      "text/plain": [
       "'/root/.ssh/mongo.pub'"
      ]
     },
     "execution_count": 81,
     "metadata": {},
     "output_type": "execute_result"
    }
   ],
   "source": [
    "\"%s\"%mongo_machine.path('~/.ssh/mongo.pub')"
   ]
  },
  {
   "cell_type": "code",
   "execution_count": 6,
   "metadata": {},
   "outputs": [],
   "source": [
    "mongo_instance = vast.get_instance(398753)"
   ]
  },
  {
   "cell_type": "code",
   "execution_count": 7,
   "metadata": {},
   "outputs": [],
   "source": [
    "worker_instance = vast.get_instance(398754)"
   ]
  },
  {
   "cell_type": "code",
   "execution_count": 8,
   "metadata": {},
   "outputs": [
    {
     "name": "stdout",
     "output_type": "stream",
     "text": [
      "Starting instance 398753.\n"
     ]
    },
    {
     "data": {
      "text/plain": [
       "<ParamikoMachine paramiko://root@ssh4.vast.ai>"
      ]
     },
     "execution_count": 8,
     "metadata": {},
     "output_type": "execute_result"
    }
   ],
   "source": [
    "mongo_instance.start().wait_until_running(check_every_s=15)\n",
    "mongo_machine = mongo_instance.pb_remote()\n",
    "mongo_machine"
   ]
  },
  {
   "cell_type": "code",
   "execution_count": 19,
   "metadata": {},
   "outputs": [
    {
     "name": "stdout",
     "output_type": "stream",
     "text": [
      "/root\n",
      "\n"
     ]
    }
   ],
   "source": [
    "print(mongo_machine['pwd']())"
   ]
  },
  {
   "cell_type": "code",
   "execution_count": null,
   "metadata": {},
   "outputs": [],
   "source": []
  },
  {
   "cell_type": "code",
   "execution_count": null,
   "metadata": {},
   "outputs": [],
   "source": [
    "worker_instance.start().wait_until_running()\n",
    "worker_machine = mongo_instance.pb_remote()\n",
    "worker_machine"
   ]
  },
  {
   "cell_type": "code",
   "execution_count": 34,
   "metadata": {},
   "outputs": [
    {
     "data": {
      "text/plain": [
       "'ssh-rsa AAAAB3NzaC1yc2EAAAADAQABAAABAQDaKOIegXeknsbwKsyvY+sdgRFn71kg9yr64ktpV17ImXrggQ+LHmhqMhbv/1gNQhNKIRJz7FllaxxQZkeOnqcv/tLpom3NaZG7OMWkfRR7IK1Apv4n9J2sGUIHlBTyjdDmawiXlttzDjphcR0ZSZ58V+8Hr/S7L+pb1nkXmSY109LV6XjYjo1DPmngU+lnAFilErV3fSZFnmKDA95xQH+ZVN91nKO/jsUOLAIeIo4o5aSR/nv8KGB9GpKbVAueXPji/HrWijXuWSepEtbhtBq8cXTFqgoakhD/Cz4kmZIqwVOLRU+OZRq+xFsJK1UQBR34GRcQeda5AKQ7tDypK2Rj sam@localhost'"
      ]
     },
     "execution_count": 34,
     "metadata": {},
     "output_type": "execute_result"
    }
   ],
   "source": [
    "mongo_machine['cat'](\"/root/.ssh/authorized_keys\")"
   ]
  },
  {
   "cell_type": "code",
   "execution_count": 35,
   "metadata": {},
   "outputs": [
    {
     "data": {
      "text/plain": [
       "'#!/bin/sh\\napt-get install -y mongodb-server\\nservice mongodb start\\n'"
      ]
     },
     "execution_count": 35,
     "metadata": {},
     "output_type": "execute_result"
    }
   ],
   "source": [
    "mongo_machine['cat']('onstart.sh')"
   ]
  },
  {
   "cell_type": "code",
   "execution_count": 36,
   "metadata": {},
   "outputs": [
    {
     "data": {
      "text/plain": [
       "'ssh root@ssh4.vast.ai -p 38753 -i /home/sam/.ssh/vastai'"
      ]
     },
     "execution_count": 36,
     "metadata": {},
     "output_type": "execute_result"
    }
   ],
   "source": [
    "mongo_instance.get_ssh_connection_command()"
   ]
  },
  {
   "cell_type": "code",
   "execution_count": 40,
   "metadata": {},
   "outputs": [
    {
     "data": {
      "text/plain": [
       "[ProcInfo(1, 0, 'Ss+', '/bin/bash -c while [ ! -e /.launch ]; do sleep 1; done; bash /.launch'),\n",
       " ProcInfo(6, 0, 'S+', 'bash /.launch'),\n",
       " ProcInfo(16, 0, 'Ss', '/usr/sbin/sshd'),\n",
       " ProcInfo(21, 0, 'S+', 'ssh -i /etc/forward_key -N -o TCPKeepAlive=yes -o ServerAliveInterval=10 -o ServerAliveCountMax=2 ubuntu@ssh4.vast.ai -o StrictHostKeyChecking=no -o ConnectTimeout=10 -o RequestTTY=no -o ExitOnForwardFailure=yes -R \\\\*:38753:localhost:22'),\n",
       " ProcInfo(44, 103, 'Sl', '/usr/bin/mongod --config /etc/mongodb.conf'),\n",
       " ProcInfo(177, 0, 'Ss', 'sshd: root@notty'),\n",
       " ProcInfo(192, 0, 'Ss', '-bash'),\n",
       " ProcInfo(198, 0, 'Ss', '/usr/lib/openssh/sftp-server'),\n",
       " ProcInfo(200, 0, 'Ss', 'sshd: root@notty'),\n",
       " ProcInfo(215, 0, 'Ss', '-bash'),\n",
       " ProcInfo(221, 0, 'Ss', '/usr/lib/openssh/sftp-server'),\n",
       " ProcInfo(541, 0, 'Rs', '/bin/ps -e -o pid,uid,stat,args')]"
      ]
     },
     "execution_count": 40,
     "metadata": {},
     "output_type": "execute_result"
    }
   ],
   "source": [
    "list(mongo_machine.pgrep(\"\"))"
   ]
  },
  {
   "cell_type": "code",
   "execution_count": 41,
   "metadata": {},
   "outputs": [
    {
     "data": {
      "text/plain": [
       "[ProcInfo(1, 0, 'Ss+', '/bin/bash -c while [ ! -e /.launch ]; do sleep 1; done; bash /.launch'),\n",
       " ProcInfo(6, 0, 'S+', 'bash /.launch'),\n",
       " ProcInfo(16, 0, 'Ss', '/usr/sbin/sshd'),\n",
       " ProcInfo(21, 0, 'S+', 'ssh -i /etc/forward_key -N -o TCPKeepAlive=yes -o ServerAliveInterval=10 -o ServerAliveCountMax=2 ubuntu@ssh4.vast.ai -o StrictHostKeyChecking=no -o ConnectTimeout=10 -o RequestTTY=no -o ExitOnForwardFailure=yes -R \\\\*:38753:localhost:22'),\n",
       " ProcInfo(44, 103, 'Sl', '/usr/bin/mongod --config /etc/mongodb.conf'),\n",
       " ProcInfo(177, 0, 'Ss', 'sshd: root@notty'),\n",
       " ProcInfo(192, 0, 'Ss', '-bash'),\n",
       " ProcInfo(198, 0, 'Ss', '/usr/lib/openssh/sftp-server'),\n",
       " ProcInfo(200, 0, 'Ss', 'sshd: root@notty'),\n",
       " ProcInfo(215, 0, 'Ss', '-bash'),\n",
       " ProcInfo(221, 0, 'Ss', '/usr/lib/openssh/sftp-server'),\n",
       " ProcInfo(542, 0, 'Rs', '/bin/ps -e -o pid,uid,stat,args')]"
      ]
     },
     "execution_count": 41,
     "metadata": {},
     "output_type": "execute_result"
    }
   ],
   "source": [
    "list(worker_machine.pgrep(''))"
   ]
  },
  {
   "cell_type": "code",
   "execution_count": 42,
   "metadata": {},
   "outputs": [
    {
     "name": "stdout",
     "output_type": "stream",
     "text": [
      "Stopping instance 398753.\n",
      "Stopping instance 398754.\n"
     ]
    }
   ],
   "source": [
    "vast.stop_all_instances()"
   ]
  },
  {
   "cell_type": "code",
   "execution_count": 150,
   "metadata": {},
   "outputs": [
    {
     "data": {
      "text/plain": [
       "[398753: offline   $0.0252/hr ssh4.vast.ai:38753  423.8↑ 495.8↓  flops:8.736T\n",
       " \t1X 11.2GB Tesla K80, 16.0/32X 15.7GB Xeon® Silver 4108 \n",
       " \tSuccessfully loaded tensorflow/tensorflow:1.14.0-gpu-py3-jupyter,\n",
       " 398754: offline   $0.0252/hr ssh5.vast.ai:38754  423.8↑ 495.8↓  flops:8.736T\n",
       " \t1X 11.2GB Tesla K80, 16.0/32X 15.7GB Xeon® Silver 4108 \n",
       " \tSuccessfully loaded tensorflow/tensorflow:1.14.0-gpu-py3-jupyter]"
      ]
     },
     "execution_count": 150,
     "metadata": {},
     "output_type": "execute_result"
    }
   ],
   "source": [
    "vast.get_instances()"
   ]
  },
  {
   "cell_type": "code",
   "execution_count": 86,
   "metadata": {},
   "outputs": [],
   "source": [
    "inst=vast.get_instances()[0]"
   ]
  },
  {
   "cell_type": "code",
   "execution_count": 147,
   "metadata": {},
   "outputs": [
    {
     "data": {
      "text/plain": [
       "398753: offline   $0.0252/hr ssh4.vast.ai:38753  423.8↑ 495.8↓  flops:8.736T\n",
       "\t1X 11.2GB Tesla K80, 16.0/32X 15.7GB Xeon® Silver 4108 \n",
       "\tSuccessfully loaded tensorflow/tensorflow:1.14.0-gpu-py3-jupyter"
      ]
     },
     "execution_count": 147,
     "metadata": {},
     "output_type": "execute_result"
    }
   ],
   "source": [
    "inst"
   ]
  },
  {
   "cell_type": "code",
   "execution_count": 149,
   "metadata": {},
   "outputs": [
    {
     "name": "stdout",
     "output_type": "stream",
     "text": [
      "Stopping instance 398753.\n",
      "Stopping instance 398754.\n"
     ]
    }
   ],
   "source": [
    "vast.stop_all_instances()"
   ]
  },
  {
   "cell_type": "code",
   "execution_count": null,
   "metadata": {},
   "outputs": [],
   "source": []
  }
 ],
 "metadata": {
  "kernelspec": {
   "display_name": "avian_vocalizations",
   "language": "python",
   "name": "avian_vocalizations"
  },
  "language_info": {
   "codemirror_mode": {
    "name": "ipython",
    "version": 3
   },
   "file_extension": ".py",
   "mimetype": "text/x-python",
   "name": "python",
   "nbconvert_exporter": "python",
   "pygments_lexer": "ipython3",
   "version": "3.6.8"
  }
 },
 "nbformat": 4,
 "nbformat_minor": 2
}
