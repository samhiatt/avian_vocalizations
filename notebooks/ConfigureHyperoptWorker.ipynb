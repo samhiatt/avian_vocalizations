{
 "cells": [
  {
   "cell_type": "code",
   "execution_count": 1,
   "metadata": {},
   "outputs": [],
   "source": [
    "%reload_ext autoreload\n",
    "%autoreload 2"
   ]
  },
  {
   "cell_type": "code",
   "execution_count": 2,
   "metadata": {},
   "outputs": [],
   "source": [
    "from vastai.api import VastClient\n",
    "from io import StringIO\n",
    "import time\n",
    "from IPython.display import clear_output"
   ]
  },
  {
   "cell_type": "code",
   "execution_count": 3,
   "metadata": {
    "scrolled": true
   },
   "outputs": [
    {
     "name": "stdout",
     "output_type": "stream",
     "text": [
      "Initializing vast.ai client with api_key from /home/sam/.vast_api_key.\n"
     ]
    }
   ],
   "source": [
    "vast = VastClient().authenticate()"
   ]
  },
  {
   "cell_type": "code",
   "execution_count": 14,
   "metadata": {},
   "outputs": [
    {
     "data": {
      "text/plain": [
       "[]"
      ]
     },
     "execution_count": 14,
     "metadata": {},
     "output_type": "execute_result"
    }
   ],
   "source": [
    "vast.get_running_instances()"
   ]
  },
  {
   "cell_type": "code",
   "execution_count": 4,
   "metadata": {
    "code_folding": []
   },
   "outputs": [],
   "source": [
    "def monitor_file(log_file, popen=None, n_lines=5, update_freq_s=1):\n",
    "    while True:\n",
    "        try:\n",
    "            clear_output(wait=True)\n",
    "            print(remote['tail'](log_file,'-n%i'%n_lines))\n",
    "            if popen is not None:\n",
    "                ret = popen.proc.poll()\n",
    "                if ret is not None:\n",
    "                    print(\"Process has exited with code:\",popen.proc.poll())\n",
    "                    break\n",
    "            time.sleep(update_freq_s)\n",
    "        except KeyboardInterrupt:\n",
    "            break\n",
    "        except NameError:\n",
    "            break"
   ]
  },
  {
   "cell_type": "code",
   "execution_count": 11,
   "metadata": {},
   "outputs": [
    {
     "data": {
      "text/plain": [
       "464626: running   running              $0.1131/hr ssh4.vast.ai:24626  656.4↑ 591.7↓  flops:13.698048T\n",
       "\t1X 10.9GB GTX 1080 Ti, 5.333328/16X 31.8GB Xeon® E5-2630 v3 \n",
       "\tSuccessfully loaded tensorflow/tensorflow:1.15.2-gpu-py3-jupyter"
      ]
     },
     "execution_count": 11,
     "metadata": {},
     "output_type": "execute_result"
    }
   ],
   "source": [
    "instance = vast.get_running_instances()[0]\n",
    "remote = instance.pb_remote\n",
    "instance"
   ]
  },
  {
   "cell_type": "markdown",
   "metadata": {
    "heading_collapsed": true
   },
   "source": [
    "## Check mongo status"
   ]
  },
  {
   "cell_type": "code",
   "execution_count": 6,
   "metadata": {
    "hidden": true,
    "scrolled": true
   },
   "outputs": [
    {
     "name": "stdout",
     "output_type": "stream",
     "text": [
      "2020-01-30T07:10:06.918+0000 I INDEX    [thread3] build index done.  scanned 0 total records. 0 secs\n",
      "2020-01-30T07:10:15.031+0000 I NETWORK  [listener] connection accepted from 127.0.0.1:41432 #3 (3 connections now open)\n",
      "2020-01-30T07:10:15.145+0000 I NETWORK  [conn3] received client metadata from 127.0.0.1:41432 conn: { driver: { name: \"PyMongo\", version: \"3.9.0\" }, os: { type: \"Linux\", name: \"Linux\", architecture: \"x86_64\", version: \"3.8.11\" }, platform: \"CPython 3.6.8.final.0\" }\n",
      "2020-01-30T07:10:15.253+0000 I NETWORK  [listener] connection accepted from 127.0.0.1:41434 #4 (4 connections now open)\n",
      "2020-01-30T07:10:15.452+0000 I NETWORK  [conn4] received client metadata from 127.0.0.1:41434 conn: { driver: { name: \"PyMongo\", version: \"3.9.0\" }, os: { type: \"Linux\", name: \"Linux\", architecture: \"x86_64\", version: \"3.8.11\" }, platform: \"CPython 3.6.8.final.0\" }\n",
      "\n"
     ]
    }
   ],
   "source": [
    "print(remote['tail']('/var/log/mongodb/mongodb.log','-n5'))"
   ]
  },
  {
   "cell_type": "code",
   "execution_count": 7,
   "metadata": {
    "hidden": true
   },
   "outputs": [
    {
     "name": "stdout",
     "output_type": "stream",
     "text": [
      "ssh root@ssh4.vast.ai -p 24626 -i /home/sam/.ssh/vastai\n"
     ]
    }
   ],
   "source": [
    "print(instance.ssh_connection_command)"
   ]
  },
  {
   "cell_type": "markdown",
   "metadata": {
    "heading_collapsed": true
   },
   "source": [
    "## Install model and download data"
   ]
  },
  {
   "cell_type": "code",
   "execution_count": 14,
   "metadata": {
    "hidden": true,
    "scrolled": true
   },
   "outputs": [
    {
     "data": {
      "text/plain": [
       "<plumbum.machines.session.SessionPopen at 0x7f98ba795e80>"
      ]
     },
     "execution_count": 14,
     "metadata": {},
     "output_type": "execute_result"
    }
   ],
   "source": [
    "install_script_target='/root/install_script.sh'\n",
    "install_script = StringIO(\"\"\"#!/bin/sh\n",
    "INSTALL_LOG=/root/install.log\n",
    "echo avian_vocalizations INSTALL BEGIN `date` >> $INSTALL_LOG 2>&1\n",
    "cd ~\n",
    "[ ! -d avian_vocalizations ] && git clone https://github.com/samhiatt/avian_vocalizations.git  >> $INSTALL_LOG 2>&1\n",
    "cd avian_vocalizations\n",
    "export LC_ALL=C.UTF-8\n",
    "export LANG=C.UTF-8\n",
    "pip install pipenv  >> $INSTALL_LOG 2>&1\n",
    "pipenv lock -r > requirements.txt\n",
    "pip install -r requirements.txt >> $INSTALL_LOG 2>&1\n",
    "pip install -e . >> $INSTALL_LOG 2>&1\n",
    "download_data >> $INSTALL_LOG 2>&1\n",
    "echo avian_vocalizations INSTALL COMPLETE `date` >> INSTALL_LOG 2>&1\n",
    "\"\"\")\n",
    "# (\"\"\"pipenv install >> $INSTALL_LOG 2>&1\n",
    "# pipenv run python setup.py develop >> $INSTALL_LOG 2>&1\n",
    "# pipenv run download_data >> $INSTALL_LOG 2>&1\n",
    "# echo avian_vocalizations INSTALL COMPLETE `date` >> INSTALL_LOG 2>&1\n",
    "# \"\"\")\n",
    "# monitor_output(mongo_instance, install_script)\n",
    "remote.sftp.putfo(install_script,install_script_target)\n",
    "remote['chmod']('+x',install_script_target)\n",
    "p=remote.session().popen(install_script_target)\n",
    "p"
   ]
  },
  {
   "cell_type": "code",
   "execution_count": null,
   "metadata": {
    "hidden": true
   },
   "outputs": [],
   "source": [
    "monitor_file('/root/install.log', p)"
   ]
  },
  {
   "cell_type": "markdown",
   "metadata": {},
   "source": [
    "## Start hyperopt worker"
   ]
  },
  {
   "cell_type": "code",
   "execution_count": 12,
   "metadata": {},
   "outputs": [],
   "source": [
    "hyperopt_worker_log=\"/root/hyperopt_worker.log\"\n",
    "start_hyperopt_worker_target='/root/avian_vocalizations/start_hyperopt_worker.sh'\n",
    "start_hyperopt_worker=\"#!/bin/sh\\ncd /root/avian_vocalizations\\n\"\\\n",
    "    \"export LC_ALL=C.UTF-8\\n\"\\\n",
    "    \"export LANG=C.UTF-8\\n\"\\\n",
    "    \"hyperopt-mongo-worker --mongo=localhost:27017/avian_vocalizations \"\\\n",
    "    \" --max-consecutive-failures=1 --reserve-timeout=999999 --workdir=.\"\\\n",
    "    \" >> %s 2>&1\\n\"%hyperopt_worker_log\n",
    "\n",
    "# print(start_hyperopt_worker)\n",
    "remote.sftp.putfo(StringIO(start_hyperopt_worker),start_hyperopt_worker_target)\n",
    "remote['chmod']('+x',start_hyperopt_worker_target)\n",
    "pworker=remote.session().popen(start_hyperopt_worker_target)"
   ]
  },
  {
   "cell_type": "code",
   "execution_count": 13,
   "metadata": {},
   "outputs": [
    {
     "name": "stdout",
     "output_type": "stream",
     "text": [
      "  File \"/home/sam/Downloads/avian_vocalizations/avian_vocalizations/evaluator.py\", line 83, in ModelEvaluator\n",
      "  File \"/usr/local/lib/python3.6/dist-packages/hyperopt/mongoexp.py\", line 943, in __setitem__\n",
      "    self.handle.set_attachment(\n",
      "AttributeError: 'Attachments' object has no attribute 'handle'\n",
      "INFO:hyperopt.mongoexp:exiting with N=9223372036854775806 after 1 consecutive exceptions\n",
      "\n",
      "Process has exited with code: 0\n"
     ]
    }
   ],
   "source": [
    "monitor_file(hyperopt_worker_log, pworker)"
   ]
  },
  {
   "cell_type": "code",
   "execution_count": null,
   "metadata": {},
   "outputs": [],
   "source": [
    "# vast.stop_all_instances()"
   ]
  },
  {
   "cell_type": "code",
   "execution_count": 62,
   "metadata": {},
   "outputs": [
    {
     "data": {
      "text/plain": [
       "[]"
      ]
     },
     "execution_count": 62,
     "metadata": {},
     "output_type": "execute_result"
    }
   ],
   "source": [
    "list(remote.pgrep('hyperopt'))"
   ]
  },
  {
   "cell_type": "code",
   "execution_count": null,
   "metadata": {},
   "outputs": [],
   "source": []
  }
 ],
 "metadata": {
  "kernelspec": {
   "display_name": "avian_vocalizations_tf1.15",
   "language": "python",
   "name": "avian_vocalizations_tf1.15"
  },
  "language_info": {
   "codemirror_mode": {
    "name": "ipython",
    "version": 3
   },
   "file_extension": ".py",
   "mimetype": "text/x-python",
   "name": "python",
   "nbconvert_exporter": "python",
   "pygments_lexer": "ipython3",
   "version": "3.6.8"
  }
 },
 "nbformat": 4,
 "nbformat_minor": 2
}
