{
 "cells": [
  {
   "cell_type": "code",
   "execution_count": 2,
   "metadata": {},
   "outputs": [],
   "source": [
    "%reload_ext autoreload\n",
    "%autoreload 2"
   ]
  },
  {
   "cell_type": "code",
   "execution_count": 3,
   "metadata": {},
   "outputs": [],
   "source": [
    "from vastai.api import VastClient\n",
    "from io import StringIO\n",
    "import time\n",
    "from IPython.display import clear_output"
   ]
  },
  {
   "cell_type": "code",
   "execution_count": 4,
   "metadata": {
    "scrolled": true
   },
   "outputs": [
    {
     "name": "stdout",
     "output_type": "stream",
     "text": [
      "api_key_file:  ~/.vast_api_key\n",
      "Initializing vast.ai client with api_key from /home/sam/.vast_api_key.\n",
      "Already logged in.\n"
     ]
    }
   ],
   "source": [
    "vast = VastClient().authenticate()"
   ]
  },
  {
   "cell_type": "code",
   "execution_count": 5,
   "metadata": {
    "code_folding": [
     0
    ]
   },
   "outputs": [],
   "source": [
    "def monitor_file(log_file, popen=None, n_lines=5, update_freq_s=1):\n",
    "    while True:\n",
    "        try:\n",
    "            clear_output(wait=True)\n",
    "            print(remote['tail'](log_file,'-n%i'%n_lines))\n",
    "            if popen is not None:\n",
    "                ret = popen.proc.poll()\n",
    "                if ret is not None:\n",
    "                    print(\"Process has exited with code:\",popen.proc.poll())\n",
    "                    break\n",
    "            time.sleep(update_freq_s)\n",
    "        except KeyboardInterrupt:\n",
    "            break\n",
    "        except NameError:\n",
    "            break"
   ]
  },
  {
   "cell_type": "code",
   "execution_count": 31,
   "metadata": {},
   "outputs": [
    {
     "data": {
      "text/plain": [
       "405814: running   running              $0.0181/hr ssh4.vast.ai:15814  177.5↑ 245.7↓  flops:2.46144T\n",
       "\t1X 2.0GB GTX 1050, 32.0/32X 31.6GB Xeon® Silver 4109T \n",
       "\tSuccessfully loaded tensorflow/tensorflow:1.15.0-gpu-py3-jupyter"
      ]
     },
     "execution_count": 31,
     "metadata": {},
     "output_type": "execute_result"
    }
   ],
   "source": [
    "instance = vast.get_running_instances()[0]\n",
    "remote = instance.pb_remote\n",
    "instance"
   ]
  },
  {
   "cell_type": "markdown",
   "metadata": {},
   "source": [
    "## Check mongo status"
   ]
  },
  {
   "cell_type": "code",
   "execution_count": 32,
   "metadata": {
    "scrolled": true
   },
   "outputs": [
    {
     "name": "stdout",
     "output_type": "stream",
     "text": [
      "2019-11-05T06:45:35.297+0000 I NETWORK  [initandlisten] waiting for connections on port 27017\n",
      "2019-11-05T06:50:35.297+0000 I STORAGE  [thread1] createCollection: config.system.sessions with generated UUID: 2952b267-b50f-49e1-80a3-08c25e6f91de\n",
      "2019-11-05T06:50:35.317+0000 I INDEX    [thread1] build index on: config.system.sessions properties: { v: 2, key: { lastUse: 1 }, name: \"lsidTTLIndex\", ns: \"config.system.sessions\", expireAfterSeconds: 1800 }\n",
      "2019-11-05T06:50:35.317+0000 I INDEX    [thread1] \t building index using bulk method; build may temporarily use up to 500 megabytes of RAM\n",
      "2019-11-05T06:50:35.320+0000 I INDEX    [thread1] build index done.  scanned 0 total records. 0 secs\n",
      "\n"
     ]
    }
   ],
   "source": [
    "print(remote['tail']('/var/log/mongodb/mongodb.log','-n5'))"
   ]
  },
  {
   "cell_type": "code",
   "execution_count": 33,
   "metadata": {},
   "outputs": [
    {
     "name": "stdout",
     "output_type": "stream",
     "text": [
      "ssh root@ssh4.vast.ai -p 15814 -i /home/sam/.ssh/vastai\n"
     ]
    }
   ],
   "source": [
    "print(instance.ssh_connection_command)"
   ]
  },
  {
   "cell_type": "markdown",
   "metadata": {},
   "source": [
    "## Install model and download data"
   ]
  },
  {
   "cell_type": "code",
   "execution_count": 14,
   "metadata": {
    "scrolled": true
   },
   "outputs": [
    {
     "data": {
      "text/plain": [
       "<plumbum.machines.session.SessionPopen at 0x7f98ba795e80>"
      ]
     },
     "execution_count": 14,
     "metadata": {},
     "output_type": "execute_result"
    }
   ],
   "source": [
    "install_script_target='/root/install_script.sh'\n",
    "install_script = StringIO(\"\"\"#!/bin/sh\n",
    "INSTALL_LOG=/root/install.log\n",
    "echo avian_vocalizations INSTALL BEGIN `date` >> $INSTALL_LOG 2>&1\n",
    "cd ~\n",
    "[ ! -d avian_vocalizations ] && git clone https://github.com/samhiatt/avian_vocalizations.git  >> $INSTALL_LOG 2>&1\n",
    "cd avian_vocalizations\n",
    "export LC_ALL=C.UTF-8\n",
    "export LANG=C.UTF-8\n",
    "pip install pipenv  >> $INSTALL_LOG 2>&1\n",
    "pipenv lock -r > requirements.txt\n",
    "pip install -r requirements.txt >> $INSTALL_LOG 2>&1\n",
    "pip install -e . >> $INSTALL_LOG 2>&1\n",
    "download_data >> $INSTALL_LOG 2>&1\n",
    "echo avian_vocalizations INSTALL COMPLETE `date` >> INSTALL_LOG 2>&1\n",
    "\"\"\")\n",
    "# (\"\"\"pipenv install >> $INSTALL_LOG 2>&1\n",
    "# pipenv run python setup.py develop >> $INSTALL_LOG 2>&1\n",
    "# pipenv run download_data >> $INSTALL_LOG 2>&1\n",
    "# echo avian_vocalizations INSTALL COMPLETE `date` >> INSTALL_LOG 2>&1\n",
    "# \"\"\")\n",
    "# monitor_output(mongo_instance, install_script)\n",
    "remote.sftp.putfo(install_script,install_script_target)\n",
    "remote['chmod']('+x',install_script_target)\n",
    "p=remote.session().popen(install_script_target)\n",
    "p"
   ]
  },
  {
   "cell_type": "code",
   "execution_count": null,
   "metadata": {},
   "outputs": [],
   "source": [
    "monitor_file('/root/install.log', p)"
   ]
  },
  {
   "cell_type": "markdown",
   "metadata": {},
   "source": [
    "## Start hyperopt worker"
   ]
  },
  {
   "cell_type": "code",
   "execution_count": 88,
   "metadata": {},
   "outputs": [],
   "source": [
    "hyperopt_worker_log=\"/root/hyperopt_worker.log\"\n",
    "start_hyperopt_worker_target='/root/avian_vocalizations/start_hyperopt_worker.sh'\n",
    "start_hyperopt_worker=\"#!/bin/sh\\ncd /root/avian_vocalizations\\n\"\\\n",
    "    \"export LC_ALL=C.UTF-8\\n\"\\\n",
    "    \"export LANG=C.UTF-8\\n\"\\\n",
    "    \"hyperopt-mongo-worker --mongo=localhost:27017/avian_vocalizations \"\\\n",
    "    \" --max-consecutive-failures=1 --reserve-timeout=999999 --workdir=.\"\\\n",
    "    \" >> %s 2>&1\\n\"%hyperopt_worker_log\n",
    "\n",
    "# print(start_hyperopt_worker)\n",
    "remote.sftp.putfo(StringIO(start_hyperopt_worker),start_hyperopt_worker_target)\n",
    "remote['chmod']('+x',start_hyperopt_worker_target)\n",
    "pworker=remote.session().popen(start_hyperopt_worker_target)"
   ]
  },
  {
   "cell_type": "code",
   "execution_count": 89,
   "metadata": {},
   "outputs": [
    {
     "name": "stdout",
     "output_type": "stream",
     "text": [
      "  (1) Unknown: Failed to get convolution algorithm. This is probably because cuDNN failed to initialize, so try looking to see if a warning log message was printed above.\n",
      "\t [[{{node mfcc_conv2d_1_1/convolution}}]]\n",
      "0 successful operations.\n",
      "0 derived errors ignored.\n",
      "INFO:hyperopt.mongoexp:exiting with N=9223372036854775806 after 1 consecutive exceptions\n",
      "\n",
      "Process has exited with code: 0\n"
     ]
    }
   ],
   "source": [
    "monitor_file(hyperopt_worker_log, pworker)"
   ]
  },
  {
   "cell_type": "code",
   "execution_count": null,
   "metadata": {},
   "outputs": [],
   "source": [
    "# vast.stop_all_instances()"
   ]
  },
  {
   "cell_type": "code",
   "execution_count": 62,
   "metadata": {},
   "outputs": [
    {
     "data": {
      "text/plain": [
       "[]"
      ]
     },
     "execution_count": 62,
     "metadata": {},
     "output_type": "execute_result"
    }
   ],
   "source": [
    "list(remote.pgrep('hyperopt'))"
   ]
  },
  {
   "cell_type": "code",
   "execution_count": null,
   "metadata": {},
   "outputs": [],
   "source": []
  }
 ],
 "metadata": {
  "kernelspec": {
   "display_name": "avian_vocalizations_tf1.15",
   "language": "python",
   "name": "avian_vocalizations_tf1.15"
  },
  "language_info": {
   "codemirror_mode": {
    "name": "ipython",
    "version": 3
   },
   "file_extension": ".py",
   "mimetype": "text/x-python",
   "name": "python",
   "nbconvert_exporter": "python",
   "pygments_lexer": "ipython3",
   "version": "3.6.8"
  }
 },
 "nbformat": 4,
 "nbformat_minor": 2
}
