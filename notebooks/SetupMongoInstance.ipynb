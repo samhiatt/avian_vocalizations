{
 "cells": [
  {
   "cell_type": "code",
   "execution_count": 2,
   "metadata": {},
   "outputs": [],
   "source": [
    "%reload_ext autoreload\n",
    "%autoreload 2"
   ]
  },
  {
   "cell_type": "code",
   "execution_count": 3,
   "metadata": {},
   "outputs": [],
   "source": [
    "from vastai.api import VastClient\n",
    "from io import StringIO"
   ]
  },
  {
   "cell_type": "code",
   "execution_count": 4,
   "metadata": {
    "scrolled": true
   },
   "outputs": [
    {
     "name": "stdout",
     "output_type": "stream",
     "text": [
      "api_key_file:  ~/.vast_api_key\n",
      "Initializing vast.ai client with api_key from /home/sam/.vast_api_key.\n",
      "Already logged in.\n"
     ]
    }
   ],
   "source": [
    "vast = VastClient().authenticate()"
   ]
  },
  {
   "cell_type": "markdown",
   "metadata": {},
   "source": [
    "## Search for Available Machines"
   ]
  },
  {
   "cell_type": "code",
   "execution_count": 15,
   "metadata": {},
   "outputs": [],
   "source": [
    "def filter_offers():\n",
    "    return [offer for offer in vast.search_offers('dph', 'dph<.12 inet_down>200', instance_type='on-demand') \n",
    "        if offer['gpu_name'] and offer['id'] not in []]"
   ]
  },
  {
   "cell_type": "code",
   "execution_count": null,
   "metadata": {
    "scrolled": true
   },
   "outputs": [],
   "source": [
    "for offer in filter_offers():\n",
    "    print(offer['id'], offer['dph_total'], offer['gpu_name'], offer['inet_down'], offer['inet_down'])"
   ]
  },
  {
   "cell_type": "markdown",
   "metadata": {},
   "source": [
    "## Start new Instance with Mongodb"
   ]
  },
  {
   "cell_type": "code",
   "execution_count": 7,
   "metadata": {},
   "outputs": [
    {
     "name": "stdout",
     "output_type": "stream",
     "text": [
      "https://vast.ai/api/v0/asks/399889/?api_key=e794a3273e5a3e74d545bbc368849ff263f726042cf92587df9519a6cda62e74 \n",
      " {\"client_id\": \"me\", \"image\": \"tensorflow/tensorflow:1.14.0-gpu-py3-jupyter\", \"price\": null, \"disk\": 20, \"label\": null, \"onstart\": \"#!/bin/sh\\ntouch ~/.no_auto_tmux\\necho onstart.sh Starting `date` >> /root/startup.log\\napt-get install -y mongodb-server git vim\\nservice mongodb start\\npip install --upgrade pip pipenv\\n\", \"runtype\": \"ssh\", \"python_utf8\": false, \"lang_utf8\": false, \"use_jupyter_lab\": false, \"jupyter_dir\": null, \"create_from\": null, \"force\": false}\n",
      "{\"success\": true, \"new_contract\": 401072}\n",
      "Waiting 60s...\n",
      "Waiting 60s...\n",
      "Waiting 60s...\n"
     ]
    },
    {
     "ename": "CommandNotFound",
     "evalue": "('tail -n 2', [<RemotePath /usr/local/sbin>, <RemotePath /usr/local/bin>, <RemotePath /usr/sbin>, <RemotePath /usr/bin>, <RemotePath /sbin>, <RemotePath /bin>, <RemotePath /usr/games>, <RemotePath /usr/local/games>])",
     "output_type": "error",
     "traceback": [
      "\u001b[0;31m---------------------------------------------------------------------------\u001b[0m",
      "\u001b[0;31mCommandNotFound\u001b[0m                           Traceback (most recent call last)",
      "\u001b[0;32m<ipython-input-7-3ef6d43a0b35>\u001b[0m in \u001b[0;36m<module>\u001b[0;34m\u001b[0m\n\u001b[1;32m     14\u001b[0m \u001b[0mmongo_instance\u001b[0m \u001b[0;34m=\u001b[0m \u001b[0mvast\u001b[0m\u001b[0;34m.\u001b[0m\u001b[0mget_instance\u001b[0m\u001b[0;34m(\u001b[0m\u001b[0mmongo_instance_id\u001b[0m\u001b[0;34m,\u001b[0m \u001b[0mretries\u001b[0m\u001b[0;34m=\u001b[0m\u001b[0;36m4\u001b[0m\u001b[0;34m)\u001b[0m\u001b[0;34m.\u001b[0m\u001b[0mwait_until_running\u001b[0m\u001b[0;34m(\u001b[0m\u001b[0;34m)\u001b[0m\u001b[0;34m\u001b[0m\u001b[0;34m\u001b[0m\u001b[0m\n\u001b[1;32m     15\u001b[0m \u001b[0;34m\u001b[0m\u001b[0m\n\u001b[0;32m---> 16\u001b[0;31m \u001b[0mprint\u001b[0m\u001b[0;34m(\u001b[0m\u001b[0mmongo_instance\u001b[0m\u001b[0;34m.\u001b[0m\u001b[0mpb_remote\u001b[0m\u001b[0;34m[\u001b[0m\u001b[0;34m'tail -n 2'\u001b[0m\u001b[0;34m]\u001b[0m\u001b[0;34m(\u001b[0m\u001b[0;34m'/var/log/mongodb/mongodb.log'\u001b[0m\u001b[0;34m)\u001b[0m\u001b[0;34m)\u001b[0m\u001b[0;34m\u001b[0m\u001b[0;34m\u001b[0m\u001b[0m\n\u001b[0m",
      "\u001b[0;32m~/Downloads/avian_vocalizations/.env/lib/python3.6/site-packages/plumbum/machines/remote.py\u001b[0m in \u001b[0;36m__getitem__\u001b[0;34m(self, cmd)\u001b[0m\n\u001b[1;32m    257\u001b[0m                 \u001b[0;32mreturn\u001b[0m \u001b[0mself\u001b[0m\u001b[0;34m.\u001b[0m\u001b[0mRemoteCommand\u001b[0m\u001b[0;34m(\u001b[0m\u001b[0mself\u001b[0m\u001b[0;34m,\u001b[0m \u001b[0mself\u001b[0m\u001b[0;34m.\u001b[0m\u001b[0mpath\u001b[0m\u001b[0;34m(\u001b[0m\u001b[0mcmd\u001b[0m\u001b[0;34m)\u001b[0m\u001b[0;34m)\u001b[0m\u001b[0;34m\u001b[0m\u001b[0;34m\u001b[0m\u001b[0m\n\u001b[1;32m    258\u001b[0m             \u001b[0;32melse\u001b[0m\u001b[0;34m:\u001b[0m\u001b[0;34m\u001b[0m\u001b[0;34m\u001b[0m\u001b[0m\n\u001b[0;32m--> 259\u001b[0;31m                 \u001b[0;32mreturn\u001b[0m \u001b[0mself\u001b[0m\u001b[0;34m.\u001b[0m\u001b[0mRemoteCommand\u001b[0m\u001b[0;34m(\u001b[0m\u001b[0mself\u001b[0m\u001b[0;34m,\u001b[0m \u001b[0mself\u001b[0m\u001b[0;34m.\u001b[0m\u001b[0mwhich\u001b[0m\u001b[0;34m(\u001b[0m\u001b[0mcmd\u001b[0m\u001b[0;34m)\u001b[0m\u001b[0;34m)\u001b[0m\u001b[0;34m\u001b[0m\u001b[0;34m\u001b[0m\u001b[0m\n\u001b[0m\u001b[1;32m    260\u001b[0m         \u001b[0;32melse\u001b[0m\u001b[0;34m:\u001b[0m\u001b[0;34m\u001b[0m\u001b[0;34m\u001b[0m\u001b[0m\n\u001b[1;32m    261\u001b[0m             \u001b[0;32mraise\u001b[0m \u001b[0mTypeError\u001b[0m\u001b[0;34m(\u001b[0m\u001b[0;34m\"cmd must not be a LocalPath: %r\"\u001b[0m \u001b[0;34m%\u001b[0m \u001b[0;34m(\u001b[0m\u001b[0mcmd\u001b[0m\u001b[0;34m,\u001b[0m \u001b[0;34m)\u001b[0m\u001b[0;34m)\u001b[0m\u001b[0;34m\u001b[0m\u001b[0;34m\u001b[0m\u001b[0m\n",
      "\u001b[0;32m~/Downloads/avian_vocalizations/.env/lib/python3.6/site-packages/plumbum/machines/remote.py\u001b[0m in \u001b[0;36mwhich\u001b[0;34m(self, progname)\u001b[0m\n\u001b[1;32m    236\u001b[0m                     \u001b[0;32mreturn\u001b[0m \u001b[0mfn\u001b[0m\u001b[0;34m\u001b[0m\u001b[0;34m\u001b[0m\u001b[0m\n\u001b[1;32m    237\u001b[0m \u001b[0;34m\u001b[0m\u001b[0m\n\u001b[0;32m--> 238\u001b[0;31m         \u001b[0;32mraise\u001b[0m \u001b[0mCommandNotFound\u001b[0m\u001b[0;34m(\u001b[0m\u001b[0mprogname\u001b[0m\u001b[0;34m,\u001b[0m \u001b[0mself\u001b[0m\u001b[0;34m.\u001b[0m\u001b[0menv\u001b[0m\u001b[0;34m.\u001b[0m\u001b[0mpath\u001b[0m\u001b[0;34m)\u001b[0m\u001b[0;34m\u001b[0m\u001b[0;34m\u001b[0m\u001b[0m\n\u001b[0m\u001b[1;32m    239\u001b[0m \u001b[0;34m\u001b[0m\u001b[0m\n\u001b[1;32m    240\u001b[0m     \u001b[0;32mdef\u001b[0m \u001b[0m__getitem__\u001b[0m\u001b[0;34m(\u001b[0m\u001b[0mself\u001b[0m\u001b[0;34m,\u001b[0m \u001b[0mcmd\u001b[0m\u001b[0;34m)\u001b[0m\u001b[0;34m:\u001b[0m\u001b[0;34m\u001b[0m\u001b[0;34m\u001b[0m\u001b[0m\n",
      "\u001b[0;31mCommandNotFound\u001b[0m: ('tail -n 2', [<RemotePath /usr/local/sbin>, <RemotePath /usr/local/bin>, <RemotePath /usr/sbin>, <RemotePath /usr/bin>, <RemotePath /sbin>, <RemotePath /bin>, <RemotePath /usr/games>, <RemotePath /usr/local/games>])"
     ]
    }
   ],
   "source": [
    "offer = 399889\n",
    "# offer = filter_offers()[0]['id']\n",
    "onstart = \"\"\"#!/bin/sh\n",
    "touch ~/.no_auto_tmux\n",
    "echo onstart.sh Starting `date` >> /root/startup.log\n",
    "apt-get install -y mongodb-server git vim\n",
    "service mongodb start\n",
    "pip install --upgrade pip pipenv\n",
    "\"\"\"\n",
    "resp=vast.create_instance(offer, disk=20, onstart_cmd=onstart, python_utf8=True, lang_utf8=True,\n",
    "                          image=\"tensorflow/tensorflow:1.14.0-gpu-py3-jupyter\")\n",
    "mongo_instance_id = resp['new_contract']\n",
    "\n",
    "mongo_instance = vast.get_instance(mongo_instance_id, retries=4).wait_until_running()\n",
    "\n",
    "print(mongo_instance.pb_remote['tail']('/var/log/mongodb/mongodb.log','-n2'))"
   ]
  },
  {
   "cell_type": "code",
   "execution_count": 8,
   "metadata": {},
   "outputs": [
    {
     "name": "stdout",
     "output_type": "stream",
     "text": [
      "2019-10-26T16:52:45.730+0000 I INDEX    [thread1] build index done.  scanned 0 total records. 0 secs\n",
      "2019-10-26T16:52:45.730+0000 I COMMAND  [thread1] command config.$cmd command: createIndexes { createIndexes: \"system.sessions\", indexes: [ { key: { lastUse: 1 }, name: \"lsidTTLIndex\", expireAfterSeconds: 1800 } ], $db: \"config\" } numYields:0 reslen:98 locks:{ Global: { acquireCount: { r: 1, w: 1 } }, Database: { acquireCount: { W: 1 } }, Collection: { acquireCount: { w: 1 } } } protocol:op_msg 136ms\n",
      "\n"
     ]
    }
   ],
   "source": [
    "print(mongo_instance.pb_remote['tail']('/var/log/mongodb/mongodb.log','-n2'))"
   ]
  },
  {
   "cell_type": "code",
   "execution_count": 9,
   "metadata": {},
   "outputs": [
    {
     "data": {
      "text/plain": [
       "'ssh root@ssh4.vast.ai -p 11072 -i /home/sam/.ssh/vastai'"
      ]
     },
     "execution_count": 9,
     "metadata": {},
     "output_type": "execute_result"
    }
   ],
   "source": [
    "print(mongo_instance.ssh_connection_command)"
   ]
  },
  {
   "cell_type": "code",
   "execution_count": null,
   "metadata": {
    "code_folding": [
     0
    ]
   },
   "outputs": [],
   "source": [
    "# onstart = \"#!/bin/sh\\n\"\\\n",
    "#           \"touch ~/.no_auto_tmux\\n\"\\\n",
    "#           \"apt-get install -y mongodb-server\\n\"\\\n",
    "#           \"mkdir -p ~/.ssh\\n\"\\\n",
    "#           \"ssh-keygen  -P '' -f ~/.ssh/mongo\\n\"\n",
    "# resp=vast.create_instance(filter_offers()[0]['id'], disk=1, onstart_cmd=onstart,\n",
    "#                           image=\"tensorflow/tensorflow:1.14.0-gpu-py3-jupyter\")\n",
    "# worker_instance_id = resp['new_contract']\n",
    "\n",
    "# time.sleep(30)\n",
    "# worker_instance = vast.get_instance(worker_instance_id)"
   ]
  },
  {
   "cell_type": "markdown",
   "metadata": {},
   "source": [
    "## Install model and download data"
   ]
  },
  {
   "cell_type": "code",
   "execution_count": 5,
   "metadata": {},
   "outputs": [],
   "source": [
    "# mongo_instance=vast.get_instance(400808)"
   ]
  },
  {
   "cell_type": "code",
   "execution_count": 10,
   "metadata": {
    "scrolled": true
   },
   "outputs": [
    {
     "data": {
      "text/plain": [
       "<plumbum.machines.session.SessionPopen at 0x7f60b9f97a20>"
      ]
     },
     "execution_count": 10,
     "metadata": {},
     "output_type": "execute_result"
    }
   ],
   "source": [
    "install_script_target='/root/install_script.sh'\n",
    "install_script = StringIO(\"\"\"#!/bin/sh\n",
    "INSTALL_LOG=/root/install.log\n",
    "echo avian_vocalizations INSTALL BEGIN `date` >> $INSTALL_LOG 2>&1\n",
    "cd ~\n",
    "[ ! -d avian_vocalizations ] && git clone https://github.com/samhiatt/avian_vocalizations.git  >> $INSTALL_LOG 2>&1\n",
    "cd avian_vocalizations\n",
    "export LC_ALL=C.UTF-8\n",
    "export LANG=C.UTF-8\n",
    "pipenv install >> $INSTALL_LOG 2>&1\n",
    "pipenv run python setup.py develop >> $INSTALL_LOG 2>&1\n",
    "pipenv run download_data >> $INSTALL_LOG 2>&1\n",
    "echo avian_vocalizations INSTALL COMPLETE `date` >> INSTALL_LOG 2>&1\n",
    "\"\"\")\n",
    "# monitor_output(mongo_instance, install_script)\n",
    "remote=mongo_instance.pb_remote\n",
    "remote.sftp.putfo(install_script,install_script_target)\n",
    "remote['chmod']('+x',install_script_target)\n",
    "p=remote.session().popen(install_script_target)\n",
    "p"
   ]
  },
  {
   "cell_type": "code",
   "execution_count": 36,
   "metadata": {},
   "outputs": [
    {
     "name": "stdout",
     "output_type": "stream",
     "text": [
      "Extracted /root/avian_vocalizations/data/melspectrograms.zip.\n",
      "Extracted /root/avian_vocalizations/data/feature_shapes.csv.\n",
      "Extracted contents of xeno-canto-ca-nv.zip to data/audio.\n",
      "Extracted contents of melspectrograms.zip to data/.\n",
      "Extracted contents of mfccs.zip to data/.\n",
      "\n",
      "Install process has exited with code: 0\n"
     ]
    }
   ],
   "source": [
    "import time\n",
    "from IPython.display import clear_output\n",
    "\n",
    "while True:\n",
    "    clear_output(wait=True)\n",
    "    print(remote['tail']('/root/install.log','-n5'))\n",
    "    ret = p.proc.poll()\n",
    "    if ret is not None:\n",
    "        break\n",
    "    time.sleep(1)\n",
    "print(\"Install process has exited with code:\",p.proc.poll())"
   ]
  },
  {
   "cell_type": "code",
   "execution_count": 68,
   "metadata": {},
   "outputs": [
    {
     "name": "stdout",
     "output_type": "stream",
     "text": [
      "#!/bin/sh\n",
      "cd /root/avian_vocalizations\n",
      "export LC_ALL=C.UTF-8\n",
      "export LANG=C.UTF-8\n",
      "nohup pipenv run hyperopt-mongo-worker --mongo=localhost:27017/avian_vocalizations  --max-consecutive-failures=1 --reserve-timeout=999999 --workdir=. >> /root/hyperopt_worker.log 2>&1\n",
      "\n"
     ]
    },
    {
     "data": {
      "text/plain": [
       "''"
      ]
     },
     "execution_count": 68,
     "metadata": {},
     "output_type": "execute_result"
    }
   ],
   "source": [
    "hyperopt_worker_log=\"/root/hyperopt_worker.log\"\n",
    "start_hyperopt_worker_target='/root/avian_vocalizations/start_hyperopt_worker.sh'\n",
    "start_hyperopt_worker=\"#!/bin/sh\\ncd /root/avian_vocalizations\\n\"\\\n",
    "    \"export LC_ALL=C.UTF-8\\n\"\\\n",
    "    \"export LANG=C.UTF-8\\n\"\\\n",
    "    \"nohup pipenv run hyperopt-mongo-worker --mongo=localhost:27017/avian_vocalizations \"\\\n",
    "    \" --max-consecutive-failures=1 --reserve-timeout=999999 --workdir=.\"\\\n",
    "    \" >> %s 2>&1\\n\"%hyperopt_worker_log\n",
    "\n",
    "print(start_hyperopt_worker)\n",
    "remote.sftp.putfo(StringIO(start_hyperopt_worker),start_hyperopt_worker_target)\n",
    "remote['chmod']('+x',start_hyperopt_worker_target)"
   ]
  },
  {
   "cell_type": "code",
   "execution_count": 69,
   "metadata": {},
   "outputs": [],
   "source": [
    "pworker=remote.session().popen(start_hyperopt_worker_target)"
   ]
  },
  {
   "cell_type": "code",
   "execution_count": 70,
   "metadata": {},
   "outputs": [
    {
     "name": "stdout",
     "output_type": "stream",
     "text": [
      "INFO:hyperopt.mongoexp:no job found, sleeping for 1.3s\n",
      "INFO:hyperopt.mongoexp:no job found, sleeping for 3.9s\n",
      "INFO:hyperopt.mongoexp:no job found, sleeping for 2.3s\n",
      "INFO:hyperopt.mongoexp:no job found, sleeping for 4.6s\n",
      "INFO:hyperopt.mongoexp:no job found, sleeping for 1.1s\n",
      "\n",
      "Hyperopt worker process ended with code 0\n"
     ]
    }
   ],
   "source": [
    "while True:\n",
    "    clear_output(wait=True)\n",
    "    print(remote['tail'](hyperopt_worker_log,'-n5'))\n",
    "    ret = pworker.proc.poll()\n",
    "    if ret is not None:\n",
    "        break\n",
    "    time.sleep(1)\n",
    "print(\"Hyperopt worker process ended with code\",ret)"
   ]
  },
  {
   "cell_type": "code",
   "execution_count": 152,
   "metadata": {},
   "outputs": [
    {
     "data": {
      "text/plain": [
       "'ssh root@ssh4.vast.ai -p 10808 -i /home/sam/.ssh/vastai'"
      ]
     },
     "execution_count": 152,
     "metadata": {},
     "output_type": "execute_result"
    }
   ],
   "source": [
    "mongo_instance.ssh_connection_command"
   ]
  },
  {
   "cell_type": "code",
   "execution_count": 10,
   "metadata": {},
   "outputs": [
    {
     "data": {
      "text/plain": [
       "400500: running   $0.0921/hr ssh5.vast.ai:10500  343.6↑ 434.2↓  flops:9.295104T\n",
       "\t1X 7.9GB GTX 1070 Ti, 10.666656/32X 23.8GB AMD Ryzen Threadripper 1950X 16-Core Processor\n",
       "\tSuccessfully loaded tensorflow/tensorflow:1.14.0-gpu-py3-jupyter"
      ]
     },
     "execution_count": 10,
     "metadata": {},
     "output_type": "execute_result"
    }
   ],
   "source": [
    "mongo_instance.wait_until_running()"
   ]
  },
  {
   "cell_type": "code",
   "execution_count": 26,
   "metadata": {},
   "outputs": [
    {
     "data": {
      "text/plain": [
       "[' * Checking status of database mongodb', '   ...done.', '']"
      ]
     },
     "metadata": {},
     "output_type": "display_data"
    }
   ],
   "source": [
    "print(mongo_instance.pb_remote['service'](['mongodb','status']))"
   ]
  },
  {
   "cell_type": "code",
   "execution_count": 27,
   "metadata": {},
   "outputs": [
    {
     "data": {
      "text/plain": [
       "True"
      ]
     },
     "execution_count": 27,
     "metadata": {},
     "output_type": "execute_result"
    }
   ],
   "source": [
    "worker_machine.path('~/.ssh/mongo.pub').isfile()"
   ]
  },
  {
   "cell_type": "code",
   "execution_count": 28,
   "metadata": {},
   "outputs": [
    {
     "data": {
      "text/plain": [
       "'ssh-rsa AAAAB3NzaC1yc2EAAAADAQABAAABAQCwQNWg4ud+cP01AhsHEPohGD7/XRafkPiR0PpUrxMX6NOZUgOYuQzK9EN/667HhTnYJm6Yhez/gNGM8/GGzvuDoQQZazEwpnDtCQsgzS9wjBqmxT7pb2jeLuzZGGoXGMN2tY2dNw6TOJvc80QJKtU3hj4NEynTPi96uz888iClf6Gc8/H9rZYkZGF8jBgm5i8ONlbMWDHGlFryOtbuW2XZQZ+Li7ZP8Ad3ozk1pcZIW26IFcihqlxo8sEh+nHyY/Xsyt1bfjy6B7V3rDOBradwxnH5JGiSIZjobLRXrVJ4xxEk/GfJrhywdK3g8lTwVBUdasXJpI08m3P27sszlleB root@b9df8fc9c11d\\n'"
      ]
     },
     "execution_count": 28,
     "metadata": {},
     "output_type": "execute_result"
    }
   ],
   "source": [
    "pub_key=worker_machine['cat'](worker_machine.path('~/.ssh/mongo.pub'))\n",
    "pub_key"
   ]
  },
  {
   "cell_type": "code",
   "execution_count": null,
   "metadata": {},
   "outputs": [],
   "source": [
    "mongo_machine.session().run('echo \"\\n%s\" >> %s'%(pub_key, mongo_machine.path('~/.ssh/authorized_keys')))"
   ]
  },
  {
   "cell_type": "code",
   "execution_count": 30,
   "metadata": {
    "scrolled": true
   },
   "outputs": [
    {
     "data": {
      "text/plain": [
       "'ssh-rsa AAAAB3NzaC1yc2EAAAADAQABAAABAQDaKOIegXeknsbwKsyvY+sdgRFn71kg9yr64ktpV17ImXrggQ+LHmhqMhbv/1gNQhNKIRJz7FllaxxQZkeOnqcv/tLpom3NaZG7OMWkfRR7IK1Apv4n9J2sGUIHlBTyjdDmawiXlttzDjphcR0ZSZ58V+8Hr/S7L+pb1nkXmSY109LV6XjYjo1DPmngU+lnAFilErV3fSZFnmKDA95xQH+ZVN91nKO/jsUOLAIeIo4o5aSR/nv8KGB9GpKbVAueXPji/HrWijXuWSepEtbhtBq8cXTFqgoakhD/Cz4kmZIqwVOLRU+OZRq+xFsJK1UQBR34GRcQeda5AKQ7tDypK2Rj sam@localhost\\nssh-rsa AAAAB3NzaC1yc2EAAAADAQABAAABAQCwQNWg4ud+cP01AhsHEPohGD7/XRafkPiR0PpUrxMX6NOZUgOYuQzK9EN/667HhTnYJm6Yhez/gNGM8/GGzvuDoQQZazEwpnDtCQsgzS9wjBqmxT7pb2jeLuzZGGoXGMN2tY2dNw6TOJvc80QJKtU3hj4NEynTPi96uz888iClf6Gc8/H9rZYkZGF8jBgm5i8ONlbMWDHGlFryOtbuW2XZQZ+Li7ZP8Ad3ozk1pcZIW26IFcihqlxo8sEh+nHyY/Xsyt1bfjy6B7V3rDOBradwxnH5JGiSIZjobLRXrVJ4xxEk/GfJrhywdK3g8lTwVBUdasXJpI08m3P27sszlleB root@b9df8fc9c11d\\n\\n'"
      ]
     },
     "execution_count": 30,
     "metadata": {},
     "output_type": "execute_result"
    }
   ],
   "source": [
    "mongo_machine['cat'](mongo_machine.path('~/.ssh/authorized_keys'))"
   ]
  },
  {
   "cell_type": "code",
   "execution_count": 8,
   "metadata": {},
   "outputs": [
    {
     "name": "stdout",
     "output_type": "stream",
     "text": [
      "Starting instance 398753.\n"
     ]
    },
    {
     "data": {
      "text/plain": [
       "<ParamikoMachine paramiko://root@ssh4.vast.ai>"
      ]
     },
     "execution_count": 8,
     "metadata": {},
     "output_type": "execute_result"
    }
   ],
   "source": [
    "mongo_instance.start().wait_until_running(check_every_s=15)\n",
    "mongo_machine = mongo_instance.pb_remote()\n",
    "mongo_machine"
   ]
  },
  {
   "cell_type": "code",
   "execution_count": null,
   "metadata": {},
   "outputs": [],
   "source": [
    "worker_instance.start().wait_until_running()\n",
    "worker_machine = mongo_instance.pb_remote()\n",
    "worker_machine"
   ]
  },
  {
   "cell_type": "code",
   "execution_count": 34,
   "metadata": {},
   "outputs": [
    {
     "data": {
      "text/plain": [
       "'ssh-rsa AAAAB3NzaC1yc2EAAAADAQABAAABAQDaKOIegXeknsbwKsyvY+sdgRFn71kg9yr64ktpV17ImXrggQ+LHmhqMhbv/1gNQhNKIRJz7FllaxxQZkeOnqcv/tLpom3NaZG7OMWkfRR7IK1Apv4n9J2sGUIHlBTyjdDmawiXlttzDjphcR0ZSZ58V+8Hr/S7L+pb1nkXmSY109LV6XjYjo1DPmngU+lnAFilErV3fSZFnmKDA95xQH+ZVN91nKO/jsUOLAIeIo4o5aSR/nv8KGB9GpKbVAueXPji/HrWijXuWSepEtbhtBq8cXTFqgoakhD/Cz4kmZIqwVOLRU+OZRq+xFsJK1UQBR34GRcQeda5AKQ7tDypK2Rj sam@localhost'"
      ]
     },
     "execution_count": 34,
     "metadata": {},
     "output_type": "execute_result"
    }
   ],
   "source": [
    "mongo_machine['cat'](\"/root/.ssh/authorized_keys\")"
   ]
  },
  {
   "cell_type": "code",
   "execution_count": 41,
   "metadata": {},
   "outputs": [
    {
     "data": {
      "text/plain": [
       "[ProcInfo(1, 0, 'Ss+', '/bin/bash -c while [ ! -e /.launch ]; do sleep 1; done; bash /.launch'),\n",
       " ProcInfo(6, 0, 'S+', 'bash /.launch'),\n",
       " ProcInfo(16, 0, 'Ss', '/usr/sbin/sshd'),\n",
       " ProcInfo(21, 0, 'S+', 'ssh -i /etc/forward_key -N -o TCPKeepAlive=yes -o ServerAliveInterval=10 -o ServerAliveCountMax=2 ubuntu@ssh4.vast.ai -o StrictHostKeyChecking=no -o ConnectTimeout=10 -o RequestTTY=no -o ExitOnForwardFailure=yes -R \\\\*:38753:localhost:22'),\n",
       " ProcInfo(44, 103, 'Sl', '/usr/bin/mongod --config /etc/mongodb.conf'),\n",
       " ProcInfo(177, 0, 'Ss', 'sshd: root@notty'),\n",
       " ProcInfo(192, 0, 'Ss', '-bash'),\n",
       " ProcInfo(198, 0, 'Ss', '/usr/lib/openssh/sftp-server'),\n",
       " ProcInfo(200, 0, 'Ss', 'sshd: root@notty'),\n",
       " ProcInfo(215, 0, 'Ss', '-bash'),\n",
       " ProcInfo(221, 0, 'Ss', '/usr/lib/openssh/sftp-server'),\n",
       " ProcInfo(542, 0, 'Rs', '/bin/ps -e -o pid,uid,stat,args')]"
      ]
     },
     "execution_count": 41,
     "metadata": {},
     "output_type": "execute_result"
    }
   ],
   "source": [
    "list(worker_machine.pgrep(''))"
   ]
  },
  {
   "cell_type": "code",
   "execution_count": 42,
   "metadata": {},
   "outputs": [
    {
     "name": "stdout",
     "output_type": "stream",
     "text": [
      "Stopping instance 398753.\n",
      "Stopping instance 398754.\n"
     ]
    }
   ],
   "source": [
    "vast.stop_all_instances()"
   ]
  },
  {
   "cell_type": "code",
   "execution_count": 150,
   "metadata": {},
   "outputs": [
    {
     "data": {
      "text/plain": [
       "[398753: offline   $0.0252/hr ssh4.vast.ai:38753  423.8↑ 495.8↓  flops:8.736T\n",
       " \t1X 11.2GB Tesla K80, 16.0/32X 15.7GB Xeon® Silver 4108 \n",
       " \tSuccessfully loaded tensorflow/tensorflow:1.14.0-gpu-py3-jupyter,\n",
       " 398754: offline   $0.0252/hr ssh5.vast.ai:38754  423.8↑ 495.8↓  flops:8.736T\n",
       " \t1X 11.2GB Tesla K80, 16.0/32X 15.7GB Xeon® Silver 4108 \n",
       " \tSuccessfully loaded tensorflow/tensorflow:1.14.0-gpu-py3-jupyter]"
      ]
     },
     "execution_count": 150,
     "metadata": {},
     "output_type": "execute_result"
    }
   ],
   "source": [
    "vast.get_instances()"
   ]
  },
  {
   "cell_type": "code",
   "execution_count": 86,
   "metadata": {},
   "outputs": [],
   "source": [
    "inst=vast.get_instances()[0]"
   ]
  },
  {
   "cell_type": "code",
   "execution_count": 147,
   "metadata": {},
   "outputs": [
    {
     "data": {
      "text/plain": [
       "398753: offline   $0.0252/hr ssh4.vast.ai:38753  423.8↑ 495.8↓  flops:8.736T\n",
       "\t1X 11.2GB Tesla K80, 16.0/32X 15.7GB Xeon® Silver 4108 \n",
       "\tSuccessfully loaded tensorflow/tensorflow:1.14.0-gpu-py3-jupyter"
      ]
     },
     "execution_count": 147,
     "metadata": {},
     "output_type": "execute_result"
    }
   ],
   "source": [
    "inst"
   ]
  },
  {
   "cell_type": "code",
   "execution_count": 149,
   "metadata": {},
   "outputs": [
    {
     "name": "stdout",
     "output_type": "stream",
     "text": [
      "Stopping instance 398753.\n",
      "Stopping instance 398754.\n"
     ]
    }
   ],
   "source": [
    "vast.stop_all_instances()"
   ]
  },
  {
   "cell_type": "code",
   "execution_count": null,
   "metadata": {},
   "outputs": [],
   "source": []
  }
 ],
 "metadata": {
  "kernelspec": {
   "display_name": "avian_vocalizations",
   "language": "python",
   "name": "avian_vocalizations"
  },
  "language_info": {
   "codemirror_mode": {
    "name": "ipython",
    "version": 3
   },
   "file_extension": ".py",
   "mimetype": "text/x-python",
   "name": "python",
   "nbconvert_exporter": "python",
   "pygments_lexer": "ipython3",
   "version": "3.6.8"
  }
 },
 "nbformat": 4,
 "nbformat_minor": 2
}
