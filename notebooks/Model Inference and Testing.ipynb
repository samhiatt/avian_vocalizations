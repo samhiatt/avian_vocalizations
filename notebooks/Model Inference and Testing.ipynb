{
 "cells": [
  {
   "cell_type": "code",
   "execution_count": 1,
   "metadata": {},
   "outputs": [
    {
     "name": "stderr",
     "output_type": "stream",
     "text": [
      "Using TensorFlow backend.\n"
     ]
    },
    {
     "name": "stdout",
     "output_type": "stream",
     "text": [
      "The dataset contains 91 distinct species labels.\n"
     ]
    }
   ],
   "source": [
    "from avian_vocalizations import data\n",
    "from sklearn.metrics import accuracy_score\n",
    "from avian_vocalizations.data import AudioFeatureGenerator\n",
    "from avian_vocalizations.model import ModelFactory\n",
    "from sklearn.preprocessing import LabelEncoder\n",
    "import os\n",
    "from glob import glob\n",
    "import numpy as np\n",
    "import warnings; warnings.simplefilter('ignore')\n",
    "import os\n",
    "os.environ['TF_CPP_MIN_LOG_LEVEL']='2'\n",
    "\n",
    "data_dir = '../data'\n",
    "index_df, shapes_df, train_df, test_df = data.load_data(data_dir)\n",
    "\n",
    "label_encoder = LabelEncoder().fit(index_df['english_cname'] )\n",
    "\n",
    "n_classes = len(label_encoder.classes_)\n",
    "print(\"The dataset contains %i distinct species labels.\"%n_classes)"
   ]
  },
  {
   "cell_type": "code",
   "execution_count": 2,
   "metadata": {},
   "outputs": [
    {
     "name": "stdout",
     "output_type": "stream",
     "text": [
      "WARNING:tensorflow:From /home/sam/Downloads/avian_vocalizations/.env/lib/python3.6/site-packages/tensorflow_core/python/ops/resource_variable_ops.py:1630: calling BaseResourceVariable.__init__ (from tensorflow.python.ops.resource_variable_ops) with constraint is deprecated and will be removed in a future version.\n",
      "Instructions for updating:\n",
      "If using Keras pass *_constraint arguments to layers.\n",
      "WARNING:tensorflow:From /home/sam/Downloads/avian_vocalizations/.env/lib/python3.6/site-packages/keras/backend/tensorflow_backend.py:4070: The name tf.nn.max_pool is deprecated. Please use tf.nn.max_pool2d instead.\n",
      "\n",
      "Model: \"sequential_1\"\n",
      "_________________________________________________________________\n",
      "Layer (type)                 Output Shape              Param #   \n",
      "=================================================================\n",
      "conv2d_1 (Conv2D)            (None, 126, 126, 64)      640       \n",
      "_________________________________________________________________\n",
      "max_pooling2d_1 (MaxPooling2 (None, 42, 42, 64)        0         \n",
      "_________________________________________________________________\n",
      "dropout_1 (Dropout)          (None, 42, 42, 64)        0         \n",
      "_________________________________________________________________\n",
      "conv2d_2 (Conv2D)            (None, 40, 40, 64)        36928     \n",
      "_________________________________________________________________\n",
      "max_pooling2d_2 (MaxPooling2 (None, 13, 13, 64)        0         \n",
      "_________________________________________________________________\n",
      "dropout_2 (Dropout)          (None, 13, 13, 64)        0         \n",
      "_________________________________________________________________\n",
      "conv2d_3 (Conv2D)            (None, 11, 11, 64)        36928     \n",
      "_________________________________________________________________\n",
      "max_pooling2d_3 (MaxPooling2 (None, 3, 3, 64)          0         \n",
      "_________________________________________________________________\n",
      "dropout_3 (Dropout)          (None, 3, 3, 64)          0         \n",
      "_________________________________________________________________\n",
      "global_average_pooling2d_1 ( (None, 64)                0         \n",
      "_________________________________________________________________\n",
      "dense_1 (Dense)              (None, 91)                5915      \n",
      "=================================================================\n",
      "Total params: 80,411\n",
      "Trainable params: 80,411\n",
      "Non-trainable params: 0\n",
      "_________________________________________________________________\n"
     ]
    }
   ],
   "source": [
    "cnn = ModelFactory(n_classes)\n",
    "cnn.summary()"
   ]
  },
  {
   "cell_type": "code",
   "execution_count": 3,
   "metadata": {},
   "outputs": [],
   "source": [
    "cnn.load_weights(os.path.join(data_dir,\"weights.best.hdf5\"))"
   ]
  },
  {
   "cell_type": "code",
   "execution_count": 4,
   "metadata": {},
   "outputs": [
    {
     "name": "stdout",
     "output_type": "stream",
     "text": [
      "WARNING:tensorflow:From /home/sam/Downloads/avian_vocalizations/.env/lib/python3.6/site-packages/keras/backend/tensorflow_backend.py:422: The name tf.global_variables is deprecated. Please use tf.compat.v1.global_variables instead.\n",
      "\n",
      "Test accuracy of benchmark model: 0.24835\n"
     ]
    }
   ],
   "source": [
    "X_test = index_df.loc[index_df['test']==True].index.values\n",
    "y_test = label_encoder.transform(index_df.loc[index_df['test']==True,\"english_cname\"].values)\n",
    "\n",
    "test_generator = AudioFeatureGenerator(X_test, y_test, batch_size=len(X_test), data_dir=data_dir,\n",
    "                                       seed=37, n_frames=128, n_classes=n_classes)\n",
    "\n",
    "Xs, ys = test_generator[0] # batch_size=len(X_test), so one batch has all test samples. \n",
    "\n",
    "predictions = cnn.predict(Xs) \n",
    "test_accuracy = accuracy_score(np.argmax(ys,axis=1), np.argmax(predictions, axis=1))\n",
    "print(\"Test accuracy of benchmark model: %.5f\"%test_accuracy)"
   ]
  },
  {
   "cell_type": "markdown",
   "metadata": {},
   "source": [
    "## Stability testing\n",
    "\n",
    "Changing the `seed` value passed to `AudioFeatureGenerator` will change the crop windows for each sample. Let's see how accuracy varies with successive test rounds in order to assess model stability.  "
   ]
  },
  {
   "cell_type": "code",
   "execution_count": 10,
   "metadata": {},
   "outputs": [
    {
     "name": "stdout",
     "output_type": "stream",
     "text": [
      "Test accuracy of benchmark model: 0.24066\n",
      "Test accuracy of benchmark model: 0.22418\n",
      "Test accuracy of benchmark model: 0.22198\n"
     ]
    }
   ],
   "source": [
    "for i in range(3):\n",
    "    test_generator = AudioFeatureGenerator(X_test, y_test, batch_size=len(X_test), data_dir=data_dir,\n",
    "                                       seed=37+i, n_frames=128, n_classes=n_classes)\n",
    "    Xs, ys = test_generator[0] \n",
    "\n",
    "    predictions = cnn.predict(Xs) \n",
    "    test_accuracy = accuracy_score(np.argmax(ys,axis=1), np.argmax(predictions, axis=1))\n",
    "    print(\"Test accuracy of benchmark model: %.5f\"%test_accuracy)"
   ]
  },
  {
   "cell_type": "markdown",
   "metadata": {},
   "source": [
    "## Module Versions"
   ]
  },
  {
   "cell_type": "code",
   "execution_count": 7,
   "metadata": {},
   "outputs": [
    {
     "name": "stdout",
     "output_type": "stream",
     "text": [
      "             IPython  {'7.9.0'}\n",
      " avian_vocalizations  {'0.1.0'}\n",
      "             sklearn  {'0.21.3'}\n",
      "               numpy  {'1.17.3'}\n",
      "              pandas  {'0.25.2'}\n",
      "               keras  {'2.3.1'}\n"
     ]
    }
   ],
   "source": [
    "from avian_vocalizations.toolbench import print_module_versions\n",
    "print_module_versions(globals())"
   ]
  }
 ],
 "metadata": {
  "kernelspec": {
   "display_name": "avian_vocalizations",
   "language": "python",
   "name": "avian_vocalizations"
  },
  "language_info": {
   "codemirror_mode": {
    "name": "ipython",
    "version": 3
   },
   "file_extension": ".py",
   "mimetype": "text/x-python",
   "name": "python",
   "nbconvert_exporter": "python",
   "pygments_lexer": "ipython3",
   "version": "3.6.8"
  }
 },
 "nbformat": 4,
 "nbformat_minor": 2
}
