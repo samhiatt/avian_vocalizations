{
 "cells": [
  {
   "cell_type": "code",
   "execution_count": 14,
   "metadata": {},
   "outputs": [
    {
     "name": "stdout",
     "output_type": "stream",
     "text": [
      "The dataset contains 91 distinct species labels.\n",
      "2730 mp3s found in /home/sam/Downloads/avian_vocalizations/data/audio/\n"
     ]
    }
   ],
   "source": [
    "from avian_vocalizations import data\n",
    "from sklearn.naive_bayes import GaussianNB\n",
    "from sklearn.metrics import accuracy_score\n",
    "from avian_vocalizations.data import AudioFeatureGenerator\n",
    "from sklearn.preprocessing import LabelEncoder\n",
    "import os\n",
    "from glob import glob\n",
    "import numpy as np\n",
    "\n",
    "label_encoder = LabelEncoder().fit(index_df['english_cname'] )\n",
    "\n",
    "data_dir = '../data'\n",
    "index_df, shapes_df, train_df, test_df = data.load_data(data_dir)\n",
    "\n",
    "n_classes = len(label_encoder.classes_)\n",
    "print(\"The dataset contains %i distinct species labels.\"%n_classes)\n",
    "mp3_dir = os.path.join(data_dir,'audio')\n",
    "print(\"%i mp3s found in %s/\"%(len(glob(os.path.join(mp3_dir,'*.mp3'))), os.path.abspath(mp3_dir)))\n",
    "\n",
    "\n",
    "X_train = index_df.loc[index_df['test']==False].index.values\n",
    "y_train = label_encoder.transform(index_df.loc[index_df['test']==False,\"english_cname\"].values)"
   ]
  },
  {
   "cell_type": "code",
   "execution_count": 15,
   "metadata": {},
   "outputs": [
    {
     "name": "stdout",
     "output_type": "stream",
     "text": [
      "Training accuracy of benchmark model: 0.18297\n"
     ]
    }
   ],
   "source": [
    "training_generator = AudioFeatureGenerator(X_train, y_train, batch_size=len(X_train), \n",
    "                                           shuffle=True, seed=37, n_frames=128, data_dir=data_dir,\n",
    "                                           n_classes=n_classes)\n",
    "scores=[]\n",
    "nb = GaussianNB()\n",
    "Xs, ys = training_generator[0] #  batch_size=len(X_test), so just the first batch\n",
    "Xs = Xs.reshape(Xs.shape[0],Xs.shape[1]*Xs.shape[2])\n",
    "ys = np.argmax(ys,axis=1)\n",
    "nb.partial_fit(Xs, ys, classes=range(n_classes))\n",
    "predictions = nb.predict(Xs) \n",
    "training_accuracy = accuracy_score(ys, predictions)\n",
    "print(\"Training accuracy of benchmark model: %.5f\"%training_accuracy)"
   ]
  },
  {
   "cell_type": "code",
   "execution_count": 18,
   "metadata": {},
   "outputs": [
    {
     "name": "stdout",
     "output_type": "stream",
     "text": [
      "Test accuracy of benchmark model: 0.05934\n"
     ]
    }
   ],
   "source": [
    "X_test = index_df.loc[index_df['test']==True].index.values\n",
    "y_test = label_encoder.transform(index_df.loc[index_df['test']==True,\"english_cname\"].values)\n",
    "\n",
    "test_generator = AudioFeatureGenerator(X_test, y_test, batch_size=len(X_test), data_dir=data_dir,\n",
    "                                       seed=37, n_frames=128, n_classes=n_classes)\n",
    "Xs, ys = test_generator[0] # batch_size=len(X_test), so just the first batch\n",
    "Xs = Xs.reshape(Xs.shape[0],Xs.shape[1]*Xs.shape[2])\n",
    "ys = np.argmax(ys,axis=1)\n",
    "predictions = nb.predict(Xs) \n",
    "test_accuracy = accuracy_score(ys, predictions)\n",
    "print(\"Test accuracy of benchmark model: %.5f\"%test_accuracy)"
   ]
  },
  {
   "cell_type": "code",
   "execution_count": null,
   "metadata": {},
   "outputs": [],
   "source": []
  }
 ],
 "metadata": {
  "kernelspec": {
   "display_name": "avian_vocalizations",
   "language": "python",
   "name": "avian_vocalizations"
  },
  "language_info": {
   "codemirror_mode": {
    "name": "ipython",
    "version": 3
   },
   "file_extension": ".py",
   "mimetype": "text/x-python",
   "name": "python",
   "nbconvert_exporter": "python",
   "pygments_lexer": "ipython3",
   "version": "3.6.8"
  }
 },
 "nbformat": 4,
 "nbformat_minor": 2
}
