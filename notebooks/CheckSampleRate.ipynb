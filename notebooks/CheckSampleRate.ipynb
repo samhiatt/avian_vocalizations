{
 "cells": [
  {
   "cell_type": "code",
   "execution_count": 11,
   "metadata": {},
   "outputs": [],
   "source": [
    "import warnings; warnings.simplefilter('ignore')\n",
    "import librosa\n",
    "from avian_vocalizations import data"
   ]
  },
  {
   "cell_type": "code",
   "execution_count": 2,
   "metadata": {},
   "outputs": [],
   "source": [
    "index_df, shapes_df, train_df, test_df = data.load_data()"
   ]
  },
  {
   "cell_type": "code",
   "execution_count": 12,
   "metadata": {},
   "outputs": [
    {
     "data": {
      "text/plain": [
       "2730"
      ]
     },
     "execution_count": 12,
     "metadata": {},
     "output_type": "execute_result"
    }
   ],
   "source": [
    "len(index_df)"
   ]
  },
  {
   "cell_type": "code",
   "execution_count": 21,
   "metadata": {
    "scrolled": true
   },
   "outputs": [
    {
     "name": "stdout",
     "output_type": "stream",
     "text": [
      "    0/2730 data/audio/XC17804.mp3      132344    44100   132344    44100\n",
      "    1/2730 data/audio/XC177367.mp3     210956    48000   193816    44100\n",
      "    2/2730 data/audio/XC145505.mp3     201097    48000   184758    44100\n",
      "    3/2730 data/audio/XC228159.mp3     183978    32000   253545    44100\n",
      "    4/2730 data/audio/XC51313.mp3      245376    44100   245376    44100\n"
     ]
    }
   ],
   "source": [
    "for i in range(5):#range(len(index_df)):\n",
    "    fn = 'data/audio/'+index_df.iloc[i].file_name\n",
    "    audio, sr = librosa.load(fn,sr=None)\n",
    "    audio2, sr2 = librosa.load(fn,sr=44100)\n",
    "    print(\"%5i/%i %-25s %8i %8i %8i %8i\"%(i, len(index_df), fn, len(audio), sr, len(audio2), sr2))"
   ]
  },
  {
   "cell_type": "code",
   "execution_count": null,
   "metadata": {},
   "outputs": [],
   "source": []
  }
 ],
 "metadata": {
  "kernelspec": {
   "display_name": "avian_vocalizations",
   "language": "python",
   "name": "avian_vocalizations"
  },
  "language_info": {
   "codemirror_mode": {
    "name": "ipython",
    "version": 3
   },
   "file_extension": ".py",
   "mimetype": "text/x-python",
   "name": "python",
   "nbconvert_exporter": "python",
   "pygments_lexer": "ipython3",
   "version": "3.6.8"
  }
 },
 "nbformat": 4,
 "nbformat_minor": 2
}
