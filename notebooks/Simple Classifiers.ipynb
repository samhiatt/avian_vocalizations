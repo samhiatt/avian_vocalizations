{
 "cells": [
  {
   "cell_type": "code",
   "execution_count": 1,
   "metadata": {},
   "outputs": [
    {
     "name": "stderr",
     "output_type": "stream",
     "text": [
      "Using TensorFlow backend.\n"
     ]
    }
   ],
   "source": [
    "import pandas as pd\n",
    "import numpy as np\n",
    "from keras.utils import to_categorical\n",
    "from sklearn.preprocessing import LabelEncoder, StandardScaler\n",
    "from sklearn.naive_bayes import GaussianNB\n",
    "from sklearn.neural_network import MLPClassifier\n",
    "from sklearn.metrics import accuracy_score\n",
    "from sklearn.model_selection import StratifiedShuffleSplit"
   ]
  },
  {
   "cell_type": "code",
   "execution_count": 2,
   "metadata": {},
   "outputs": [
    {
     "data": {
      "text/html": [
       "<div>\n",
       "<style scoped>\n",
       "    .dataframe tbody tr th:only-of-type {\n",
       "        vertical-align: middle;\n",
       "    }\n",
       "\n",
       "    .dataframe tbody tr th {\n",
       "        vertical-align: top;\n",
       "    }\n",
       "\n",
       "    .dataframe thead th {\n",
       "        text-align: right;\n",
       "    }\n",
       "</style>\n",
       "<table border=\"1\" class=\"dataframe\">\n",
       "  <thead>\n",
       "    <tr style=\"text-align: right;\">\n",
       "      <th></th>\n",
       "      <th>index</th>\n",
       "      <th>country</th>\n",
       "      <th>duration_seconds</th>\n",
       "      <th>english_cname</th>\n",
       "      <th>file_name</th>\n",
       "      <th>file_url</th>\n",
       "      <th>genus</th>\n",
       "      <th>latitude</th>\n",
       "      <th>license</th>\n",
       "      <th>location</th>\n",
       "      <th>...</th>\n",
       "      <th>meldb_mean123</th>\n",
       "      <th>meldb_std123</th>\n",
       "      <th>meldb_mean124</th>\n",
       "      <th>meldb_std124</th>\n",
       "      <th>meldb_mean125</th>\n",
       "      <th>meldb_std125</th>\n",
       "      <th>meldb_mean126</th>\n",
       "      <th>meldb_std126</th>\n",
       "      <th>meldb_mean127</th>\n",
       "      <th>meldb_std127</th>\n",
       "    </tr>\n",
       "    <tr>\n",
       "      <th>file_id</th>\n",
       "      <th></th>\n",
       "      <th></th>\n",
       "      <th></th>\n",
       "      <th></th>\n",
       "      <th></th>\n",
       "      <th></th>\n",
       "      <th></th>\n",
       "      <th></th>\n",
       "      <th></th>\n",
       "      <th></th>\n",
       "      <th></th>\n",
       "      <th></th>\n",
       "      <th></th>\n",
       "      <th></th>\n",
       "      <th></th>\n",
       "      <th></th>\n",
       "      <th></th>\n",
       "      <th></th>\n",
       "      <th></th>\n",
       "      <th></th>\n",
       "      <th></th>\n",
       "    </tr>\n",
       "  </thead>\n",
       "  <tbody>\n",
       "    <tr>\n",
       "      <th>17804</th>\n",
       "      <td>0</td>\n",
       "      <td>United States</td>\n",
       "      <td>3</td>\n",
       "      <td>Abert's Towhee</td>\n",
       "      <td>XC17804.mp3</td>\n",
       "      <td>https://www.xeno-canto.org/17804/download</td>\n",
       "      <td>Melozone</td>\n",
       "      <td>33.3117</td>\n",
       "      <td>http://creativecommons.org/licenses/by-nc-nd/2.5/</td>\n",
       "      <td>Cibola National Wildlife Refuge, Cibola, Arizo...</td>\n",
       "      <td>...</td>\n",
       "      <td>-79.65696</td>\n",
       "      <td>0.863908</td>\n",
       "      <td>-79.742508</td>\n",
       "      <td>1.001422</td>\n",
       "      <td>-79.764236</td>\n",
       "      <td>0.831335</td>\n",
       "      <td>-78.878372</td>\n",
       "      <td>1.854941</td>\n",
       "      <td>-79.423218</td>\n",
       "      <td>1.264777</td>\n",
       "    </tr>\n",
       "  </tbody>\n",
       "</table>\n",
       "<p>1 rows × 316 columns</p>\n",
       "</div>"
      ],
      "text/plain": [
       "         index        country  duration_seconds   english_cname    file_name  \\\n",
       "file_id                                                                        \n",
       "17804        0  United States                 3  Abert's Towhee  XC17804.mp3   \n",
       "\n",
       "                                          file_url     genus  latitude  \\\n",
       "file_id                                                                  \n",
       "17804    https://www.xeno-canto.org/17804/download  Melozone   33.3117   \n",
       "\n",
       "                                                   license  \\\n",
       "file_id                                                      \n",
       "17804    http://creativecommons.org/licenses/by-nc-nd/2.5/   \n",
       "\n",
       "                                                  location  ...  \\\n",
       "file_id                                                     ...   \n",
       "17804    Cibola National Wildlife Refuge, Cibola, Arizo...  ...   \n",
       "\n",
       "         meldb_mean123 meldb_std123 meldb_mean124 meldb_std124 meldb_mean125  \\\n",
       "file_id                                                                        \n",
       "17804        -79.65696     0.863908    -79.742508     1.001422    -79.764236   \n",
       "\n",
       "        meldb_std125 meldb_mean126 meldb_std126  meldb_mean127  meldb_std127  \n",
       "file_id                                                                       \n",
       "17804       0.831335    -78.878372     1.854941     -79.423218      1.264777  \n",
       "\n",
       "[1 rows x 316 columns]"
      ]
     },
     "execution_count": 2,
     "metadata": {},
     "output_type": "execute_result"
    }
   ],
   "source": [
    "index_df = pd.read_csv('../data/xeno-canto_ca-nv_stats.csv', \n",
    "                       index_col='file_id')\n",
    "index_df.head(1)"
   ]
  },
  {
   "cell_type": "code",
   "execution_count": 3,
   "metadata": {},
   "outputs": [
    {
     "data": {
      "text/plain": [
       "1820"
      ]
     },
     "execution_count": 3,
     "metadata": {},
     "output_type": "execute_result"
    }
   ],
   "source": [
    "train_df = index_df.loc[pd.read_csv('../data/train_file_ids.csv')['file_id']]\n",
    "len(train_df)"
   ]
  },
  {
   "cell_type": "code",
   "execution_count": 4,
   "metadata": {},
   "outputs": [
    {
     "data": {
      "text/plain": [
       "(array([\"Abert's Towhee\", 'Acorn Woodpecker', 'American Bushtit',\n",
       "        'American Crow', 'American Dusky Flycatcher',\n",
       "        'American Grey Flycatcher', 'American Robin', \"Anna's Hummingbird\",\n",
       "        'Ash-throated Flycatcher', \"Bell's Sparrow\", \"Bell's Vireo\",\n",
       "        \"Bewick's Wren\", 'Black Phoebe', 'Black-chinned Sparrow',\n",
       "        'Black-headed Grosbeak', 'Black-tailed Gnatcatcher',\n",
       "        'Blue-grey Gnatcatcher', \"Brewer's Sparrow\",\n",
       "        'California Gnatcatcher', 'California Quail',\n",
       "        'California Scrub Jay', 'California Thrasher', 'California Towhee',\n",
       "        'Canyon Wren', \"Cassin's Finch\", \"Cassin's Vireo\",\n",
       "        'Chestnut-backed Chickadee', \"Clark's Nutcracker\",\n",
       "        'Common Poorwill', 'Common Yellowthroat', 'Dark-eyed Junco',\n",
       "        'Elegant Tern', 'Flammulated Owl', \"Forster's Tern\",\n",
       "        'Great Horned Owl', 'Green-tailed Towhee', 'Grey Vireo',\n",
       "        'Hermit Thrush', 'Hermit Warbler', 'House Finch', 'House Wren',\n",
       "        \"Hutton's Vireo\", 'Juniper Titmouse', 'Lark Sparrow',\n",
       "        'Lazuli Bunting', 'Lesser Goldfinch', \"Lincoln's Sparrow\",\n",
       "        'Long-eared Owl', \"MacGillivray's Warbler\", 'Marsh Wren',\n",
       "        'Mountain Chickadee', 'Mountain Quail', 'Northern Flicker',\n",
       "        'Northern Mockingbird', 'Northern Pygmy Owl', 'Northern Raven',\n",
       "        'Northern Saw-whet Owl', \"Nuttall's Woodpecker\",\n",
       "        \"Nutting's Flycatcher\", 'Oak Titmouse', 'Orange-crowned Warbler',\n",
       "        'Pacific Wren', 'Pacific-slope Flycatcher', 'Phainopepla',\n",
       "        'Pygmy Nuthatch', 'Red Crossbill', 'Red-winged Blackbird',\n",
       "        \"Ridgway's Rail\", 'Rock Wren', 'Rufous-crowned Sparrow',\n",
       "        'Slate-colored Fox Sparrow', 'Snow Goose', 'Song Sparrow',\n",
       "        'Spotted Owl', 'Spotted Towhee', \"Steller's Jay\",\n",
       "        \"Swainson's Thrush\", 'Thick-billed Fox Sparrow',\n",
       "        'Tricolored Blackbird', 'Verdin', 'Warbling Vireo',\n",
       "        'Western Meadowlark', 'Western Screech Owl', 'Western Wood Pewee',\n",
       "        'White-breasted Nuthatch', 'White-crowned Sparrow',\n",
       "        'White-headed Woodpecker', \"Wilson's Warbler\", 'Wrentit',\n",
       "        'Yellow-billed Magpie', 'Yellow-breasted Chat'], dtype=object),\n",
       " array([43, 78, 56, ..., 83,  9,  2]))"
      ]
     },
     "execution_count": 4,
     "metadata": {},
     "output_type": "execute_result"
    }
   ],
   "source": [
    "label_encoder = LabelEncoder()\n",
    "y_train = label_encoder.fit_transform(train_df['english_cname'])\n",
    "#y_train = to_categorical(y_train)\n",
    "label_encoder.classes_, y_train"
   ]
  },
  {
   "cell_type": "code",
   "execution_count": 5,
   "metadata": {},
   "outputs": [
    {
     "data": {
      "text/html": [
       "<div>\n",
       "<style scoped>\n",
       "    .dataframe tbody tr th:only-of-type {\n",
       "        vertical-align: middle;\n",
       "    }\n",
       "\n",
       "    .dataframe tbody tr th {\n",
       "        vertical-align: top;\n",
       "    }\n",
       "\n",
       "    .dataframe thead th {\n",
       "        text-align: right;\n",
       "    }\n",
       "</style>\n",
       "<table border=\"1\" class=\"dataframe\">\n",
       "  <thead>\n",
       "    <tr style=\"text-align: right;\">\n",
       "      <th></th>\n",
       "      <th>mfcc_mean00</th>\n",
       "      <th>mfcc_mean01</th>\n",
       "      <th>mfcc_mean02</th>\n",
       "      <th>mfcc_mean03</th>\n",
       "      <th>mfcc_mean04</th>\n",
       "      <th>mfcc_mean05</th>\n",
       "      <th>mfcc_mean06</th>\n",
       "      <th>mfcc_mean07</th>\n",
       "      <th>mfcc_mean08</th>\n",
       "      <th>mfcc_mean09</th>\n",
       "      <th>...</th>\n",
       "      <th>mfcc_std10</th>\n",
       "      <th>mfcc_std11</th>\n",
       "      <th>mfcc_std12</th>\n",
       "      <th>mfcc_std13</th>\n",
       "      <th>mfcc_std14</th>\n",
       "      <th>mfcc_std15</th>\n",
       "      <th>mfcc_std16</th>\n",
       "      <th>mfcc_std17</th>\n",
       "      <th>mfcc_std18</th>\n",
       "      <th>mfcc_std19</th>\n",
       "    </tr>\n",
       "    <tr>\n",
       "      <th>file_id</th>\n",
       "      <th></th>\n",
       "      <th></th>\n",
       "      <th></th>\n",
       "      <th></th>\n",
       "      <th></th>\n",
       "      <th></th>\n",
       "      <th></th>\n",
       "      <th></th>\n",
       "      <th></th>\n",
       "      <th></th>\n",
       "      <th></th>\n",
       "      <th></th>\n",
       "      <th></th>\n",
       "      <th></th>\n",
       "      <th></th>\n",
       "      <th></th>\n",
       "      <th></th>\n",
       "      <th></th>\n",
       "      <th></th>\n",
       "      <th></th>\n",
       "      <th></th>\n",
       "    </tr>\n",
       "  </thead>\n",
       "  <tbody>\n",
       "    <tr>\n",
       "      <th>453098</th>\n",
       "      <td>-250.810425</td>\n",
       "      <td>28.457371</td>\n",
       "      <td>9.712974</td>\n",
       "      <td>-1.897048</td>\n",
       "      <td>1.805519</td>\n",
       "      <td>-8.206538</td>\n",
       "      <td>-3.683885</td>\n",
       "      <td>-3.442959</td>\n",
       "      <td>4.030917</td>\n",
       "      <td>-1.564035</td>\n",
       "      <td>...</td>\n",
       "      <td>10.730343</td>\n",
       "      <td>11.178503</td>\n",
       "      <td>9.452717</td>\n",
       "      <td>7.915398</td>\n",
       "      <td>7.054220</td>\n",
       "      <td>6.918440</td>\n",
       "      <td>7.249106</td>\n",
       "      <td>7.347002</td>\n",
       "      <td>8.047519</td>\n",
       "      <td>7.091804</td>\n",
       "    </tr>\n",
       "    <tr>\n",
       "      <th>344803</th>\n",
       "      <td>-158.820038</td>\n",
       "      <td>58.932842</td>\n",
       "      <td>-75.206795</td>\n",
       "      <td>-2.338842</td>\n",
       "      <td>-11.465850</td>\n",
       "      <td>-4.717530</td>\n",
       "      <td>10.324313</td>\n",
       "      <td>0.330541</td>\n",
       "      <td>-5.667123</td>\n",
       "      <td>-2.570280</td>\n",
       "      <td>...</td>\n",
       "      <td>8.559773</td>\n",
       "      <td>8.694917</td>\n",
       "      <td>7.524657</td>\n",
       "      <td>7.227513</td>\n",
       "      <td>6.131079</td>\n",
       "      <td>6.439923</td>\n",
       "      <td>7.126657</td>\n",
       "      <td>6.647209</td>\n",
       "      <td>6.963773</td>\n",
       "      <td>6.617993</td>\n",
       "    </tr>\n",
       "    <tr>\n",
       "      <th>355425</th>\n",
       "      <td>-341.699921</td>\n",
       "      <td>57.504631</td>\n",
       "      <td>-15.516808</td>\n",
       "      <td>2.974963</td>\n",
       "      <td>-7.245710</td>\n",
       "      <td>-2.083582</td>\n",
       "      <td>2.025671</td>\n",
       "      <td>9.330463</td>\n",
       "      <td>-2.084751</td>\n",
       "      <td>-4.569627</td>\n",
       "      <td>...</td>\n",
       "      <td>8.579488</td>\n",
       "      <td>5.924883</td>\n",
       "      <td>7.375512</td>\n",
       "      <td>5.640487</td>\n",
       "      <td>4.680757</td>\n",
       "      <td>6.270146</td>\n",
       "      <td>5.649363</td>\n",
       "      <td>6.573978</td>\n",
       "      <td>7.053258</td>\n",
       "      <td>5.101687</td>\n",
       "    </tr>\n",
       "    <tr>\n",
       "      <th>451191</th>\n",
       "      <td>-370.928314</td>\n",
       "      <td>6.029840</td>\n",
       "      <td>4.018046</td>\n",
       "      <td>-4.656692</td>\n",
       "      <td>6.181147</td>\n",
       "      <td>-10.600257</td>\n",
       "      <td>4.310547</td>\n",
       "      <td>2.256558</td>\n",
       "      <td>-1.133137</td>\n",
       "      <td>-1.591350</td>\n",
       "      <td>...</td>\n",
       "      <td>11.808133</td>\n",
       "      <td>9.050931</td>\n",
       "      <td>7.650569</td>\n",
       "      <td>8.156438</td>\n",
       "      <td>6.276405</td>\n",
       "      <td>6.831277</td>\n",
       "      <td>7.031040</td>\n",
       "      <td>6.600980</td>\n",
       "      <td>7.742706</td>\n",
       "      <td>6.687588</td>\n",
       "    </tr>\n",
       "    <tr>\n",
       "      <th>219357</th>\n",
       "      <td>-375.992889</td>\n",
       "      <td>37.905609</td>\n",
       "      <td>-38.414371</td>\n",
       "      <td>-13.534421</td>\n",
       "      <td>22.002016</td>\n",
       "      <td>-5.593565</td>\n",
       "      <td>-5.510320</td>\n",
       "      <td>3.000481</td>\n",
       "      <td>3.125098</td>\n",
       "      <td>-3.365547</td>\n",
       "      <td>...</td>\n",
       "      <td>9.230787</td>\n",
       "      <td>8.730521</td>\n",
       "      <td>7.532840</td>\n",
       "      <td>6.774899</td>\n",
       "      <td>6.296411</td>\n",
       "      <td>5.977695</td>\n",
       "      <td>6.050071</td>\n",
       "      <td>6.386250</td>\n",
       "      <td>6.742312</td>\n",
       "      <td>5.907849</td>\n",
       "    </tr>\n",
       "    <tr>\n",
       "      <th>...</th>\n",
       "      <td>...</td>\n",
       "      <td>...</td>\n",
       "      <td>...</td>\n",
       "      <td>...</td>\n",
       "      <td>...</td>\n",
       "      <td>...</td>\n",
       "      <td>...</td>\n",
       "      <td>...</td>\n",
       "      <td>...</td>\n",
       "      <td>...</td>\n",
       "      <td>...</td>\n",
       "      <td>...</td>\n",
       "      <td>...</td>\n",
       "      <td>...</td>\n",
       "      <td>...</td>\n",
       "      <td>...</td>\n",
       "      <td>...</td>\n",
       "      <td>...</td>\n",
       "      <td>...</td>\n",
       "      <td>...</td>\n",
       "      <td>...</td>\n",
       "    </tr>\n",
       "    <tr>\n",
       "      <th>305603</th>\n",
       "      <td>-331.223053</td>\n",
       "      <td>112.820686</td>\n",
       "      <td>-57.858753</td>\n",
       "      <td>-6.268742</td>\n",
       "      <td>-19.864056</td>\n",
       "      <td>-2.324106</td>\n",
       "      <td>-7.908581</td>\n",
       "      <td>-2.829157</td>\n",
       "      <td>-4.857272</td>\n",
       "      <td>-1.182806</td>\n",
       "      <td>...</td>\n",
       "      <td>4.346152</td>\n",
       "      <td>3.940823</td>\n",
       "      <td>3.976696</td>\n",
       "      <td>4.286355</td>\n",
       "      <td>4.425521</td>\n",
       "      <td>3.699108</td>\n",
       "      <td>4.473426</td>\n",
       "      <td>4.427166</td>\n",
       "      <td>3.953110</td>\n",
       "      <td>3.538882</td>\n",
       "    </tr>\n",
       "    <tr>\n",
       "      <th>405020</th>\n",
       "      <td>-371.174957</td>\n",
       "      <td>3.633566</td>\n",
       "      <td>-52.221279</td>\n",
       "      <td>47.875305</td>\n",
       "      <td>-58.673878</td>\n",
       "      <td>-2.351454</td>\n",
       "      <td>12.076879</td>\n",
       "      <td>-7.640750</td>\n",
       "      <td>-1.003304</td>\n",
       "      <td>-2.550456</td>\n",
       "      <td>...</td>\n",
       "      <td>6.446206</td>\n",
       "      <td>5.673038</td>\n",
       "      <td>5.748996</td>\n",
       "      <td>6.285236</td>\n",
       "      <td>5.290792</td>\n",
       "      <td>5.231864</td>\n",
       "      <td>5.760043</td>\n",
       "      <td>5.130857</td>\n",
       "      <td>5.232782</td>\n",
       "      <td>5.399832</td>\n",
       "    </tr>\n",
       "    <tr>\n",
       "      <th>326580</th>\n",
       "      <td>-704.942200</td>\n",
       "      <td>38.930153</td>\n",
       "      <td>-10.325354</td>\n",
       "      <td>18.968468</td>\n",
       "      <td>9.318748</td>\n",
       "      <td>-7.683753</td>\n",
       "      <td>1.563334</td>\n",
       "      <td>6.615032</td>\n",
       "      <td>-0.264179</td>\n",
       "      <td>-2.896008</td>\n",
       "      <td>...</td>\n",
       "      <td>11.942576</td>\n",
       "      <td>9.026079</td>\n",
       "      <td>12.098244</td>\n",
       "      <td>7.742556</td>\n",
       "      <td>8.776327</td>\n",
       "      <td>7.777817</td>\n",
       "      <td>7.647707</td>\n",
       "      <td>7.062777</td>\n",
       "      <td>6.859518</td>\n",
       "      <td>6.143765</td>\n",
       "    </tr>\n",
       "    <tr>\n",
       "      <th>144072</th>\n",
       "      <td>-271.839294</td>\n",
       "      <td>166.021606</td>\n",
       "      <td>-23.277220</td>\n",
       "      <td>4.364434</td>\n",
       "      <td>-12.002402</td>\n",
       "      <td>6.695675</td>\n",
       "      <td>-2.356017</td>\n",
       "      <td>1.693202</td>\n",
       "      <td>0.191780</td>\n",
       "      <td>-4.296841</td>\n",
       "      <td>...</td>\n",
       "      <td>7.884676</td>\n",
       "      <td>7.170409</td>\n",
       "      <td>6.844337</td>\n",
       "      <td>6.802369</td>\n",
       "      <td>6.734670</td>\n",
       "      <td>6.509604</td>\n",
       "      <td>6.943664</td>\n",
       "      <td>6.742655</td>\n",
       "      <td>6.043250</td>\n",
       "      <td>5.798926</td>\n",
       "    </tr>\n",
       "    <tr>\n",
       "      <th>450763</th>\n",
       "      <td>-382.879852</td>\n",
       "      <td>-1.630168</td>\n",
       "      <td>-7.754528</td>\n",
       "      <td>6.377756</td>\n",
       "      <td>-4.286233</td>\n",
       "      <td>7.717669</td>\n",
       "      <td>-4.043256</td>\n",
       "      <td>-2.351812</td>\n",
       "      <td>6.965304</td>\n",
       "      <td>-3.868794</td>\n",
       "      <td>...</td>\n",
       "      <td>6.939355</td>\n",
       "      <td>6.590846</td>\n",
       "      <td>6.581836</td>\n",
       "      <td>5.258437</td>\n",
       "      <td>5.296179</td>\n",
       "      <td>5.119763</td>\n",
       "      <td>5.153264</td>\n",
       "      <td>5.107852</td>\n",
       "      <td>4.917154</td>\n",
       "      <td>5.378435</td>\n",
       "    </tr>\n",
       "  </tbody>\n",
       "</table>\n",
       "<p>1820 rows × 40 columns</p>\n",
       "</div>"
      ],
      "text/plain": [
       "         mfcc_mean00  mfcc_mean01  mfcc_mean02  mfcc_mean03  mfcc_mean04  \\\n",
       "file_id                                                                    \n",
       "453098   -250.810425    28.457371     9.712974    -1.897048     1.805519   \n",
       "344803   -158.820038    58.932842   -75.206795    -2.338842   -11.465850   \n",
       "355425   -341.699921    57.504631   -15.516808     2.974963    -7.245710   \n",
       "451191   -370.928314     6.029840     4.018046    -4.656692     6.181147   \n",
       "219357   -375.992889    37.905609   -38.414371   -13.534421    22.002016   \n",
       "...              ...          ...          ...          ...          ...   \n",
       "305603   -331.223053   112.820686   -57.858753    -6.268742   -19.864056   \n",
       "405020   -371.174957     3.633566   -52.221279    47.875305   -58.673878   \n",
       "326580   -704.942200    38.930153   -10.325354    18.968468     9.318748   \n",
       "144072   -271.839294   166.021606   -23.277220     4.364434   -12.002402   \n",
       "450763   -382.879852    -1.630168    -7.754528     6.377756    -4.286233   \n",
       "\n",
       "         mfcc_mean05  mfcc_mean06  mfcc_mean07  mfcc_mean08  mfcc_mean09  ...  \\\n",
       "file_id                                                                   ...   \n",
       "453098     -8.206538    -3.683885    -3.442959     4.030917    -1.564035  ...   \n",
       "344803     -4.717530    10.324313     0.330541    -5.667123    -2.570280  ...   \n",
       "355425     -2.083582     2.025671     9.330463    -2.084751    -4.569627  ...   \n",
       "451191    -10.600257     4.310547     2.256558    -1.133137    -1.591350  ...   \n",
       "219357     -5.593565    -5.510320     3.000481     3.125098    -3.365547  ...   \n",
       "...              ...          ...          ...          ...          ...  ...   \n",
       "305603     -2.324106    -7.908581    -2.829157    -4.857272    -1.182806  ...   \n",
       "405020     -2.351454    12.076879    -7.640750    -1.003304    -2.550456  ...   \n",
       "326580     -7.683753     1.563334     6.615032    -0.264179    -2.896008  ...   \n",
       "144072      6.695675    -2.356017     1.693202     0.191780    -4.296841  ...   \n",
       "450763      7.717669    -4.043256    -2.351812     6.965304    -3.868794  ...   \n",
       "\n",
       "         mfcc_std10  mfcc_std11  mfcc_std12  mfcc_std13  mfcc_std14  \\\n",
       "file_id                                                               \n",
       "453098    10.730343   11.178503    9.452717    7.915398    7.054220   \n",
       "344803     8.559773    8.694917    7.524657    7.227513    6.131079   \n",
       "355425     8.579488    5.924883    7.375512    5.640487    4.680757   \n",
       "451191    11.808133    9.050931    7.650569    8.156438    6.276405   \n",
       "219357     9.230787    8.730521    7.532840    6.774899    6.296411   \n",
       "...             ...         ...         ...         ...         ...   \n",
       "305603     4.346152    3.940823    3.976696    4.286355    4.425521   \n",
       "405020     6.446206    5.673038    5.748996    6.285236    5.290792   \n",
       "326580    11.942576    9.026079   12.098244    7.742556    8.776327   \n",
       "144072     7.884676    7.170409    6.844337    6.802369    6.734670   \n",
       "450763     6.939355    6.590846    6.581836    5.258437    5.296179   \n",
       "\n",
       "         mfcc_std15  mfcc_std16  mfcc_std17  mfcc_std18  mfcc_std19  \n",
       "file_id                                                              \n",
       "453098     6.918440    7.249106    7.347002    8.047519    7.091804  \n",
       "344803     6.439923    7.126657    6.647209    6.963773    6.617993  \n",
       "355425     6.270146    5.649363    6.573978    7.053258    5.101687  \n",
       "451191     6.831277    7.031040    6.600980    7.742706    6.687588  \n",
       "219357     5.977695    6.050071    6.386250    6.742312    5.907849  \n",
       "...             ...         ...         ...         ...         ...  \n",
       "305603     3.699108    4.473426    4.427166    3.953110    3.538882  \n",
       "405020     5.231864    5.760043    5.130857    5.232782    5.399832  \n",
       "326580     7.777817    7.647707    7.062777    6.859518    6.143765  \n",
       "144072     6.509604    6.943664    6.742655    6.043250    5.798926  \n",
       "450763     5.119763    5.153264    5.107852    4.917154    5.378435  \n",
       "\n",
       "[1820 rows x 40 columns]"
      ]
     },
     "execution_count": 5,
     "metadata": {},
     "output_type": "execute_result"
    }
   ],
   "source": [
    "X_train = train_df[#['meldb_mean%03i'%i for i in range(128)]+\\\n",
    "                 #['meldb_std%03i'%i for i in range(128)]+\\\n",
    "                 ['mfcc_mean%02i'%i for i in range(20)]+\\\n",
    "                 ['mfcc_std%02i'%i for i in range(20)]]\n",
    "X_train"
   ]
  },
  {
   "cell_type": "code",
   "execution_count": 6,
   "metadata": {},
   "outputs": [],
   "source": [
    "scaler = StandardScaler().fit(X_train)"
   ]
  },
  {
   "cell_type": "code",
   "execution_count": 7,
   "metadata": {},
   "outputs": [
    {
     "data": {
      "text/plain": [
       "array([[ 1.07232185, -0.55056792,  0.96675712, ...,  0.62615872,\n",
       "         0.92080878,  0.65581414],\n",
       "       [ 1.90967676,  0.05401906, -1.63103234, ...,  0.21160539,\n",
       "         0.34708893,  0.36157679],\n",
       "       [ 0.24498795,  0.02568552,  0.19495026, ...,  0.16822363,\n",
       "         0.39446137, -0.5800512 ],\n",
       "       ...,\n",
       "       [-3.06147391, -0.34280386,  0.35376257, ...,  0.45778516,\n",
       "         0.29189795,  0.06708092],\n",
       "       [ 0.88090373,  2.17849718, -0.04244931, ...,  0.26814712,\n",
       "        -0.14022308, -0.14706461],\n",
       "       [-0.12985793, -1.14745891,  0.43240696, ..., -0.70030109,\n",
       "        -0.73636208, -0.40819022]])"
      ]
     },
     "execution_count": 7,
     "metadata": {},
     "output_type": "execute_result"
    }
   ],
   "source": [
    "X_train = scaler.transform(X_train)\n",
    "X_train"
   ]
  },
  {
   "cell_type": "code",
   "execution_count": 8,
   "metadata": {},
   "outputs": [
    {
     "data": {
      "text/plain": [
       "((1820, 40), (1820,))"
      ]
     },
     "execution_count": 8,
     "metadata": {},
     "output_type": "execute_result"
    }
   ],
   "source": [
    "X_train.shape, y_train.shape"
   ]
  },
  {
   "cell_type": "markdown",
   "metadata": {},
   "source": [
    "## Train with Cross-Validation"
   ]
  },
  {
   "cell_type": "markdown",
   "metadata": {},
   "source": [
    "### Train a Gaussian Naive Bayes Classifier"
   ]
  },
  {
   "cell_type": "code",
   "execution_count": 9,
   "metadata": {},
   "outputs": [
    {
     "name": "stdout",
     "output_type": "stream",
     "text": [
      "Split 1: score=0.16969\n",
      "Split 2: score=0.18946\n",
      "Split 3: score=0.16969\n",
      "Split 4: score=0.16310\n",
      "Split 5: score=0.16145\n",
      "GaussianNB Cross Validation Accuracy: 17.1% +/- 1.00%\n"
     ]
    }
   ],
   "source": [
    "n_splits = 5\n",
    "sss = StratifiedShuffleSplit(n_splits=n_splits, test_size=1/3, random_state=37)\n",
    "scores = []\n",
    "\n",
    "for cv_train_index, cv_val_index in sss.split(X_train, y_train):\n",
    "    predictor = GaussianNB().fit([X_train[i] for i in cv_train_index], \n",
    "                                     [y_train[i] for i in cv_train_index])\n",
    "    \n",
    "    X_val = [X_train[i] for i in cv_val_index] \n",
    "    y_val = [y_train[i] for i in cv_val_index]\n",
    "    \n",
    "    predictions = predictor.predict(X_val)\n",
    "    \n",
    "    scores.append(accuracy_score(y_val, predictions))\n",
    "    print(\"Split %i: score=%.5f\"%(\n",
    "        len(scores), scores[-1] ))\n",
    "print(\"GaussianNB Cross Validation Accuracy: %.1f%% +/- %.2f%%\"%(\n",
    "    np.mean(scores)*100, np.std(scores)*100))"
   ]
  },
  {
   "cell_type": "markdown",
   "metadata": {},
   "source": [
    "### Train a Multi-Layer Perceptron (Neural Network)"
   ]
  },
  {
   "cell_type": "code",
   "execution_count": 10,
   "metadata": {},
   "outputs": [
    {
     "name": "stdout",
     "output_type": "stream",
     "text": [
      "Split 1: score=0.24053\n",
      "Split 2: score=0.29489\n",
      "Split 3: score=0.24053\n",
      "Split 4: score=0.23888\n",
      "Split 5: score=0.24547\n",
      "MLP Cross Validation Accuracy: 25.2% +/- 2.15%\n"
     ]
    }
   ],
   "source": [
    "n_splits = 5\n",
    "sss = StratifiedShuffleSplit(n_splits=n_splits, test_size=1/3, random_state=37)\n",
    "scores = []\n",
    "\n",
    "for cv_train_index, cv_val_index in sss.split(X_train, y_train):\n",
    "    predictor = MLPClassifier(hidden_layer_sizes=(256,256), max_iter=500).fit(\n",
    "        [X_train[i] for i in cv_train_index], [y_train[i] for i in cv_train_index])\n",
    "    \n",
    "    X_val = [X_train[i] for i in cv_val_index] \n",
    "    y_val = [y_train[i] for i in cv_val_index]\n",
    "    \n",
    "    predictions = predictor.predict(X_val)\n",
    "    \n",
    "    scores.append(accuracy_score(y_val, predictions))\n",
    "    print(\"Split %i: score=%.5f\"%(\n",
    "        len(scores),scores[-1] ))\n",
    "print(\"MLP Cross Validation Accuracy: %.1f%% +/- %.2f%%\"%(\n",
    "    np.mean(scores)*100, np.std(scores)*100))"
   ]
  },
  {
   "cell_type": "markdown",
   "metadata": {},
   "source": [
    "## Calculate Test Score"
   ]
  },
  {
   "cell_type": "markdown",
   "metadata": {},
   "source": [
    "### Train on whole training dataset"
   ]
  },
  {
   "cell_type": "code",
   "execution_count": 13,
   "metadata": {},
   "outputs": [],
   "source": [
    "gnb =  MLPClassifier(hidden_layer_sizes=(256,256), max_iter=500).fit(X_train, y_train)"
   ]
  },
  {
   "cell_type": "markdown",
   "metadata": {},
   "source": [
    "### Make predictions and report accuracy"
   ]
  },
  {
   "cell_type": "code",
   "execution_count": 14,
   "metadata": {},
   "outputs": [
    {
     "data": {
      "text/plain": [
       "910"
      ]
     },
     "execution_count": 14,
     "metadata": {},
     "output_type": "execute_result"
    }
   ],
   "source": [
    "test_df = index_df.loc[pd.read_csv('../data/test_file_ids.csv')['file_id']]\n",
    "len(test_df)"
   ]
  },
  {
   "cell_type": "code",
   "execution_count": 15,
   "metadata": {},
   "outputs": [
    {
     "data": {
      "text/plain": [
       "(910, 40)"
      ]
     },
     "execution_count": 15,
     "metadata": {},
     "output_type": "execute_result"
    }
   ],
   "source": [
    "X_test = test_df[['mfcc_mean%02i'%i for i in range(20)]+\\\n",
    "                 ['mfcc_std%02i'%i for i in range(20)]]\n",
    "X_test = scaler.transform(X_test)\n",
    "X_test.shape"
   ]
  },
  {
   "cell_type": "code",
   "execution_count": 16,
   "metadata": {},
   "outputs": [
    {
     "data": {
      "text/plain": [
       "((910,), array([47, 65, 83, 42, 52, 65, 18, 33, 62, 35]), '...')"
      ]
     },
     "execution_count": 16,
     "metadata": {},
     "output_type": "execute_result"
    }
   ],
   "source": [
    "y_test = label_encoder.transform(test_df['english_cname'])\n",
    "y_test.shape, y_test[:10], '...'"
   ]
  },
  {
   "cell_type": "code",
   "execution_count": 17,
   "metadata": {},
   "outputs": [
    {
     "name": "stdout",
     "output_type": "stream",
     "text": [
      "Test Accuracy: 28.79 %\n"
     ]
    }
   ],
   "source": [
    "predictions = gnb.predict(X_test)\n",
    "test_accuracy = accuracy_score(y_test, predictions)\n",
    "print(\"Test Accuracy: %.2f %%\"%(100*test_accuracy))"
   ]
  }
 ],
 "metadata": {
  "kernelspec": {
   "display_name": "Python 3",
   "language": "python",
   "name": "python3"
  },
  "language_info": {
   "codemirror_mode": {
    "name": "ipython",
    "version": 3
   },
   "file_extension": ".py",
   "mimetype": "text/x-python",
   "name": "python",
   "nbconvert_exporter": "python",
   "pygments_lexer": "ipython3",
   "version": "3.7.5"
  }
 },
 "nbformat": 4,
 "nbformat_minor": 4
}
