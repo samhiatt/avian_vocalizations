{
 "cells": [
  {
   "cell_type": "code",
   "execution_count": 7,
   "metadata": {},
   "outputs": [],
   "source": [
    "%reload_ext autoreload\n",
    "%autoreload 2"
   ]
  },
  {
   "cell_type": "code",
   "execution_count": 8,
   "metadata": {},
   "outputs": [],
   "source": [
    "import plumbum as pb\n",
    "from vastai.api import VastClient\n",
    "import time\n",
    "from plumbum.machines.paramiko_machine import ParamikoMachine\n",
    "from paramiko.client import AutoAddPolicy"
   ]
  },
  {
   "cell_type": "code",
   "execution_count": 9,
   "metadata": {},
   "outputs": [
    {
     "name": "stdout",
     "output_type": "stream",
     "text": [
      "api_key_file:  ~/.vast_api_key\n",
      "Initializing vast.ai client with api_key from /home/sam/.vast_api_key.\n",
      "Already logged in.\n"
     ]
    }
   ],
   "source": [
    "vast = VastClient().authenticate()"
   ]
  },
  {
   "cell_type": "code",
   "execution_count": 4,
   "metadata": {},
   "outputs": [
    {
     "data": {
      "text/plain": [
       "[]"
      ]
     },
     "execution_count": 4,
     "metadata": {},
     "output_type": "execute_result"
    }
   ],
   "source": [
    "vast.get_running_instances()"
   ]
  },
  {
   "cell_type": "code",
   "execution_count": 11,
   "metadata": {},
   "outputs": [
    {
     "data": {
      "text/plain": [
       "[       ID Machine   Status  Num      Model Util. % vCPUs   RAM Storage      SSH Addr SSH Port    $/hr                                         Image Net up Net down     R\n",
       " 0  398753    1810  running  1 x  Tesla K80   100.0  16.0  31.8       1  ssh4.vast.ai    38753  0.0252  tensorflow/tensorflow:1.14.0-gpu-py3-jupyter  423.8    495.8  98.4,\n",
       "        ID Machine   Status  Num      Model Util. % vCPUs   RAM Storage      SSH Addr SSH Port    $/hr                                         Image Net up Net down     R\n",
       " 0  398754    1810  running  1 x  Tesla K80   100.0  16.0  31.8       1  ssh5.vast.ai    38754  0.0252  tensorflow/tensorflow:1.14.0-gpu-py3-jupyter  423.8    495.8  98.4]"
      ]
     },
     "execution_count": 11,
     "metadata": {},
     "output_type": "execute_result"
    }
   ],
   "source": [
    "vast.get_instances()"
   ]
  },
  {
   "cell_type": "code",
   "execution_count": 10,
   "metadata": {},
   "outputs": [
    {
     "name": "stdout",
     "output_type": "stream",
     "text": [
      "Starting instance 398753.\n",
      "Starting instance 398754.\n"
     ]
    }
   ],
   "source": [
    "for inst in vast.get_instances():\n",
    "    inst.start()"
   ]
  },
  {
   "cell_type": "code",
   "execution_count": 7,
   "metadata": {},
   "outputs": [],
   "source": [
    "def filter_offers():\n",
    "    return [offer for offer in vast.search_offers('dph', 'dph<.12 inet_down>200', instance_type='on-demand') \n",
    "        if offer['gpu_name'] and offer['id'] not in [397086, 395039, 396679]]\n",
    "# print(\"%i offers.\"%len(offers))\n",
    "#for offer in offers:\n",
    "    #print(offer['id'],offer['dph_total'])"
   ]
  },
  {
   "cell_type": "code",
   "execution_count": 8,
   "metadata": {},
   "outputs": [
    {
     "name": "stdout",
     "output_type": "stream",
     "text": [
      "395017 0.025 Tesla K80 506.9 506.9\n",
      "398574 0.05 P104-100 0.0 0.0\n",
      "395016 0.05 Tesla K80 506.9 506.9\n",
      "398629 0.08 GTX 1070 Ti 845.8 845.8\n",
      "398570 0.085 GTX 1070 Ti 305.5 305.5\n",
      "397896 0.085 GTX 1070 Ti 310.2 310.2\n",
      "398423 0.09 GTX 1080 Ti 261.2 261.2\n",
      "397085 0.09 GTX 1070 Ti 452.3 452.3\n",
      "397078 0.09 GTX 1080 458.7 458.7\n",
      "395482 0.09 GTX 1080 Ti 260.9 260.9\n",
      "389091 0.09 GTX 1080 Ti 371.5 371.5\n",
      "380556 0.09 GTX 1080 Ti 546.7 546.7\n",
      "397083 0.095 GTX 1080 454.7 454.7\n",
      "398576 0.1 P104-100 0.0 0.0\n",
      "396977 0.1 GTX 1080 Ti 574.3 574.3\n",
      "384637 0.1 GTX 1080 Ti 605.6 605.6\n",
      "380573 0.1 GTX 1080 Ti 471.9 471.9\n",
      "380541 0.1 GTX 1080 Ti 549.0 549.0\n",
      "380534 0.1 GTX 1080 Ti 551.5 551.5\n",
      "379152 0.1 GTX 1080 Ti 430.0 430.0\n",
      "378011 0.1 GTX 1080 Ti 339.9 339.9\n",
      "373301 0.11 GTX 1080 Ti 556.0 556.0\n",
      "373300 0.11 GTX 1080 Ti 556.0 556.0\n"
     ]
    }
   ],
   "source": [
    "for offer in filter_offers():\n",
    "    print(offer['id'], offer['dph_total'], offer['gpu_name'], offer['inet_down'], offer['inet_down'])"
   ]
  },
  {
   "cell_type": "code",
   "execution_count": 9,
   "metadata": {},
   "outputs": [
    {
     "name": "stdout",
     "output_type": "stream",
     "text": [
      "https://vast.ai/api/v0/asks/395017/?api_key=e794a3273e5a3e74d545bbc368849ff263f726042cf92587df9519a6cda62e74 \n",
      " {\"client_id\": \"me\", \"image\": \"tensorflow/tensorflow:1.14.0-gpu-py3-jupyter\", \"price\": null, \"disk\": 1, \"label\": null, \"onstart\": \"#!/bin/sh\\napt-get install -y mongodb-server\\nservice mongodb start\\n\", \"runtype\": \"ssh\", \"python_utf8\": false, \"lang_utf8\": false, \"use_jupyter_lab\": false, \"jupyter_dir\": null, \"create_from\": null, \"force\": false}\n",
      "{\"success\": true, \"new_contract\": 398753}\n",
      "https://vast.ai/api/v0/asks/395015/?api_key=e794a3273e5a3e74d545bbc368849ff263f726042cf92587df9519a6cda62e74 \n",
      " {\"client_id\": \"me\", \"image\": \"tensorflow/tensorflow:1.14.0-gpu-py3-jupyter\", \"price\": null, \"disk\": 1, \"label\": null, \"onstart\": \"#!/bin/sh\\napt-get install -y mongodb-server\\nmkdir -p ~/.ssh\\nssh-keygen  -P '' -f ~/.ssh/mongo\\n\", \"runtype\": \"ssh\", \"python_utf8\": false, \"lang_utf8\": false, \"use_jupyter_lab\": false, \"jupyter_dir\": null, \"create_from\": null, \"force\": false}\n",
      "{\"success\": true, \"new_contract\": 398754}\n"
     ]
    }
   ],
   "source": [
    "onstart = \"#!/bin/sh\\n\"\\\n",
    "          \"touch ~/.no_auto_tmux\\n\"\\\n",
    "          \"apt-get install -y mongodb-server\\n\"\\\n",
    "          \"service mongodb start\\n\"\n",
    "resp=vast.create_instance(filter_offers()[0]['id'], disk=1, onstart_cmd=onstart,\n",
    "                          image=\"tensorflow/tensorflow:1.14.0-gpu-py3-jupyter\")\n",
    "mongo_instance_id = resp['new_contract']\n",
    "time.sleep(30)\n",
    "mongo_instance = vast.get_instance(mongo_instance_id)\n",
    "\n",
    "onstart = \"#!/bin/sh\\n\"\\\n",
    "          \"touch ~/.no_auto_tmux\\n\"\\\n",
    "          \"apt-get install -y mongodb-server\\n\"\\\n",
    "          \"mkdir -p ~/.ssh\\n\"\\\n",
    "          \"ssh-keygen  -P '' -f ~/.ssh/mongo\\n\"\n",
    "resp=vast.create_instance(filter_offers()[0]['id'], disk=1, onstart_cmd=onstart,\n",
    "                          image=\"tensorflow/tensorflow:1.14.0-gpu-py3-jupyter\")\n",
    "worker_instance_id = resp['new_contract']\n",
    "\n",
    "time.sleep(30)\n",
    "worker_instance = vast.get_instance(worker_instance_id)"
   ]
  },
  {
   "cell_type": "code",
   "execution_count": 24,
   "metadata": {},
   "outputs": [
    {
     "data": {
      "text/plain": [
       "       ID Machine   Status  Num      Model Util. % vCPUs   RAM Storage      SSH Addr SSH Port    $/hr                                         Image Net up Net down     R\n",
       "0  398753    1810  running  1 x  Tesla K80     0.0  16.0  31.8       1  ssh4.vast.ai    38753  0.0252  tensorflow/tensorflow:1.14.0-gpu-py3-jupyter  402.8    506.9  98.4"
      ]
     },
     "execution_count": 24,
     "metadata": {},
     "output_type": "execute_result"
    }
   ],
   "source": [
    "mongo_instance.wait_until_running()"
   ]
  },
  {
   "cell_type": "code",
   "execution_count": 40,
   "metadata": {},
   "outputs": [
    {
     "name": "stdout",
     "output_type": "stream",
     "text": [
      "status is 'loading', waiting 60s...\n"
     ]
    },
    {
     "data": {
      "text/plain": [
       "       ID Machine   Status  Num        Model Util. % vCPUs   RAM Storage      SSH Addr SSH Port    $/hr                                         Image Net up Net down     R\n",
       "0  398092     940  running  1 x  GTX 1070 Ti     0.0   4.0  32.0       1  ssh5.vast.ai    26322  0.0864  tensorflow/tensorflow:1.14.0-gpu-py3-jupyter  302.2    314.6  97.8"
      ]
     },
     "execution_count": 40,
     "metadata": {},
     "output_type": "execute_result"
    }
   ],
   "source": [
    "worker_instance.wait_until_running()"
   ]
  },
  {
   "cell_type": "code",
   "execution_count": 26,
   "metadata": {},
   "outputs": [
    {
     "data": {
      "text/plain": [
       "[' * Checking status of database mongodb', '   ...done.', '']"
      ]
     },
     "metadata": {},
     "output_type": "display_data"
    }
   ],
   "source": [
    "worker_machine = ParamikoMachine(worker_instance.ssh_host, user='root', port=worker_instance.ssh_port, \n",
    "                         keyfile=vast._get_ssh_key_file(), missing_host_policy=AutoAddPolicy)\n",
    "mongo_machine = ParamikoMachine(mongo_instance.ssh_host, user='root', port=mongo_instance.ssh_port, \n",
    "                         keyfile=vast._get_ssh_key_file(), missing_host_policy=AutoAddPolicy)\n",
    "status_resp=mongo_machine['service'](['mongodb','status'])\n",
    "display(status_resp.split('\\n')[-5:])"
   ]
  },
  {
   "cell_type": "code",
   "execution_count": 27,
   "metadata": {},
   "outputs": [
    {
     "data": {
      "text/plain": [
       "True"
      ]
     },
     "execution_count": 27,
     "metadata": {},
     "output_type": "execute_result"
    }
   ],
   "source": [
    "worker_machine.path('~/.ssh/mongo.pub').isfile()"
   ]
  },
  {
   "cell_type": "code",
   "execution_count": 28,
   "metadata": {},
   "outputs": [
    {
     "data": {
      "text/plain": [
       "'ssh-rsa AAAAB3NzaC1yc2EAAAADAQABAAABAQCwQNWg4ud+cP01AhsHEPohGD7/XRafkPiR0PpUrxMX6NOZUgOYuQzK9EN/667HhTnYJm6Yhez/gNGM8/GGzvuDoQQZazEwpnDtCQsgzS9wjBqmxT7pb2jeLuzZGGoXGMN2tY2dNw6TOJvc80QJKtU3hj4NEynTPi96uz888iClf6Gc8/H9rZYkZGF8jBgm5i8ONlbMWDHGlFryOtbuW2XZQZ+Li7ZP8Ad3ozk1pcZIW26IFcihqlxo8sEh+nHyY/Xsyt1bfjy6B7V3rDOBradwxnH5JGiSIZjobLRXrVJ4xxEk/GfJrhywdK3g8lTwVBUdasXJpI08m3P27sszlleB root@b9df8fc9c11d\\n'"
      ]
     },
     "execution_count": 28,
     "metadata": {},
     "output_type": "execute_result"
    }
   ],
   "source": [
    "pub_key=worker_machine['cat'](worker_machine.path('~/.ssh/mongo.pub'))\n",
    "pub_key"
   ]
  },
  {
   "cell_type": "code",
   "execution_count": null,
   "metadata": {},
   "outputs": [],
   "source": [
    "mongo_machine.session().run('echo \"\\n%s\" >> %s'%(pub_key, mongo_machine.path('~/.ssh/authorized_keys')))"
   ]
  },
  {
   "cell_type": "code",
   "execution_count": 30,
   "metadata": {
    "scrolled": true
   },
   "outputs": [
    {
     "data": {
      "text/plain": [
       "'ssh-rsa AAAAB3NzaC1yc2EAAAADAQABAAABAQDaKOIegXeknsbwKsyvY+sdgRFn71kg9yr64ktpV17ImXrggQ+LHmhqMhbv/1gNQhNKIRJz7FllaxxQZkeOnqcv/tLpom3NaZG7OMWkfRR7IK1Apv4n9J2sGUIHlBTyjdDmawiXlttzDjphcR0ZSZ58V+8Hr/S7L+pb1nkXmSY109LV6XjYjo1DPmngU+lnAFilErV3fSZFnmKDA95xQH+ZVN91nKO/jsUOLAIeIo4o5aSR/nv8KGB9GpKbVAueXPji/HrWijXuWSepEtbhtBq8cXTFqgoakhD/Cz4kmZIqwVOLRU+OZRq+xFsJK1UQBR34GRcQeda5AKQ7tDypK2Rj sam@localhost\\nssh-rsa AAAAB3NzaC1yc2EAAAADAQABAAABAQCwQNWg4ud+cP01AhsHEPohGD7/XRafkPiR0PpUrxMX6NOZUgOYuQzK9EN/667HhTnYJm6Yhez/gNGM8/GGzvuDoQQZazEwpnDtCQsgzS9wjBqmxT7pb2jeLuzZGGoXGMN2tY2dNw6TOJvc80QJKtU3hj4NEynTPi96uz888iClf6Gc8/H9rZYkZGF8jBgm5i8ONlbMWDHGlFryOtbuW2XZQZ+Li7ZP8Ad3ozk1pcZIW26IFcihqlxo8sEh+nHyY/Xsyt1bfjy6B7V3rDOBradwxnH5JGiSIZjobLRXrVJ4xxEk/GfJrhywdK3g8lTwVBUdasXJpI08m3P27sszlleB root@b9df8fc9c11d\\n\\n'"
      ]
     },
     "execution_count": 30,
     "metadata": {},
     "output_type": "execute_result"
    }
   ],
   "source": [
    "mongo_machine['cat'](mongo_machine.path('~/.ssh/authorized_keys'))"
   ]
  },
  {
   "cell_type": "code",
   "execution_count": 32,
   "metadata": {},
   "outputs": [
    {
     "data": {
      "text/plain": [
       "'ssh root@ssh5.vast.ai -p 38754 -i /home/sam/.ssh/vastai'"
      ]
     },
     "execution_count": 32,
     "metadata": {},
     "output_type": "execute_result"
    }
   ],
   "source": [
    "worker_instance.get_ssh_connection_command()"
   ]
  },
  {
   "cell_type": "code",
   "execution_count": 33,
   "metadata": {},
   "outputs": [
    {
     "data": {
      "text/plain": [
       "'ssh root@ssh4.vast.ai -p 38753 -i /home/sam/.ssh/vastai'"
      ]
     },
     "execution_count": 33,
     "metadata": {},
     "output_type": "execute_result"
    }
   ],
   "source": [
    "mongo_instance.get_ssh_connection_command()"
   ]
  },
  {
   "cell_type": "code",
   "execution_count": 81,
   "metadata": {},
   "outputs": [
    {
     "data": {
      "text/plain": [
       "'/root/.ssh/mongo.pub'"
      ]
     },
     "execution_count": 81,
     "metadata": {},
     "output_type": "execute_result"
    }
   ],
   "source": [
    "\"%s\"%mongo_machine.path('~/.ssh/mongo.pub')"
   ]
  },
  {
   "cell_type": "code",
   "execution_count": 13,
   "metadata": {},
   "outputs": [],
   "source": [
    "mongo_instance = vast.get_instance(398753)"
   ]
  },
  {
   "cell_type": "code",
   "execution_count": 14,
   "metadata": {},
   "outputs": [],
   "source": [
    "worker_instance = vast.get_instance(398754)"
   ]
  },
  {
   "cell_type": "code",
   "execution_count": 28,
   "metadata": {},
   "outputs": [
    {
     "data": {
      "text/plain": [
       "<ParamikoMachine paramiko://root@ssh4.vast.ai>"
      ]
     },
     "execution_count": 28,
     "metadata": {},
     "output_type": "execute_result"
    }
   ],
   "source": [
    "mongo_machine = mongo_instance.pb_remote()\n",
    "mongo_machine"
   ]
  },
  {
   "cell_type": "code",
   "execution_count": 31,
   "metadata": {},
   "outputs": [
    {
     "data": {
      "text/plain": [
       "<ParamikoMachine paramiko://root@ssh4.vast.ai>"
      ]
     },
     "execution_count": 31,
     "metadata": {},
     "output_type": "execute_result"
    }
   ],
   "source": [
    "worker_machine = mongo_instance.pb_remote()\n",
    "worker_machine"
   ]
  },
  {
   "cell_type": "code",
   "execution_count": 16,
   "metadata": {},
   "outputs": [
    {
     "name": "stdout",
     "output_type": "stream",
     "text": [
      "/root\n",
      "\n"
     ]
    }
   ],
   "source": [
    "print(mongo_machine['pwd']())"
   ]
  },
  {
   "cell_type": "code",
   "execution_count": 34,
   "metadata": {},
   "outputs": [
    {
     "data": {
      "text/plain": [
       "'ssh-rsa AAAAB3NzaC1yc2EAAAADAQABAAABAQDaKOIegXeknsbwKsyvY+sdgRFn71kg9yr64ktpV17ImXrggQ+LHmhqMhbv/1gNQhNKIRJz7FllaxxQZkeOnqcv/tLpom3NaZG7OMWkfRR7IK1Apv4n9J2sGUIHlBTyjdDmawiXlttzDjphcR0ZSZ58V+8Hr/S7L+pb1nkXmSY109LV6XjYjo1DPmngU+lnAFilErV3fSZFnmKDA95xQH+ZVN91nKO/jsUOLAIeIo4o5aSR/nv8KGB9GpKbVAueXPji/HrWijXuWSepEtbhtBq8cXTFqgoakhD/Cz4kmZIqwVOLRU+OZRq+xFsJK1UQBR34GRcQeda5AKQ7tDypK2Rj sam@localhost'"
      ]
     },
     "execution_count": 34,
     "metadata": {},
     "output_type": "execute_result"
    }
   ],
   "source": [
    "mongo_machine['cat'](\"/root/.ssh/authorized_keys\")"
   ]
  },
  {
   "cell_type": "code",
   "execution_count": 35,
   "metadata": {},
   "outputs": [
    {
     "data": {
      "text/plain": [
       "'#!/bin/sh\\napt-get install -y mongodb-server\\nservice mongodb start\\n'"
      ]
     },
     "execution_count": 35,
     "metadata": {},
     "output_type": "execute_result"
    }
   ],
   "source": [
    "mongo_machine['cat']('onstart.sh')"
   ]
  },
  {
   "cell_type": "code",
   "execution_count": 36,
   "metadata": {},
   "outputs": [
    {
     "data": {
      "text/plain": [
       "'ssh root@ssh4.vast.ai -p 38753 -i /home/sam/.ssh/vastai'"
      ]
     },
     "execution_count": 36,
     "metadata": {},
     "output_type": "execute_result"
    }
   ],
   "source": [
    "mongo_instance.get_ssh_connection_command()"
   ]
  },
  {
   "cell_type": "code",
   "execution_count": 40,
   "metadata": {},
   "outputs": [
    {
     "data": {
      "text/plain": [
       "[ProcInfo(1, 0, 'Ss+', '/bin/bash -c while [ ! -e /.launch ]; do sleep 1; done; bash /.launch'),\n",
       " ProcInfo(6, 0, 'S+', 'bash /.launch'),\n",
       " ProcInfo(16, 0, 'Ss', '/usr/sbin/sshd'),\n",
       " ProcInfo(21, 0, 'S+', 'ssh -i /etc/forward_key -N -o TCPKeepAlive=yes -o ServerAliveInterval=10 -o ServerAliveCountMax=2 ubuntu@ssh4.vast.ai -o StrictHostKeyChecking=no -o ConnectTimeout=10 -o RequestTTY=no -o ExitOnForwardFailure=yes -R \\\\*:38753:localhost:22'),\n",
       " ProcInfo(44, 103, 'Sl', '/usr/bin/mongod --config /etc/mongodb.conf'),\n",
       " ProcInfo(177, 0, 'Ss', 'sshd: root@notty'),\n",
       " ProcInfo(192, 0, 'Ss', '-bash'),\n",
       " ProcInfo(198, 0, 'Ss', '/usr/lib/openssh/sftp-server'),\n",
       " ProcInfo(200, 0, 'Ss', 'sshd: root@notty'),\n",
       " ProcInfo(215, 0, 'Ss', '-bash'),\n",
       " ProcInfo(221, 0, 'Ss', '/usr/lib/openssh/sftp-server'),\n",
       " ProcInfo(541, 0, 'Rs', '/bin/ps -e -o pid,uid,stat,args')]"
      ]
     },
     "execution_count": 40,
     "metadata": {},
     "output_type": "execute_result"
    }
   ],
   "source": [
    "list(mongo_machine.pgrep(\"\"))"
   ]
  },
  {
   "cell_type": "code",
   "execution_count": 41,
   "metadata": {},
   "outputs": [
    {
     "data": {
      "text/plain": [
       "[ProcInfo(1, 0, 'Ss+', '/bin/bash -c while [ ! -e /.launch ]; do sleep 1; done; bash /.launch'),\n",
       " ProcInfo(6, 0, 'S+', 'bash /.launch'),\n",
       " ProcInfo(16, 0, 'Ss', '/usr/sbin/sshd'),\n",
       " ProcInfo(21, 0, 'S+', 'ssh -i /etc/forward_key -N -o TCPKeepAlive=yes -o ServerAliveInterval=10 -o ServerAliveCountMax=2 ubuntu@ssh4.vast.ai -o StrictHostKeyChecking=no -o ConnectTimeout=10 -o RequestTTY=no -o ExitOnForwardFailure=yes -R \\\\*:38753:localhost:22'),\n",
       " ProcInfo(44, 103, 'Sl', '/usr/bin/mongod --config /etc/mongodb.conf'),\n",
       " ProcInfo(177, 0, 'Ss', 'sshd: root@notty'),\n",
       " ProcInfo(192, 0, 'Ss', '-bash'),\n",
       " ProcInfo(198, 0, 'Ss', '/usr/lib/openssh/sftp-server'),\n",
       " ProcInfo(200, 0, 'Ss', 'sshd: root@notty'),\n",
       " ProcInfo(215, 0, 'Ss', '-bash'),\n",
       " ProcInfo(221, 0, 'Ss', '/usr/lib/openssh/sftp-server'),\n",
       " ProcInfo(542, 0, 'Rs', '/bin/ps -e -o pid,uid,stat,args')]"
      ]
     },
     "execution_count": 41,
     "metadata": {},
     "output_type": "execute_result"
    }
   ],
   "source": [
    "list(worker_machine.pgrep(''))"
   ]
  },
  {
   "cell_type": "code",
   "execution_count": 42,
   "metadata": {},
   "outputs": [
    {
     "name": "stdout",
     "output_type": "stream",
     "text": [
      "Stopping instance 398753.\n",
      "Stopping instance 398754.\n"
     ]
    }
   ],
   "source": [
    "vast.stop_all_instances()"
   ]
  },
  {
   "cell_type": "code",
   "execution_count": 150,
   "metadata": {},
   "outputs": [
    {
     "data": {
      "text/plain": [
       "[398753: offline   $0.0252/hr ssh4.vast.ai:38753  423.8↑ 495.8↓  flops:8.736T\n",
       " \t1X 11.2GB Tesla K80, 16.0/32X 15.7GB Xeon® Silver 4108 \n",
       " \tSuccessfully loaded tensorflow/tensorflow:1.14.0-gpu-py3-jupyter,\n",
       " 398754: offline   $0.0252/hr ssh5.vast.ai:38754  423.8↑ 495.8↓  flops:8.736T\n",
       " \t1X 11.2GB Tesla K80, 16.0/32X 15.7GB Xeon® Silver 4108 \n",
       " \tSuccessfully loaded tensorflow/tensorflow:1.14.0-gpu-py3-jupyter]"
      ]
     },
     "execution_count": 150,
     "metadata": {},
     "output_type": "execute_result"
    }
   ],
   "source": [
    "vast.get_instances()"
   ]
  },
  {
   "cell_type": "code",
   "execution_count": 86,
   "metadata": {},
   "outputs": [],
   "source": [
    "inst=vast.get_instances()[0]"
   ]
  },
  {
   "cell_type": "code",
   "execution_count": 147,
   "metadata": {},
   "outputs": [
    {
     "data": {
      "text/plain": [
       "398753: offline   $0.0252/hr ssh4.vast.ai:38753  423.8↑ 495.8↓  flops:8.736T\n",
       "\t1X 11.2GB Tesla K80, 16.0/32X 15.7GB Xeon® Silver 4108 \n",
       "\tSuccessfully loaded tensorflow/tensorflow:1.14.0-gpu-py3-jupyter"
      ]
     },
     "execution_count": 147,
     "metadata": {},
     "output_type": "execute_result"
    }
   ],
   "source": [
    "inst"
   ]
  },
  {
   "cell_type": "code",
   "execution_count": 149,
   "metadata": {},
   "outputs": [
    {
     "name": "stdout",
     "output_type": "stream",
     "text": [
      "Stopping instance 398753.\n",
      "Stopping instance 398754.\n"
     ]
    }
   ],
   "source": [
    "vast.stop_all_instances()"
   ]
  },
  {
   "cell_type": "code",
   "execution_count": null,
   "metadata": {},
   "outputs": [],
   "source": []
  }
 ],
 "metadata": {
  "kernelspec": {
   "display_name": "vast_python_env",
   "language": "python",
   "name": "vast_python_env"
  },
  "language_info": {
   "codemirror_mode": {
    "name": "ipython",
    "version": 3
   },
   "file_extension": ".py",
   "mimetype": "text/x-python",
   "name": "python",
   "nbconvert_exporter": "python",
   "pygments_lexer": "ipython3",
   "version": "3.6.8"
  }
 },
 "nbformat": 4,
 "nbformat_minor": 2
}
