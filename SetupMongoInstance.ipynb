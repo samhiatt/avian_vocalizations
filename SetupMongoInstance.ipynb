{
 "cells": [
  {
   "cell_type": "code",
   "execution_count": 1,
   "metadata": {},
   "outputs": [],
   "source": [
    "%reload_ext autoreload\n",
    "%autoreload 2"
   ]
  },
  {
   "cell_type": "code",
   "execution_count": 2,
   "metadata": {},
   "outputs": [],
   "source": [
    "from vastai.api import VastClient\n",
    "# import time"
   ]
  },
  {
   "cell_type": "code",
   "execution_count": 160,
   "metadata": {
    "code_folding": []
   },
   "outputs": [],
   "source": [
    "def monitor_output(instance, command_string):\n",
    "    \"\"\" Runs command on a remote machine and monitors output.\n",
    "    \"\"\"\n",
    "    sess=instance.pb_remote.session()\n",
    "    process=sess.popen(command_string)\n",
    "    stderr_closed=False\n",
    "    stdout_closed=False\n",
    "    while True:\n",
    "        try:\n",
    "            err=process.stderr.readline()\n",
    "            if err:\n",
    "                print(err.decode(),end='')\n",
    "        except EOFError:\n",
    "            stderr_closed=True\n",
    "        try:\n",
    "            line=process.stdout.readline()\n",
    "            if line: \n",
    "                print(line.decode(),end='')\n",
    "            else:\n",
    "                break\n",
    "        except EOFError:\n",
    "            stdout_closed=True\n",
    "        if stderr_closed and stdout_closed:\n",
    "            break\n",
    "    sess.close()"
   ]
  },
  {
   "cell_type": "code",
   "execution_count": 4,
   "metadata": {
    "scrolled": true
   },
   "outputs": [
    {
     "name": "stdout",
     "output_type": "stream",
     "text": [
      "api_key_file:  ~/.vast_api_key\n",
      "Initializing vast.ai client with api_key from /home/sam/.vast_api_key.\n",
      "Already logged in.\n"
     ]
    }
   ],
   "source": [
    "vast = VastClient().authenticate()"
   ]
  },
  {
   "cell_type": "markdown",
   "metadata": {},
   "source": [
    "## Search for Available Machines"
   ]
  },
  {
   "cell_type": "code",
   "execution_count": 15,
   "metadata": {},
   "outputs": [],
   "source": [
    "def filter_offers():\n",
    "    return [offer for offer in vast.search_offers('dph', 'dph<.12 inet_down>200', instance_type='on-demand') \n",
    "        if offer['gpu_name'] and offer['id'] not in []]"
   ]
  },
  {
   "cell_type": "code",
   "execution_count": null,
   "metadata": {
    "scrolled": true
   },
   "outputs": [],
   "source": [
    "for offer in filter_offers():\n",
    "    print(offer['id'], offer['dph_total'], offer['gpu_name'], offer['inet_down'], offer['inet_down'])"
   ]
  },
  {
   "cell_type": "markdown",
   "metadata": {},
   "source": [
    "## Start new Instance with Mongodb"
   ]
  },
  {
   "cell_type": "code",
   "execution_count": 11,
   "metadata": {
    "scrolled": true
   },
   "outputs": [
    {
     "name": "stdout",
     "output_type": "stream",
     "text": [
      "https://vast.ai/api/v0/asks/375076/?api_key=e794a3273e5a3e74d545bbc368849ff263f726042cf92587df9519a6cda62e74 \n",
      " {\"client_id\": \"me\", \"image\": \"tensorflow/tensorflow:1.14.0-gpu-py3-jupyter\", \"price\": null, \"disk\": 20, \"label\": null, \"onstart\": \"#!/bin/sh\\ntouch ~/.no_auto_tmux\\napt-get install -y mongodb-server git vim\\nservice mongodb start\\npip install --upgrade pip pipenv\\n\", \"runtype\": \"ssh\", \"python_utf8\": false, \"lang_utf8\": false, \"use_jupyter_lab\": false, \"jupyter_dir\": null, \"create_from\": null, \"force\": false}\n",
      "{\"success\": true, \"new_contract\": 400808}\n",
      "Waiting 60s...\n",
      "Waiting 60s...\n",
      "2019-10-26T02:22:28.598+0000 I STORAGE  [initandlisten] wiredtiger_open config: create,cache_size=7452M,session_max=20000,eviction=(threads_min=4,threads_max=4),config_base=false,statistics=(fast),log=(enabled=true,archive=true,path=journal,compressor=snappy),file_manager=(close_idle_time=100000),statistics_log=(wait=0),verbose=(recovery_progress),\n",
      "2019-10-26T02:22:29.163+0000 I CONTROL  [initandlisten] \n",
      "2019-10-26T02:22:29.163+0000 I CONTROL  [initandlisten] ** WARNING: Access control is not enabled for the database.\n",
      "2019-10-26T02:22:29.163+0000 I CONTROL  [initandlisten] **          Read and write access to data and configuration is unrestricted.\n",
      "2019-10-26T02:22:29.163+0000 I CONTROL  [initandlisten] \n",
      "2019-10-26T02:22:29.163+0000 I STORAGE  [initandlisten] createCollection: admin.system.version with provided UUID: 5e2463d6-cc7d-45de-9dc9-96fa01758f9d\n",
      "2019-10-26T02:22:29.171+0000 I COMMAND  [initandlisten] setting featureCompatibilityVersion to 3.6\n",
      "2019-10-26T02:22:29.174+0000 I STORAGE  [initandlisten] createCollection: local.startup_log with generated UUID: 8fceee6f-3c5e-4927-98ff-b2b09ea5d16b\n",
      "2019-10-26T02:22:29.182+0000 I FTDC     [initandlisten] Initializing full-time diagnostic data capture with directory '/var/lib/mongodb/diagnostic.data'\n",
      "2019-10-26T02:22:29.182+0000 I NETWORK  [initandlisten] waiting for connections on port 27017\n",
      "\n"
     ]
    }
   ],
   "source": [
    "offer = 375076\n",
    "# offer = filter_offers()[0]['id']\n",
    "onstart = \"\"\"#!/bin/sh\n",
    "touch ~/.no_auto_tmux\n",
    "apt-get install -y mongodb-server git vim\n",
    "service mongodb start\n",
    "pip install --upgrade pip pipenv\n",
    "\"\"\"\n",
    "resp=vast.create_instance(offer, disk=20, onstart_cmd=onstart,\n",
    "                          image=\"tensorflow/tensorflow:1.14.0-gpu-py3-jupyter\")\n",
    "mongo_instance_id = resp['new_contract']\n",
    "\n",
    "mongo_instance = vast.get_instance(mongo_instance_id, retries=4).wait_until_running()\n",
    "\n",
    "print(mongo_instance.pb_remote['tail']('/var/log/mongodb/mongodb.log'))"
   ]
  },
  {
   "cell_type": "code",
   "execution_count": 12,
   "metadata": {},
   "outputs": [
    {
     "data": {
      "text/plain": [
       "'ssh root@ssh4.vast.ai -p 10808 -i /home/sam/.ssh/vastai'"
      ]
     },
     "execution_count": 12,
     "metadata": {},
     "output_type": "execute_result"
    }
   ],
   "source": [
    "mongo_instance.ssh_connection_command"
   ]
  },
  {
   "cell_type": "code",
   "execution_count": null,
   "metadata": {
    "code_folding": [
     0
    ]
   },
   "outputs": [],
   "source": [
    "# onstart = \"#!/bin/sh\\n\"\\\n",
    "#           \"touch ~/.no_auto_tmux\\n\"\\\n",
    "#           \"apt-get install -y mongodb-server\\n\"\\\n",
    "#           \"mkdir -p ~/.ssh\\n\"\\\n",
    "#           \"ssh-keygen  -P '' -f ~/.ssh/mongo\\n\"\n",
    "# resp=vast.create_instance(filter_offers()[0]['id'], disk=1, onstart_cmd=onstart,\n",
    "#                           image=\"tensorflow/tensorflow:1.14.0-gpu-py3-jupyter\")\n",
    "# worker_instance_id = resp['new_contract']\n",
    "\n",
    "# time.sleep(30)\n",
    "# worker_instance = vast.get_instance(worker_instance_id)"
   ]
  },
  {
   "cell_type": "markdown",
   "metadata": {},
   "source": [
    "## Install model and download data"
   ]
  },
  {
   "cell_type": "code",
   "execution_count": 161,
   "metadata": {
    "scrolled": true
   },
   "outputs": [
    {
     "name": "stdout",
     "output_type": "stream",
     "text": [
      "Using TensorFlow backend.\n",
      "Installing dependencies from Pipfile.lock (aadd7b)…\n",
      "/root/.local/share/virtualenvs/avian_vocalizations--GzUH1gw/lib/python3.6/site-packages/tensorflow/python/framework/dtypes.py:516: FutureWarning: Passing (type, 1) or '1type' as a synonym of type is deprecated; in a future version of numpy, it will be understood as (type, (1,)) / '(1,)type'.\n",
      "To activate this project's virtualenv, run pipenv shell.\n",
      "  _np_qint8 = np.dtype([(\"qint8\", np.int8, 1)])\n",
      "Alternatively, run a command inside the virtualenv with pipenv run.\n",
      "/root/.local/share/virtualenvs/avian_vocalizations--GzUH1gw/lib/python3.6/site-packages/tensorflow/python/framework/dtypes.py:517: FutureWarning: Passing (type, 1) or '1type' as a synonym of type is deprecated; in a future version of numpy, it will be understood as (type, (1,)) / '(1,)type'.\n",
      "running develop\n",
      "  _np_quint8 = np.dtype([(\"quint8\", np.uint8, 1)])\n",
      "running egg_info\n",
      "/root/.local/share/virtualenvs/avian_vocalizations--GzUH1gw/lib/python3.6/site-packages/tensorflow/python/framework/dtypes.py:518: FutureWarning: Passing (type, 1) or '1type' as a synonym of type is deprecated; in a future version of numpy, it will be understood as (type, (1,)) / '(1,)type'.\n",
      "creating avian_vocalizations.egg-info\n",
      "  _np_qint16 = np.dtype([(\"qint16\", np.int16, 1)])\n",
      "writing avian_vocalizations.egg-info/PKG-INFO\n",
      "/root/.local/share/virtualenvs/avian_vocalizations--GzUH1gw/lib/python3.6/site-packages/tensorflow/python/framework/dtypes.py:519: FutureWarning: Passing (type, 1) or '1type' as a synonym of type is deprecated; in a future version of numpy, it will be understood as (type, (1,)) / '(1,)type'.\n",
      "writing dependency_links to avian_vocalizations.egg-info/dependency_links.txt\n",
      "  _np_quint16 = np.dtype([(\"quint16\", np.uint16, 1)])\n",
      "writing entry points to avian_vocalizations.egg-info/entry_points.txt\n",
      "/root/.local/share/virtualenvs/avian_vocalizations--GzUH1gw/lib/python3.6/site-packages/tensorflow/python/framework/dtypes.py:520: FutureWarning: Passing (type, 1) or '1type' as a synonym of type is deprecated; in a future version of numpy, it will be understood as (type, (1,)) / '(1,)type'.\n",
      "writing requirements to avian_vocalizations.egg-info/requires.txt\n",
      "  _np_qint32 = np.dtype([(\"qint32\", np.int32, 1)])\n",
      "writing top-level names to avian_vocalizations.egg-info/top_level.txt\n",
      "/root/.local/share/virtualenvs/avian_vocalizations--GzUH1gw/lib/python3.6/site-packages/tensorflow/python/framework/dtypes.py:525: FutureWarning: Passing (type, 1) or '1type' as a synonym of type is deprecated; in a future version of numpy, it will be understood as (type, (1,)) / '(1,)type'.\n",
      "writing manifest file 'avian_vocalizations.egg-info/SOURCES.txt'\n",
      "  np_resource = np.dtype([(\"resource\", np.ubyte, 1)])\n",
      "reading manifest file 'avian_vocalizations.egg-info/SOURCES.txt'\n",
      "/root/.local/share/virtualenvs/avian_vocalizations--GzUH1gw/lib/python3.6/site-packages/tensorboard/compat/tensorflow_stub/dtypes.py:541: FutureWarning: Passing (type, 1) or '1type' as a synonym of type is deprecated; in a future version of numpy, it will be understood as (type, (1,)) / '(1,)type'.\n",
      "writing manifest file 'avian_vocalizations.egg-info/SOURCES.txt'\n",
      "  _np_qint8 = np.dtype([(\"qint8\", np.int8, 1)])\n",
      "running build_ext\n",
      "/root/.local/share/virtualenvs/avian_vocalizations--GzUH1gw/lib/python3.6/site-packages/tensorboard/compat/tensorflow_stub/dtypes.py:542: FutureWarning: Passing (type, 1) or '1type' as a synonym of type is deprecated; in a future version of numpy, it will be understood as (type, (1,)) / '(1,)type'.\n",
      "Creating /root/.local/share/virtualenvs/avian_vocalizations--GzUH1gw/lib/python3.6/site-packages/avian-vocalizations.egg-link (link to .)\n",
      "  _np_quint8 = np.dtype([(\"quint8\", np.uint8, 1)])\n",
      "Adding avian-vocalizations 0.0.1 to easy-install.pth file\n",
      "/root/.local/share/virtualenvs/avian_vocalizations--GzUH1gw/lib/python3.6/site-packages/tensorboard/compat/tensorflow_stub/dtypes.py:543: FutureWarning: Passing (type, 1) or '1type' as a synonym of type is deprecated; in a future version of numpy, it will be understood as (type, (1,)) / '(1,)type'.\n",
      "Installing download_data script to /root/.local/share/virtualenvs/avian_vocalizations--GzUH1gw/bin\n",
      "  _np_qint16 = np.dtype([(\"qint16\", np.int16, 1)])\n",
      "\n",
      "/root/.local/share/virtualenvs/avian_vocalizations--GzUH1gw/lib/python3.6/site-packages/tensorboard/compat/tensorflow_stub/dtypes.py:544: FutureWarning: Passing (type, 1) or '1type' as a synonym of type is deprecated; in a future version of numpy, it will be understood as (type, (1,)) / '(1,)type'.\n",
      "Installed /root/avian_vocalizations\n",
      "  _np_quint16 = np.dtype([(\"quint16\", np.uint16, 1)])\n",
      "Processing dependencies for avian-vocalizations==0.0.1\n",
      "/root/.local/share/virtualenvs/avian_vocalizations--GzUH1gw/lib/python3.6/site-packages/tensorboard/compat/tensorflow_stub/dtypes.py:545: FutureWarning: Passing (type, 1) or '1type' as a synonym of type is deprecated; in a future version of numpy, it will be understood as (type, (1,)) / '(1,)type'.\n",
      "Finished processing dependencies for avian-vocalizations==0.0.1\n",
      "  _np_qint32 = np.dtype([(\"qint32\", np.int32, 1)])\n",
      "Creating data dir /root/avian_vocalizations/data\n",
      "/root/.local/share/virtualenvs/avian_vocalizations--GzUH1gw/lib/python3.6/site-packages/tensorboard/compat/tensorflow_stub/dtypes.py:550: FutureWarning: Passing (type, 1) or '1type' as a synonym of type is deprecated; in a future version of numpy, it will be understood as (type, (1,)) / '(1,)type'.\n",
      "Downloading and extracting https://xeno-canto-ca-nv.s3.amazonaws.com/avian-vocalizations-partitioned-data.zip\n",
      "  np_resource = np.dtype([(\"resource\", np.ubyte, 1)])\n",
      "Downloaded avian-vocalizations-partitioned-data.zip\n",
      "-bash: line 10: syntax error near unexpected token `;'\n",
      "Extracted /root/avian_vocalizations/data/train_file_ids.csv.\n",
      "-bash: line 10: ` ; echo $? ; echo '--.END427778093.6518772.--' ; echo '--.END427778093.6518772.--' 1>&2'\n",
      "Extracted /root/avian_vocalizations/data/test_file_ids.csv.\n",
      "Extracted /root/avian_vocalizations/data/xeno-canto_ca-nv_index.csv.\n",
      "Downloading and extracting https://xeno-canto-ca-nv.s3.amazonaws.com/xenocanto-avian-vocalizations-canv-usa.zip\n",
      "Downloaded xenocanto-avian-vocalizations-canv-usa.zip\n",
      "Extracted /root/avian_vocalizations/data/xeno-canto-ca-nv.zip.\n",
      "Extracted /root/avian_vocalizations/data/xeno-canto_ca-nv_index.csv.\n",
      "Downloading and extracting https://xeno-canto-ca-nv.s3.amazonaws.com/avian-vocalizations-spectrograms-and-mfccs.zip\n",
      "Downloaded avian-vocalizations-spectrograms-and-mfccs.zip\n",
      "Extracted /root/avian_vocalizations/data/mfccs.zip.\n",
      "Extracted /root/avian_vocalizations/data/melspectrograms.zip.\n",
      "Extracted /root/avian_vocalizations/data/feature_shapes.csv.\n",
      "Extracted contents of xeno-canto-ca-nv.zip to data/audio.\n",
      "Extracted contents of melspectrograms.zip to data/features.\n",
      "Extracted contents of mfccs.zip to data/features.\n"
     ]
    }
   ],
   "source": [
    "install_script = \"\"\"cd ~\n",
    "[ ! -d avian_vocalizations ] && git clone https://github.com/samhiatt/avian_vocalizations.git\n",
    "cd avian_vocalizations\n",
    "export LC_ALL=C.UTF-8\n",
    "export LANG=C.UTF-8\n",
    "pipenv install\n",
    "pipenv run python setup.py develop\n",
    "pipenv run download_data\n",
    "\"\"\"\n",
    "# monitor_output(mongo_instance, install_script)\n",
    "result=mongo_instance.pb_remote.session().run(install_script)"
   ]
  },
  {
   "cell_type": "code",
   "execution_count": 19,
   "metadata": {},
   "outputs": [
    {
     "data": {
      "text/plain": [
       "'pipenv run hyperopt-mongo-worker --mongo=localhost:27017/hyperopt --max-consecutive-failures=1 --reserve-timeout=36600;'"
      ]
     },
     "execution_count": 19,
     "metadata": {},
     "output_type": "execute_result"
    }
   ],
   "source": [
    "result = mongo_instance.pb_remote.session().run(\n",
    "    \"cd ~/avian_vocalizations;\"\n",
    "    \"pipenv run hyperopt-mongo-worker --mongo=localhost:27017/hyperopt \"\n",
    "    \"--max-consecutive-failures=1 --reserve-timeout=36600 --workdir=.;\")"
   ]
  },
  {
   "cell_type": "code",
   "execution_count": 152,
   "metadata": {},
   "outputs": [
    {
     "data": {
      "text/plain": [
       "'ssh root@ssh4.vast.ai -p 10808 -i /home/sam/.ssh/vastai'"
      ]
     },
     "execution_count": 152,
     "metadata": {},
     "output_type": "execute_result"
    }
   ],
   "source": [
    "mongo_instance.ssh_connection_command\n"
   ]
  },
  {
   "cell_type": "code",
   "execution_count": 10,
   "metadata": {},
   "outputs": [
    {
     "data": {
      "text/plain": [
       "400500: running   $0.0921/hr ssh5.vast.ai:10500  343.6↑ 434.2↓  flops:9.295104T\n",
       "\t1X 7.9GB GTX 1070 Ti, 10.666656/32X 23.8GB AMD Ryzen Threadripper 1950X 16-Core Processor\n",
       "\tSuccessfully loaded tensorflow/tensorflow:1.14.0-gpu-py3-jupyter"
      ]
     },
     "execution_count": 10,
     "metadata": {},
     "output_type": "execute_result"
    }
   ],
   "source": [
    "mongo_instance.wait_until_running()"
   ]
  },
  {
   "cell_type": "code",
   "execution_count": 11,
   "metadata": {
    "scrolled": true
   },
   "outputs": [
    {
     "data": {
      "text/plain": [
       "'ssh root@ssh5.vast.ai -p 10500 -i /home/sam/.ssh/vastai'"
      ]
     },
     "execution_count": 11,
     "metadata": {},
     "output_type": "execute_result"
    }
   ],
   "source": [
    "mongo_instance.get_ssh_connection_command()"
   ]
  },
  {
   "cell_type": "code",
   "execution_count": 40,
   "metadata": {},
   "outputs": [
    {
     "name": "stdout",
     "output_type": "stream",
     "text": [
      "status is 'loading', waiting 60s...\n"
     ]
    },
    {
     "data": {
      "text/plain": [
       "       ID Machine   Status  Num        Model Util. % vCPUs   RAM Storage      SSH Addr SSH Port    $/hr                                         Image Net up Net down     R\n",
       "0  398092     940  running  1 x  GTX 1070 Ti     0.0   4.0  32.0       1  ssh5.vast.ai    26322  0.0864  tensorflow/tensorflow:1.14.0-gpu-py3-jupyter  302.2    314.6  97.8"
      ]
     },
     "execution_count": 40,
     "metadata": {},
     "output_type": "execute_result"
    }
   ],
   "source": [
    "# worker_instance.wait_until_running()"
   ]
  },
  {
   "cell_type": "code",
   "execution_count": 26,
   "metadata": {},
   "outputs": [
    {
     "data": {
      "text/plain": [
       "[' * Checking status of database mongodb', '   ...done.', '']"
      ]
     },
     "metadata": {},
     "output_type": "display_data"
    }
   ],
   "source": [
    "print(mongo_instance.pb_remote['service'](['mongodb','status']))"
   ]
  },
  {
   "cell_type": "code",
   "execution_count": 27,
   "metadata": {},
   "outputs": [
    {
     "data": {
      "text/plain": [
       "True"
      ]
     },
     "execution_count": 27,
     "metadata": {},
     "output_type": "execute_result"
    }
   ],
   "source": [
    "worker_machine.path('~/.ssh/mongo.pub').isfile()"
   ]
  },
  {
   "cell_type": "code",
   "execution_count": 28,
   "metadata": {},
   "outputs": [
    {
     "data": {
      "text/plain": [
       "'ssh-rsa AAAAB3NzaC1yc2EAAAADAQABAAABAQCwQNWg4ud+cP01AhsHEPohGD7/XRafkPiR0PpUrxMX6NOZUgOYuQzK9EN/667HhTnYJm6Yhez/gNGM8/GGzvuDoQQZazEwpnDtCQsgzS9wjBqmxT7pb2jeLuzZGGoXGMN2tY2dNw6TOJvc80QJKtU3hj4NEynTPi96uz888iClf6Gc8/H9rZYkZGF8jBgm5i8ONlbMWDHGlFryOtbuW2XZQZ+Li7ZP8Ad3ozk1pcZIW26IFcihqlxo8sEh+nHyY/Xsyt1bfjy6B7V3rDOBradwxnH5JGiSIZjobLRXrVJ4xxEk/GfJrhywdK3g8lTwVBUdasXJpI08m3P27sszlleB root@b9df8fc9c11d\\n'"
      ]
     },
     "execution_count": 28,
     "metadata": {},
     "output_type": "execute_result"
    }
   ],
   "source": [
    "pub_key=worker_machine['cat'](worker_machine.path('~/.ssh/mongo.pub'))\n",
    "pub_key"
   ]
  },
  {
   "cell_type": "code",
   "execution_count": null,
   "metadata": {},
   "outputs": [],
   "source": [
    "mongo_machine.session().run('echo \"\\n%s\" >> %s'%(pub_key, mongo_machine.path('~/.ssh/authorized_keys')))"
   ]
  },
  {
   "cell_type": "code",
   "execution_count": 30,
   "metadata": {
    "scrolled": true
   },
   "outputs": [
    {
     "data": {
      "text/plain": [
       "'ssh-rsa AAAAB3NzaC1yc2EAAAADAQABAAABAQDaKOIegXeknsbwKsyvY+sdgRFn71kg9yr64ktpV17ImXrggQ+LHmhqMhbv/1gNQhNKIRJz7FllaxxQZkeOnqcv/tLpom3NaZG7OMWkfRR7IK1Apv4n9J2sGUIHlBTyjdDmawiXlttzDjphcR0ZSZ58V+8Hr/S7L+pb1nkXmSY109LV6XjYjo1DPmngU+lnAFilErV3fSZFnmKDA95xQH+ZVN91nKO/jsUOLAIeIo4o5aSR/nv8KGB9GpKbVAueXPji/HrWijXuWSepEtbhtBq8cXTFqgoakhD/Cz4kmZIqwVOLRU+OZRq+xFsJK1UQBR34GRcQeda5AKQ7tDypK2Rj sam@localhost\\nssh-rsa AAAAB3NzaC1yc2EAAAADAQABAAABAQCwQNWg4ud+cP01AhsHEPohGD7/XRafkPiR0PpUrxMX6NOZUgOYuQzK9EN/667HhTnYJm6Yhez/gNGM8/GGzvuDoQQZazEwpnDtCQsgzS9wjBqmxT7pb2jeLuzZGGoXGMN2tY2dNw6TOJvc80QJKtU3hj4NEynTPi96uz888iClf6Gc8/H9rZYkZGF8jBgm5i8ONlbMWDHGlFryOtbuW2XZQZ+Li7ZP8Ad3ozk1pcZIW26IFcihqlxo8sEh+nHyY/Xsyt1bfjy6B7V3rDOBradwxnH5JGiSIZjobLRXrVJ4xxEk/GfJrhywdK3g8lTwVBUdasXJpI08m3P27sszlleB root@b9df8fc9c11d\\n\\n'"
      ]
     },
     "execution_count": 30,
     "metadata": {},
     "output_type": "execute_result"
    }
   ],
   "source": [
    "mongo_machine['cat'](mongo_machine.path('~/.ssh/authorized_keys'))"
   ]
  },
  {
   "cell_type": "code",
   "execution_count": 32,
   "metadata": {},
   "outputs": [
    {
     "data": {
      "text/plain": [
       "'ssh root@ssh5.vast.ai -p 38754 -i /home/sam/.ssh/vastai'"
      ]
     },
     "execution_count": 32,
     "metadata": {},
     "output_type": "execute_result"
    }
   ],
   "source": [
    "worker_instance.get_ssh_connection_command()"
   ]
  },
  {
   "cell_type": "code",
   "execution_count": 33,
   "metadata": {},
   "outputs": [
    {
     "data": {
      "text/plain": [
       "'ssh root@ssh4.vast.ai -p 38753 -i /home/sam/.ssh/vastai'"
      ]
     },
     "execution_count": 33,
     "metadata": {},
     "output_type": "execute_result"
    }
   ],
   "source": [
    "mongo_instance.get_ssh_connection_command()"
   ]
  },
  {
   "cell_type": "code",
   "execution_count": 81,
   "metadata": {},
   "outputs": [
    {
     "data": {
      "text/plain": [
       "'/root/.ssh/mongo.pub'"
      ]
     },
     "execution_count": 81,
     "metadata": {},
     "output_type": "execute_result"
    }
   ],
   "source": [
    "\"%s\"%mongo_machine.path('~/.ssh/mongo.pub')"
   ]
  },
  {
   "cell_type": "code",
   "execution_count": 6,
   "metadata": {},
   "outputs": [],
   "source": [
    "mongo_instance = vast.get_instance(398753)"
   ]
  },
  {
   "cell_type": "code",
   "execution_count": 7,
   "metadata": {},
   "outputs": [],
   "source": [
    "worker_instance = vast.get_instance(398754)"
   ]
  },
  {
   "cell_type": "code",
   "execution_count": 8,
   "metadata": {},
   "outputs": [
    {
     "name": "stdout",
     "output_type": "stream",
     "text": [
      "Starting instance 398753.\n"
     ]
    },
    {
     "data": {
      "text/plain": [
       "<ParamikoMachine paramiko://root@ssh4.vast.ai>"
      ]
     },
     "execution_count": 8,
     "metadata": {},
     "output_type": "execute_result"
    }
   ],
   "source": [
    "mongo_instance.start().wait_until_running(check_every_s=15)\n",
    "mongo_machine = mongo_instance.pb_remote()\n",
    "mongo_machine"
   ]
  },
  {
   "cell_type": "code",
   "execution_count": 19,
   "metadata": {},
   "outputs": [
    {
     "name": "stdout",
     "output_type": "stream",
     "text": [
      "/root\n",
      "\n"
     ]
    }
   ],
   "source": [
    "print(mongo_machine['pwd']())"
   ]
  },
  {
   "cell_type": "code",
   "execution_count": null,
   "metadata": {},
   "outputs": [],
   "source": []
  },
  {
   "cell_type": "code",
   "execution_count": null,
   "metadata": {},
   "outputs": [],
   "source": [
    "worker_instance.start().wait_until_running()\n",
    "worker_machine = mongo_instance.pb_remote()\n",
    "worker_machine"
   ]
  },
  {
   "cell_type": "code",
   "execution_count": 34,
   "metadata": {},
   "outputs": [
    {
     "data": {
      "text/plain": [
       "'ssh-rsa AAAAB3NzaC1yc2EAAAADAQABAAABAQDaKOIegXeknsbwKsyvY+sdgRFn71kg9yr64ktpV17ImXrggQ+LHmhqMhbv/1gNQhNKIRJz7FllaxxQZkeOnqcv/tLpom3NaZG7OMWkfRR7IK1Apv4n9J2sGUIHlBTyjdDmawiXlttzDjphcR0ZSZ58V+8Hr/S7L+pb1nkXmSY109LV6XjYjo1DPmngU+lnAFilErV3fSZFnmKDA95xQH+ZVN91nKO/jsUOLAIeIo4o5aSR/nv8KGB9GpKbVAueXPji/HrWijXuWSepEtbhtBq8cXTFqgoakhD/Cz4kmZIqwVOLRU+OZRq+xFsJK1UQBR34GRcQeda5AKQ7tDypK2Rj sam@localhost'"
      ]
     },
     "execution_count": 34,
     "metadata": {},
     "output_type": "execute_result"
    }
   ],
   "source": [
    "mongo_machine['cat'](\"/root/.ssh/authorized_keys\")"
   ]
  },
  {
   "cell_type": "code",
   "execution_count": 35,
   "metadata": {},
   "outputs": [
    {
     "data": {
      "text/plain": [
       "'#!/bin/sh\\napt-get install -y mongodb-server\\nservice mongodb start\\n'"
      ]
     },
     "execution_count": 35,
     "metadata": {},
     "output_type": "execute_result"
    }
   ],
   "source": [
    "mongo_machine['cat']('onstart.sh')"
   ]
  },
  {
   "cell_type": "code",
   "execution_count": 36,
   "metadata": {},
   "outputs": [
    {
     "data": {
      "text/plain": [
       "'ssh root@ssh4.vast.ai -p 38753 -i /home/sam/.ssh/vastai'"
      ]
     },
     "execution_count": 36,
     "metadata": {},
     "output_type": "execute_result"
    }
   ],
   "source": [
    "mongo_instance.get_ssh_connection_command()"
   ]
  },
  {
   "cell_type": "code",
   "execution_count": 40,
   "metadata": {},
   "outputs": [
    {
     "data": {
      "text/plain": [
       "[ProcInfo(1, 0, 'Ss+', '/bin/bash -c while [ ! -e /.launch ]; do sleep 1; done; bash /.launch'),\n",
       " ProcInfo(6, 0, 'S+', 'bash /.launch'),\n",
       " ProcInfo(16, 0, 'Ss', '/usr/sbin/sshd'),\n",
       " ProcInfo(21, 0, 'S+', 'ssh -i /etc/forward_key -N -o TCPKeepAlive=yes -o ServerAliveInterval=10 -o ServerAliveCountMax=2 ubuntu@ssh4.vast.ai -o StrictHostKeyChecking=no -o ConnectTimeout=10 -o RequestTTY=no -o ExitOnForwardFailure=yes -R \\\\*:38753:localhost:22'),\n",
       " ProcInfo(44, 103, 'Sl', '/usr/bin/mongod --config /etc/mongodb.conf'),\n",
       " ProcInfo(177, 0, 'Ss', 'sshd: root@notty'),\n",
       " ProcInfo(192, 0, 'Ss', '-bash'),\n",
       " ProcInfo(198, 0, 'Ss', '/usr/lib/openssh/sftp-server'),\n",
       " ProcInfo(200, 0, 'Ss', 'sshd: root@notty'),\n",
       " ProcInfo(215, 0, 'Ss', '-bash'),\n",
       " ProcInfo(221, 0, 'Ss', '/usr/lib/openssh/sftp-server'),\n",
       " ProcInfo(541, 0, 'Rs', '/bin/ps -e -o pid,uid,stat,args')]"
      ]
     },
     "execution_count": 40,
     "metadata": {},
     "output_type": "execute_result"
    }
   ],
   "source": [
    "list(mongo_machine.pgrep(\"\"))"
   ]
  },
  {
   "cell_type": "code",
   "execution_count": 41,
   "metadata": {},
   "outputs": [
    {
     "data": {
      "text/plain": [
       "[ProcInfo(1, 0, 'Ss+', '/bin/bash -c while [ ! -e /.launch ]; do sleep 1; done; bash /.launch'),\n",
       " ProcInfo(6, 0, 'S+', 'bash /.launch'),\n",
       " ProcInfo(16, 0, 'Ss', '/usr/sbin/sshd'),\n",
       " ProcInfo(21, 0, 'S+', 'ssh -i /etc/forward_key -N -o TCPKeepAlive=yes -o ServerAliveInterval=10 -o ServerAliveCountMax=2 ubuntu@ssh4.vast.ai -o StrictHostKeyChecking=no -o ConnectTimeout=10 -o RequestTTY=no -o ExitOnForwardFailure=yes -R \\\\*:38753:localhost:22'),\n",
       " ProcInfo(44, 103, 'Sl', '/usr/bin/mongod --config /etc/mongodb.conf'),\n",
       " ProcInfo(177, 0, 'Ss', 'sshd: root@notty'),\n",
       " ProcInfo(192, 0, 'Ss', '-bash'),\n",
       " ProcInfo(198, 0, 'Ss', '/usr/lib/openssh/sftp-server'),\n",
       " ProcInfo(200, 0, 'Ss', 'sshd: root@notty'),\n",
       " ProcInfo(215, 0, 'Ss', '-bash'),\n",
       " ProcInfo(221, 0, 'Ss', '/usr/lib/openssh/sftp-server'),\n",
       " ProcInfo(542, 0, 'Rs', '/bin/ps -e -o pid,uid,stat,args')]"
      ]
     },
     "execution_count": 41,
     "metadata": {},
     "output_type": "execute_result"
    }
   ],
   "source": [
    "list(worker_machine.pgrep(''))"
   ]
  },
  {
   "cell_type": "code",
   "execution_count": 42,
   "metadata": {},
   "outputs": [
    {
     "name": "stdout",
     "output_type": "stream",
     "text": [
      "Stopping instance 398753.\n",
      "Stopping instance 398754.\n"
     ]
    }
   ],
   "source": [
    "vast.stop_all_instances()"
   ]
  },
  {
   "cell_type": "code",
   "execution_count": 150,
   "metadata": {},
   "outputs": [
    {
     "data": {
      "text/plain": [
       "[398753: offline   $0.0252/hr ssh4.vast.ai:38753  423.8↑ 495.8↓  flops:8.736T\n",
       " \t1X 11.2GB Tesla K80, 16.0/32X 15.7GB Xeon® Silver 4108 \n",
       " \tSuccessfully loaded tensorflow/tensorflow:1.14.0-gpu-py3-jupyter,\n",
       " 398754: offline   $0.0252/hr ssh5.vast.ai:38754  423.8↑ 495.8↓  flops:8.736T\n",
       " \t1X 11.2GB Tesla K80, 16.0/32X 15.7GB Xeon® Silver 4108 \n",
       " \tSuccessfully loaded tensorflow/tensorflow:1.14.0-gpu-py3-jupyter]"
      ]
     },
     "execution_count": 150,
     "metadata": {},
     "output_type": "execute_result"
    }
   ],
   "source": [
    "vast.get_instances()"
   ]
  },
  {
   "cell_type": "code",
   "execution_count": 86,
   "metadata": {},
   "outputs": [],
   "source": [
    "inst=vast.get_instances()[0]"
   ]
  },
  {
   "cell_type": "code",
   "execution_count": 147,
   "metadata": {},
   "outputs": [
    {
     "data": {
      "text/plain": [
       "398753: offline   $0.0252/hr ssh4.vast.ai:38753  423.8↑ 495.8↓  flops:8.736T\n",
       "\t1X 11.2GB Tesla K80, 16.0/32X 15.7GB Xeon® Silver 4108 \n",
       "\tSuccessfully loaded tensorflow/tensorflow:1.14.0-gpu-py3-jupyter"
      ]
     },
     "execution_count": 147,
     "metadata": {},
     "output_type": "execute_result"
    }
   ],
   "source": [
    "inst"
   ]
  },
  {
   "cell_type": "code",
   "execution_count": 149,
   "metadata": {},
   "outputs": [
    {
     "name": "stdout",
     "output_type": "stream",
     "text": [
      "Stopping instance 398753.\n",
      "Stopping instance 398754.\n"
     ]
    }
   ],
   "source": [
    "vast.stop_all_instances()"
   ]
  },
  {
   "cell_type": "code",
   "execution_count": null,
   "metadata": {},
   "outputs": [],
   "source": []
  }
 ],
 "metadata": {
  "kernelspec": {
   "display_name": "avian_vocalizations",
   "language": "python",
   "name": "avian_vocalizations"
  },
  "language_info": {
   "codemirror_mode": {
    "name": "ipython",
    "version": 3
   },
   "file_extension": ".py",
   "mimetype": "text/x-python",
   "name": "python",
   "nbconvert_exporter": "python",
   "pygments_lexer": "ipython3",
   "version": "3.6.8"
  }
 },
 "nbformat": 4,
 "nbformat_minor": 2
}
